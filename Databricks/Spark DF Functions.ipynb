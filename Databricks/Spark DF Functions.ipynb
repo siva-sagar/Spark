{
 "cells": [
  {
   "cell_type": "markdown",
   "metadata": {
    "application/vnd.databricks.v1+cell": {
     "cellMetadata": {},
     "inputWidgets": {},
     "nuid": "f6421fe0-f1e5-4dbd-9de7-cdaa1df5592a",
     "showTitle": false,
     "title": ""
    }
   },
   "source": [
    "#Spark DF Creation with List"
   ]
  },
  {
   "cell_type": "code",
   "execution_count": 0,
   "metadata": {
    "application/vnd.databricks.v1+cell": {
     "cellMetadata": {
      "byteLimit": 2048000,
      "rowLimit": 10000
     },
     "inputWidgets": {},
     "nuid": "6559422c-599a-4b47-8a46-dc5d52647a92",
     "showTitle": false,
     "title": ""
    }
   },
   "outputs": [
    {
     "output_type": "stream",
     "name": "stdout",
     "output_type": "stream",
     "text": [
      "+-------+------+------+\n|   name|gender|Salary|\n+-------+------+------+\n|  Sagar|     M| 70000|\n| Bhavya|     F|100000|\n|Krishna|     M|100000|\n| Prabha|     F| 90000|\n|  Romeo|  null| 50000|\n+-------+------+------+\n\n"
     ]
    }
   ],
   "source": [
    "emp_data = [(\"Sagar\",\"M\",\"70000\"),\n",
    "            (\"Bhavya\",\"F\",\"100000\"),\n",
    "            (\"Krishna\",\"M\",\"100000\"),\n",
    "            (\"Prabha\",\"F\",\"90000\"),\n",
    "            (\"Romeo\",None,\"50000\")]\n",
    "columns = [\"name\" ,\"gender\", \"Salary\"]\n",
    "emp_df = spark.createDataFrame(data = emp_data, schema = columns)\n",
    "\n",
    "emp_df.show()"
   ]
  },
  {
   "cell_type": "markdown",
   "metadata": {
    "application/vnd.databricks.v1+cell": {
     "cellMetadata": {},
     "inputWidgets": {},
     "nuid": "25fa5145-630e-4f0f-9131-5508106590ac",
     "showTitle": false,
     "title": ""
    }
   },
   "source": [
    "#When and Otherwise"
   ]
  },
  {
   "cell_type": "code",
   "execution_count": 0,
   "metadata": {
    "application/vnd.databricks.v1+cell": {
     "cellMetadata": {
      "byteLimit": 2048000,
      "rowLimit": 10000
     },
     "inputWidgets": {},
     "nuid": "c7127b43-8b91-4c3a-b67d-d5386ef72024",
     "showTitle": false,
     "title": ""
    }
   },
   "outputs": [
    {
     "output_type": "stream",
     "name": "stdout",
     "output_type": "stream",
     "text": [
      "+-------+------+------+------+\n|   name|gender|Salary|   sex|\n+-------+------+------+------+\n|  Sagar|     M| 70000|  Male|\n| Bhavya|     F|100000|Female|\n|Krishna|     M|100000|  Male|\n| Prabha|     F| 90000|Female|\n|  Romeo|  null| 50000|      |\n+-------+------+------+------+\n\n"
     ]
    }
   ],
   "source": [
    "from pyspark.sql.functions import when\n",
    "\n",
    "emp_updated_df = (emp_df.withColumn(\"sex\", when(emp_df.gender == \"M\", \"Male\")\n",
    "                  .when(emp_df.gender == \"F\", \"Female\")\n",
    "                  .when(emp_df.gender.isNull(), \"\")\n",
    "                  .otherwise(emp_df.gender)))\n",
    "emp_updated_df.show()"
   ]
  },
  {
   "cell_type": "code",
   "execution_count": 0,
   "metadata": {
    "application/vnd.databricks.v1+cell": {
     "cellMetadata": {
      "byteLimit": 2048000,
      "rowLimit": 10000
     },
     "inputWidgets": {},
     "nuid": "9a70700e-49bc-48d7-8c1f-af2656e24db6",
     "showTitle": false,
     "title": ""
    }
   },
   "outputs": [],
   "source": [
    "emp_new_df = emp_updated_df.drop(\"gender\")"
   ]
  },
  {
   "cell_type": "code",
   "execution_count": 0,
   "metadata": {
    "application/vnd.databricks.v1+cell": {
     "cellMetadata": {
      "byteLimit": 2048000,
      "rowLimit": 10000
     },
     "inputWidgets": {},
     "nuid": "a1f03222-bbe6-4e0b-978e-673cf222450d",
     "showTitle": false,
     "title": ""
    }
   },
   "outputs": [
    {
     "output_type": "stream",
     "name": "stdout",
     "output_type": "stream",
     "text": [
      "+-------+------+------+\n|   name|Salary|   sex|\n+-------+------+------+\n|  Sagar| 70000|  Male|\n| Bhavya|100000|Female|\n|Krishna|100000|  Male|\n| Prabha| 90000|Female|\n|  Romeo| 50000|      |\n+-------+------+------+\n\n"
     ]
    }
   ],
   "source": [
    "emp_new_df.show()"
   ]
  },
  {
   "cell_type": "markdown",
   "metadata": {
    "application/vnd.databricks.v1+cell": {
     "cellMetadata": {},
     "inputWidgets": {},
     "nuid": "2a813d16-7d3e-494d-869f-ef9a62416bbd",
     "showTitle": false,
     "title": ""
    }
   },
   "source": [
    "#expr"
   ]
  },
  {
   "cell_type": "code",
   "execution_count": 0,
   "metadata": {
    "application/vnd.databricks.v1+cell": {
     "cellMetadata": {
      "byteLimit": 2048000,
      "rowLimit": 10000
     },
     "inputWidgets": {},
     "nuid": "ccefb183-8095-4841-9039-0eea26de71f3",
     "showTitle": false,
     "title": ""
    }
   },
   "outputs": [
    {
     "output_type": "stream",
     "name": "stdout",
     "output_type": "stream",
     "text": [
      "+-------+------+------+------+\n|   name|gender|Salary|   sex|\n+-------+------+------+------+\n|  Sagar|     M| 70000|  male|\n| Bhavya|     F|100000|female|\n|Krishna|     M|100000|  male|\n| Prabha|     F| 90000|female|\n|  Romeo|  null| 50000|      |\n+-------+------+------+------+\n\n"
     ]
    }
   ],
   "source": [
    "from pyspark.sql.functions import expr\n",
    "\n",
    "new_df = emp_df.withColumn(\"sex\", expr(\"\"\"CASE WHEN gender = 'M' THEN \"male\"\n",
    "                                       WHEN gender = 'F' THEN \"female\"\n",
    "                                       WHEN gender IS NULL THEN ''\n",
    "                                       ELSE gender\n",
    "                                       END\"\"\"))\n",
    "\n",
    "new_df.show()"
   ]
  },
  {
   "cell_type": "markdown",
   "metadata": {
    "application/vnd.databricks.v1+cell": {
     "cellMetadata": {},
     "inputWidgets": {},
     "nuid": "8e48b792-98c8-41e2-9012-788553ae7950",
     "showTitle": false,
     "title": ""
    }
   },
   "source": [
    "#lit"
   ]
  },
  {
   "cell_type": "code",
   "execution_count": 0,
   "metadata": {
    "application/vnd.databricks.v1+cell": {
     "cellMetadata": {
      "byteLimit": 2048000,
      "rowLimit": 10000
     },
     "inputWidgets": {},
     "nuid": "0d1c280f-7aef-4e5b-bce3-3fed9cf238df",
     "showTitle": false,
     "title": ""
    }
   },
   "outputs": [
    {
     "output_type": "stream",
     "name": "stdout",
     "output_type": "stream",
     "text": [
      "+-------+------+------+------------+\n|   name|gender|Salary|Organization|\n+-------+------+------+------------+\n|  Sagar|     M| 70000|    Facebook|\n| Bhavya|     F|100000|    Facebook|\n|Krishna|     M|100000|    Facebook|\n| Prabha|     F| 90000|    Facebook|\n|  Romeo|  null| 50000|    Facebook|\n+-------+------+------+------------+\n\n"
     ]
    }
   ],
   "source": [
    "from pyspark.sql.functions import lit\n",
    "\n",
    "new_df = emp_df.withColumn(\"Organization\", lit(\"Facebook\"))\n",
    "new_df.show()"
   ]
  },
  {
   "cell_type": "markdown",
   "metadata": {
    "application/vnd.databricks.v1+cell": {
     "cellMetadata": {},
     "inputWidgets": {},
     "nuid": "3b866d00-3375-4eb9-bce6-62a1ce40a3ed",
     "showTitle": false,
     "title": ""
    }
   },
   "source": [
    "#Split"
   ]
  },
  {
   "cell_type": "code",
   "execution_count": 0,
   "metadata": {
    "application/vnd.databricks.v1+cell": {
     "cellMetadata": {
      "byteLimit": 2048000,
      "rowLimit": 10000
     },
     "inputWidgets": {},
     "nuid": "359f32f1-3545-4452-8fd4-39f35ab7eb87",
     "showTitle": false,
     "title": ""
    }
   },
   "outputs": [
    {
     "output_type": "stream",
     "name": "stdout",
     "output_type": "stream",
     "text": [
      "+--------------------+------+------+\n|                name|gender|salary|\n+--------------------+------+------+\n|Siva,Sagar,Kolachina|     M| 70000|\n|Bhavya,Sree,Kolac...|     F|100000|\n|Krishna,Mohan,Kol...|     M|100000|\n|Chandra,Prabha,Ko...|     F| 90000|\n| Romeo,Mario,Antonio|  null| 50000|\n+--------------------+------+------+\n\n"
     ]
    }
   ],
   "source": [
    "from pyspark.sql.functions import split\n",
    "\n",
    "emp_data = [(\"Siva,Sagar,Kolachina\",\"M\",\"70000\"),\n",
    "            (\"Bhavya,Sree,Kolachina\",\"F\",\"100000\"),\n",
    "            (\"Krishna,Mohan,Kolachina\",\"M\",\"100000\"),\n",
    "            (\"Chandra,Prabha,Kolachina\",\"F\",\"90000\"),\n",
    "            (\"Romeo,Mario,Antonio\",None,\"50000\")]\n",
    "col = [\"name\", \"gender\",\"salary\"]\n",
    "emp_df = spark.createDataFrame(data= emp_data, schema = col)\n",
    "emp_df.show()"
   ]
  },
  {
   "cell_type": "code",
   "execution_count": 0,
   "metadata": {
    "application/vnd.databricks.v1+cell": {
     "cellMetadata": {
      "byteLimit": 2048000,
      "rowLimit": 10000
     },
     "inputWidgets": {},
     "nuid": "16e6e52d-9f55-43ce-a00f-e80b36012d7b",
     "showTitle": false,
     "title": ""
    }
   },
   "outputs": [
    {
     "output_type": "stream",
     "name": "stdout",
     "output_type": "stream",
     "text": [
      "+--------------------+------+------+----------+-----------+---------+\n|                name|gender|salary|First_name|Middle_name|Last_name|\n+--------------------+------+------+----------+-----------+---------+\n|Siva,Sagar,Kolachina|     M| 70000|      Siva|      Sagar|Kolachina|\n|Bhavya,Sree,Kolac...|     F|100000|    Bhavya|       Sree|Kolachina|\n|Krishna,Mohan,Kol...|     M|100000|   Krishna|      Mohan|Kolachina|\n|Chandra,Prabha,Ko...|     F| 90000|   Chandra|     Prabha|Kolachina|\n| Romeo,Mario,Antonio|  null| 50000|     Romeo|      Mario|  Antonio|\n+--------------------+------+------+----------+-----------+---------+\n\n"
     ]
    }
   ],
   "source": [
    "new_df =(emp_df\n",
    "         .withColumn(\"First_name\",split(\"name\",\",\")[0])\n",
    "         .withColumn(\"Middle_name\", split(\"name\", \",\")[1])\n",
    "         .withColumn(\"Last_name\",split(\"name\",\",\")[2])\n",
    "         )\n",
    "\n",
    "new_df.show()"
   ]
  },
  {
   "cell_type": "markdown",
   "metadata": {
    "application/vnd.databricks.v1+cell": {
     "cellMetadata": {},
     "inputWidgets": {},
     "nuid": "a3e5d865-12f2-4478-8079-22d7a093d559",
     "showTitle": false,
     "title": ""
    }
   },
   "source": [
    "#explode"
   ]
  },
  {
   "cell_type": "code",
   "execution_count": 0,
   "metadata": {
    "application/vnd.databricks.v1+cell": {
     "cellMetadata": {
      "byteLimit": 2048000,
      "rowLimit": 10000
     },
     "inputWidgets": {},
     "nuid": "00658a3d-87b0-4bd5-9013-6d36f7dc80bd",
     "showTitle": false,
     "title": ""
    }
   },
   "outputs": [
    {
     "output_type": "stream",
     "name": "stdout",
     "output_type": "stream",
     "text": [
      "+-------+------+-------------+\n|   name|gender|    languages|\n+-------+------+-------------+\n|  Sagar|     M|[python, sql]|\n| Bhavya|     F|    [C, java]|\n|Krishna|     M|    [c#, c++]|\n| Prabha|     F|     [python]|\n+-------+------+-------------+\n\n"
     ]
    }
   ],
   "source": [
    "emp_data = [(\"Sagar\",\"M\",[\"python\", \"sql\"]),\n",
    "            (\"Bhavya\",\"F\",[\"C\",\"java\"]),\n",
    "            (\"Krishna\",\"M\",[\"c#\",\"c++\"]),\n",
    "            (\"Prabha\",\"F\",[\"python\"])]\n",
    "col = [\"name\",\"gender\", \"languages\"]\n",
    "\n",
    "emp_df = spark.createDataFrame(data = emp_data, schema = col)\n",
    "emp_df.show()"
   ]
  },
  {
   "cell_type": "code",
   "execution_count": 0,
   "metadata": {
    "application/vnd.databricks.v1+cell": {
     "cellMetadata": {
      "byteLimit": 2048000,
      "rowLimit": 10000
     },
     "inputWidgets": {},
     "nuid": "aa510d70-189b-4c39-92de-6152f6111a07",
     "showTitle": false,
     "title": ""
    }
   },
   "outputs": [
    {
     "output_type": "stream",
     "name": "stdout",
     "output_type": "stream",
     "text": [
      "+------+\n|   col|\n+------+\n|python|\n|   sql|\n|     C|\n|  java|\n|    c#|\n|   c++|\n|python|\n+------+\n\n"
     ]
    }
   ],
   "source": [
    "from pyspark.sql.functions import explode\n",
    "\n",
    "new_df =emp_df.select(explode(\"languages\"))\n",
    "new_df.show()\n"
   ]
  },
  {
   "cell_type": "code",
   "execution_count": 0,
   "metadata": {
    "application/vnd.databricks.v1+cell": {
     "cellMetadata": {
      "byteLimit": 2048000,
      "rowLimit": 10000
     },
     "inputWidgets": {},
     "nuid": "7ae60986-bb8c-4f9b-8bc6-6826716e6c9b",
     "showTitle": false,
     "title": ""
    }
   },
   "outputs": [
    {
     "output_type": "stream",
     "name": "stdout",
     "output_type": "stream",
     "text": [
      "+--------+----------+------+\n|Emp_name|department|salary|\n+--------+----------+------+\n|   Sagar| Marketing| 70000|\n|  Bhavya|   Finance|100000|\n| Krishna|   Finance|100000|\n|  Prabha|     Sales| 90000|\n|   Romeo| Marketing| 50000|\n+--------+----------+------+\n\n"
     ]
    }
   ],
   "source": [
    "emp_data = [(\"Sagar\",\"Marketing\",\"70000\"),\n",
    "            (\"Bhavya\",\"Finance\",\"100000\"),\n",
    "            (\"Krishna\",\"Finance\",\"100000\"),\n",
    "            (\"Prabha\",\"Sales\",\"90000\"),\n",
    "            (\"Romeo\",\"Marketing\",\"50000\")]\n",
    "schema = [\"Emp_name\", \"department\", \"salary\"]\n",
    "\n",
    "emp_df = spark.createDataFrame(data = emp_data, schema = schema)\n",
    "emp_df.show()"
   ]
  },
  {
   "cell_type": "markdown",
   "metadata": {
    "application/vnd.databricks.v1+cell": {
     "cellMetadata": {},
     "inputWidgets": {},
     "nuid": "2dad89ec-2462-4c55-9fb9-d3914fcee399",
     "showTitle": false,
     "title": ""
    }
   },
   "source": [
    "# collect_list and collect_set"
   ]
  },
  {
   "cell_type": "code",
   "execution_count": 0,
   "metadata": {
    "application/vnd.databricks.v1+cell": {
     "cellMetadata": {
      "byteLimit": 2048000,
      "rowLimit": 10000
     },
     "inputWidgets": {},
     "nuid": "179a4b6b-354f-427e-bd56-3436a8073255",
     "showTitle": false,
     "title": ""
    }
   },
   "outputs": [
    {
     "output_type": "display_data",
     "data": {
      "text/html": [
       "<style scoped>\n",
       "  .table-result-container {\n",
       "    max-height: 300px;\n",
       "    overflow: auto;\n",
       "  }\n",
       "  table, th, td {\n",
       "    border: 1px solid black;\n",
       "    border-collapse: collapse;\n",
       "  }\n",
       "  th, td {\n",
       "    padding: 5px;\n",
       "  }\n",
       "  th {\n",
       "    text-align: left;\n",
       "  }\n",
       "</style><div class='table-result-container'><table class='table-result'><thead style='background-color: white'><tr><th>department_list</th></tr></thead><tbody><tr><td>List(Marketing, Finance, Finance, Sales, Marketing)</td></tr></tbody></table></div>"
      ]
     },
     "metadata": {
      "application/vnd.databricks.v1+output": {
       "addedWidgets": {},
       "aggData": [],
       "aggError": "",
       "aggOverflow": false,
       "aggSchema": [],
       "aggSeriesLimitReached": false,
       "aggType": "",
       "arguments": {},
       "columnCustomDisplayInfos": {},
       "data": [
        [
         [
          "Marketing",
          "Finance",
          "Finance",
          "Sales",
          "Marketing"
         ]
        ]
       ],
       "datasetInfos": [],
       "dbfsResultPath": null,
       "isJsonSchema": true,
       "metadata": {},
       "overflow": false,
       "plotOptions": {
        "customPlotOptions": {},
        "displayType": "table",
        "pivotAggregation": null,
        "pivotColumns": null,
        "xColumns": null,
        "yColumns": null
       },
       "removedWidgets": [],
       "schema": [
        {
         "metadata": "{}",
         "name": "department_list",
         "type": "{\"type\":\"array\",\"elementType\":\"string\",\"containsNull\":false}"
        }
       ],
       "type": "table"
      }
     },
     "output_type": "display_data"
    }
   ],
   "source": [
    "from pyspark.sql.functions import collect_list, collect_set\n",
    "\n",
    "display(emp_df.select(collect_list(\"department\").alias(\"department_list\")))"
   ]
  },
  {
   "cell_type": "code",
   "execution_count": 0,
   "metadata": {
    "application/vnd.databricks.v1+cell": {
     "cellMetadata": {
      "byteLimit": 2048000,
      "rowLimit": 10000
     },
     "inputWidgets": {},
     "nuid": "024c854e-24cb-49bc-9e21-eab5c35b4d92",
     "showTitle": false,
     "title": ""
    }
   },
   "outputs": [
    {
     "output_type": "display_data",
     "data": {
      "text/html": [
       "<style scoped>\n",
       "  .table-result-container {\n",
       "    max-height: 300px;\n",
       "    overflow: auto;\n",
       "  }\n",
       "  table, th, td {\n",
       "    border: 1px solid black;\n",
       "    border-collapse: collapse;\n",
       "  }\n",
       "  th, td {\n",
       "    padding: 5px;\n",
       "  }\n",
       "  th {\n",
       "    text-align: left;\n",
       "  }\n",
       "</style><div class='table-result-container'><table class='table-result'><thead style='background-color: white'><tr><th>department_set</th></tr></thead><tbody><tr><td>List(Finance, Sales, Marketing)</td></tr></tbody></table></div>"
      ]
     },
     "metadata": {
      "application/vnd.databricks.v1+output": {
       "addedWidgets": {},
       "aggData": [],
       "aggError": "",
       "aggOverflow": false,
       "aggSchema": [],
       "aggSeriesLimitReached": false,
       "aggType": "",
       "arguments": {},
       "columnCustomDisplayInfos": {},
       "data": [
        [
         [
          "Finance",
          "Sales",
          "Marketing"
         ]
        ]
       ],
       "datasetInfos": [],
       "dbfsResultPath": null,
       "isJsonSchema": true,
       "metadata": {},
       "overflow": false,
       "plotOptions": {
        "customPlotOptions": {},
        "displayType": "table",
        "pivotAggregation": null,
        "pivotColumns": null,
        "xColumns": null,
        "yColumns": null
       },
       "removedWidgets": [],
       "schema": [
        {
         "metadata": "{}",
         "name": "department_set",
         "type": "{\"type\":\"array\",\"elementType\":\"string\",\"containsNull\":false}"
        }
       ],
       "type": "table"
      }
     },
     "output_type": "display_data"
    }
   ],
   "source": [
    "display(emp_df.select(collect_set(\"department\").alias(\"department_set\")))"
   ]
  },
  {
   "cell_type": "markdown",
   "metadata": {
    "application/vnd.databricks.v1+cell": {
     "cellMetadata": {},
     "inputWidgets": {},
     "nuid": "1f45bbfd-f656-4a65-97c9-17dc99845064",
     "showTitle": false,
     "title": ""
    }
   },
   "source": [
    "#countDistinct, count"
   ]
  },
  {
   "cell_type": "code",
   "execution_count": 0,
   "metadata": {
    "application/vnd.databricks.v1+cell": {
     "cellMetadata": {
      "byteLimit": 2048000,
      "rowLimit": 10000
     },
     "inputWidgets": {},
     "nuid": "4f40bdf2-3db2-4abf-a71b-5ab4bf32decb",
     "showTitle": false,
     "title": ""
    }
   },
   "outputs": [
    {
     "output_type": "display_data",
     "data": {
      "text/html": [
       "<style scoped>\n",
       "  .table-result-container {\n",
       "    max-height: 300px;\n",
       "    overflow: auto;\n",
       "  }\n",
       "  table, th, td {\n",
       "    border: 1px solid black;\n",
       "    border-collapse: collapse;\n",
       "  }\n",
       "  th, td {\n",
       "    padding: 5px;\n",
       "  }\n",
       "  th {\n",
       "    text-align: left;\n",
       "  }\n",
       "</style><div class='table-result-container'><table class='table-result'><thead style='background-color: white'><tr><th>count(department)</th></tr></thead><tbody><tr><td>5</td></tr></tbody></table></div>"
      ]
     },
     "metadata": {
      "application/vnd.databricks.v1+output": {
       "addedWidgets": {},
       "aggData": [],
       "aggError": "",
       "aggOverflow": false,
       "aggSchema": [],
       "aggSeriesLimitReached": false,
       "aggType": "",
       "arguments": {},
       "columnCustomDisplayInfos": {},
       "data": [
        [
         5
        ]
       ],
       "datasetInfos": [],
       "dbfsResultPath": null,
       "isJsonSchema": true,
       "metadata": {},
       "overflow": false,
       "plotOptions": {
        "customPlotOptions": {},
        "displayType": "table",
        "pivotAggregation": null,
        "pivotColumns": null,
        "xColumns": null,
        "yColumns": null
       },
       "removedWidgets": [],
       "schema": [
        {
         "metadata": "{}",
         "name": "count(department)",
         "type": "\"long\""
        }
       ],
       "type": "table"
      }
     },
     "output_type": "display_data"
    },
    {
     "output_type": "display_data",
     "data": {
      "text/html": [
       "<style scoped>\n",
       "  .table-result-container {\n",
       "    max-height: 300px;\n",
       "    overflow: auto;\n",
       "  }\n",
       "  table, th, td {\n",
       "    border: 1px solid black;\n",
       "    border-collapse: collapse;\n",
       "  }\n",
       "  th, td {\n",
       "    padding: 5px;\n",
       "  }\n",
       "  th {\n",
       "    text-align: left;\n",
       "  }\n",
       "</style><div class='table-result-container'><table class='table-result'><thead style='background-color: white'><tr><th>count(DISTINCT department)</th></tr></thead><tbody><tr><td>3</td></tr></tbody></table></div>"
      ]
     },
     "metadata": {
      "application/vnd.databricks.v1+output": {
       "addedWidgets": {},
       "aggData": [],
       "aggError": "",
       "aggOverflow": false,
       "aggSchema": [],
       "aggSeriesLimitReached": false,
       "aggType": "",
       "arguments": {},
       "columnCustomDisplayInfos": {},
       "data": [
        [
         3
        ]
       ],
       "datasetInfos": [],
       "dbfsResultPath": null,
       "isJsonSchema": true,
       "metadata": {},
       "overflow": false,
       "plotOptions": {
        "customPlotOptions": {},
        "displayType": "table",
        "pivotAggregation": null,
        "pivotColumns": null,
        "xColumns": null,
        "yColumns": null
       },
       "removedWidgets": [],
       "schema": [
        {
         "metadata": "{}",
         "name": "count(DISTINCT department)",
         "type": "\"long\""
        }
       ],
       "type": "table"
      }
     },
     "output_type": "display_data"
    }
   ],
   "source": [
    "from pyspark.sql.functions import countDistinct, count\n",
    "\n",
    "display(emp_df.select(count(\"department\")))\n",
    "\n",
    "display(emp_df.select(countDistinct(\"department\")))\n"
   ]
  },
  {
   "cell_type": "markdown",
   "metadata": {
    "application/vnd.databricks.v1+cell": {
     "cellMetadata": {},
     "inputWidgets": {},
     "nuid": "02a12732-5aa5-492d-a60c-780ba760acab",
     "showTitle": false,
     "title": ""
    }
   },
   "source": [
    "#first and last"
   ]
  },
  {
   "cell_type": "code",
   "execution_count": 0,
   "metadata": {
    "application/vnd.databricks.v1+cell": {
     "cellMetadata": {
      "byteLimit": 2048000,
      "rowLimit": 10000
     },
     "inputWidgets": {},
     "nuid": "2d3dd5fb-fd43-4e08-8021-d2ce015ce34a",
     "showTitle": false,
     "title": ""
    }
   },
   "outputs": [
    {
     "output_type": "display_data",
     "data": {
      "text/html": [
       "<style scoped>\n",
       "  .table-result-container {\n",
       "    max-height: 300px;\n",
       "    overflow: auto;\n",
       "  }\n",
       "  table, th, td {\n",
       "    border: 1px solid black;\n",
       "    border-collapse: collapse;\n",
       "  }\n",
       "  th, td {\n",
       "    padding: 5px;\n",
       "  }\n",
       "  th {\n",
       "    text-align: left;\n",
       "  }\n",
       "</style><div class='table-result-container'><table class='table-result'><thead style='background-color: white'><tr><th>first(salary)</th></tr></thead><tbody><tr><td>70000</td></tr></tbody></table></div>"
      ]
     },
     "metadata": {
      "application/vnd.databricks.v1+output": {
       "addedWidgets": {},
       "aggData": [],
       "aggError": "",
       "aggOverflow": false,
       "aggSchema": [],
       "aggSeriesLimitReached": false,
       "aggType": "",
       "arguments": {},
       "columnCustomDisplayInfos": {},
       "data": [
        [
         "70000"
        ]
       ],
       "datasetInfos": [],
       "dbfsResultPath": null,
       "isJsonSchema": true,
       "metadata": {},
       "overflow": false,
       "plotOptions": {
        "customPlotOptions": {},
        "displayType": "table",
        "pivotAggregation": null,
        "pivotColumns": null,
        "xColumns": null,
        "yColumns": null
       },
       "removedWidgets": [],
       "schema": [
        {
         "metadata": "{}",
         "name": "first(salary)",
         "type": "\"string\""
        }
       ],
       "type": "table"
      }
     },
     "output_type": "display_data"
    },
    {
     "output_type": "display_data",
     "data": {
      "text/html": [
       "<style scoped>\n",
       "  .table-result-container {\n",
       "    max-height: 300px;\n",
       "    overflow: auto;\n",
       "  }\n",
       "  table, th, td {\n",
       "    border: 1px solid black;\n",
       "    border-collapse: collapse;\n",
       "  }\n",
       "  th, td {\n",
       "    padding: 5px;\n",
       "  }\n",
       "  th {\n",
       "    text-align: left;\n",
       "  }\n",
       "</style><div class='table-result-container'><table class='table-result'><thead style='background-color: white'><tr><th>last(salary)</th></tr></thead><tbody><tr><td>50000</td></tr></tbody></table></div>"
      ]
     },
     "metadata": {
      "application/vnd.databricks.v1+output": {
       "addedWidgets": {},
       "aggData": [],
       "aggError": "",
       "aggOverflow": false,
       "aggSchema": [],
       "aggSeriesLimitReached": false,
       "aggType": "",
       "arguments": {},
       "columnCustomDisplayInfos": {},
       "data": [
        [
         "50000"
        ]
       ],
       "datasetInfos": [],
       "dbfsResultPath": null,
       "isJsonSchema": true,
       "metadata": {},
       "overflow": false,
       "plotOptions": {
        "customPlotOptions": {},
        "displayType": "table",
        "pivotAggregation": null,
        "pivotColumns": null,
        "xColumns": null,
        "yColumns": null
       },
       "removedWidgets": [],
       "schema": [
        {
         "metadata": "{}",
         "name": "last(salary)",
         "type": "\"string\""
        }
       ],
       "type": "table"
      }
     },
     "output_type": "display_data"
    }
   ],
   "source": [
    "from pyspark.sql.functions import first, last\n",
    "display(emp_df.select(first(\"salary\")))\n",
    "\n",
    "display(emp_df.select(last(\"salary\")))"
   ]
  },
  {
   "cell_type": "code",
   "execution_count": 0,
   "metadata": {
    "application/vnd.databricks.v1+cell": {
     "cellMetadata": {
      "byteLimit": 2048000,
      "rowLimit": 10000
     },
     "inputWidgets": {},
     "nuid": "920ed567-197c-424e-b304-4354f93f251c",
     "showTitle": false,
     "title": ""
    }
   },
   "outputs": [
    {
     "output_type": "display_data",
     "data": {
      "text/html": [
       "<style scoped>\n",
       "  .table-result-container {\n",
       "    max-height: 300px;\n",
       "    overflow: auto;\n",
       "  }\n",
       "  table, th, td {\n",
       "    border: 1px solid black;\n",
       "    border-collapse: collapse;\n",
       "  }\n",
       "  th, td {\n",
       "    padding: 5px;\n",
       "  }\n",
       "  th {\n",
       "    text-align: left;\n",
       "  }\n",
       "</style><div class='table-result-container'><table class='table-result'><thead style='background-color: white'><tr><th>max(salary)</th></tr></thead><tbody><tr><td>90000</td></tr></tbody></table></div>"
      ]
     },
     "metadata": {
      "application/vnd.databricks.v1+output": {
       "addedWidgets": {},
       "aggData": [],
       "aggError": "",
       "aggOverflow": false,
       "aggSchema": [],
       "aggSeriesLimitReached": false,
       "aggType": "",
       "arguments": {},
       "columnCustomDisplayInfos": {},
       "data": [
        [
         "90000"
        ]
       ],
       "datasetInfos": [],
       "dbfsResultPath": null,
       "isJsonSchema": true,
       "metadata": {},
       "overflow": false,
       "plotOptions": {
        "customPlotOptions": {},
        "displayType": "table",
        "pivotAggregation": null,
        "pivotColumns": null,
        "xColumns": null,
        "yColumns": null
       },
       "removedWidgets": [],
       "schema": [
        {
         "metadata": "{}",
         "name": "max(salary)",
         "type": "\"string\""
        }
       ],
       "type": "table"
      }
     },
     "output_type": "display_data"
    },
    {
     "output_type": "display_data",
     "data": {
      "text/html": [
       "<style scoped>\n",
       "  .table-result-container {\n",
       "    max-height: 300px;\n",
       "    overflow: auto;\n",
       "  }\n",
       "  table, th, td {\n",
       "    border: 1px solid black;\n",
       "    border-collapse: collapse;\n",
       "  }\n",
       "  th, td {\n",
       "    padding: 5px;\n",
       "  }\n",
       "  th {\n",
       "    text-align: left;\n",
       "  }\n",
       "</style><div class='table-result-container'><table class='table-result'><thead style='background-color: white'><tr><th>min(salary)</th></tr></thead><tbody><tr><td>100000</td></tr></tbody></table></div>"
      ]
     },
     "metadata": {
      "application/vnd.databricks.v1+output": {
       "addedWidgets": {},
       "aggData": [],
       "aggError": "",
       "aggOverflow": false,
       "aggSchema": [],
       "aggSeriesLimitReached": false,
       "aggType": "",
       "arguments": {},
       "columnCustomDisplayInfos": {},
       "data": [
        [
         "100000"
        ]
       ],
       "datasetInfos": [],
       "dbfsResultPath": null,
       "isJsonSchema": true,
       "metadata": {},
       "overflow": false,
       "plotOptions": {
        "customPlotOptions": {},
        "displayType": "table",
        "pivotAggregation": null,
        "pivotColumns": null,
        "xColumns": null,
        "yColumns": null
       },
       "removedWidgets": [],
       "schema": [
        {
         "metadata": "{}",
         "name": "min(salary)",
         "type": "\"string\""
        }
       ],
       "type": "table"
      }
     },
     "output_type": "display_data"
    }
   ],
   "source": [
    "from pyspark.sql.functions import max, min\n",
    "\n",
    "display(emp_df.select(max(\"salary\")))\n",
    "\n",
    "display(emp_df.select(min(\"salary\")))\n"
   ]
  },
  {
   "cell_type": "markdown",
   "metadata": {
    "application/vnd.databricks.v1+cell": {
     "cellMetadata": {},
     "inputWidgets": {},
     "nuid": "e5118454-4360-405d-84c5-6e31b4504750",
     "showTitle": false,
     "title": ""
    }
   },
   "source": [
    "#sum"
   ]
  },
  {
   "cell_type": "code",
   "execution_count": 0,
   "metadata": {
    "application/vnd.databricks.v1+cell": {
     "cellMetadata": {
      "byteLimit": 2048000,
      "rowLimit": 10000
     },
     "inputWidgets": {},
     "nuid": "ae359e43-a37c-4d7e-8382-daedd05ace66",
     "showTitle": false,
     "title": ""
    }
   },
   "outputs": [
    {
     "output_type": "display_data",
     "data": {
      "text/html": [
       "<style scoped>\n",
       "  .table-result-container {\n",
       "    max-height: 300px;\n",
       "    overflow: auto;\n",
       "  }\n",
       "  table, th, td {\n",
       "    border: 1px solid black;\n",
       "    border-collapse: collapse;\n",
       "  }\n",
       "  th, td {\n",
       "    padding: 5px;\n",
       "  }\n",
       "  th {\n",
       "    text-align: left;\n",
       "  }\n",
       "</style><div class='table-result-container'><table class='table-result'><thead style='background-color: white'><tr><th>sum(salary)</th></tr></thead><tbody><tr><td>410000.0</td></tr></tbody></table></div>"
      ]
     },
     "metadata": {
      "application/vnd.databricks.v1+output": {
       "addedWidgets": {},
       "aggData": [],
       "aggError": "",
       "aggOverflow": false,
       "aggSchema": [],
       "aggSeriesLimitReached": false,
       "aggType": "",
       "arguments": {},
       "columnCustomDisplayInfos": {},
       "data": [
        [
         410000.0
        ]
       ],
       "datasetInfos": [],
       "dbfsResultPath": null,
       "isJsonSchema": true,
       "metadata": {},
       "overflow": false,
       "plotOptions": {
        "customPlotOptions": {},
        "displayType": "table",
        "pivotAggregation": null,
        "pivotColumns": null,
        "xColumns": null,
        "yColumns": null
       },
       "removedWidgets": [],
       "schema": [
        {
         "metadata": "{}",
         "name": "sum(salary)",
         "type": "\"double\""
        }
       ],
       "type": "table"
      }
     },
     "output_type": "display_data"
    }
   ],
   "source": [
    "from pyspark.sql.functions import sum\n",
    "\n",
    "display(emp_df.select(sum(\"salary\")))"
   ]
  },
  {
   "cell_type": "markdown",
   "metadata": {
    "application/vnd.databricks.v1+cell": {
     "cellMetadata": {},
     "inputWidgets": {},
     "nuid": "a8290c6b-5568-4112-9af7-8c0485b5bcc4",
     "showTitle": false,
     "title": ""
    }
   },
   "source": [
    "#rank\n",
    "Second highes salary in each department"
   ]
  },
  {
   "cell_type": "code",
   "execution_count": 0,
   "metadata": {
    "application/vnd.databricks.v1+cell": {
     "cellMetadata": {
      "byteLimit": 2048000,
      "rowLimit": 10000
     },
     "inputWidgets": {},
     "nuid": "73e176d3-cc2f-4c45-956a-35366fd0cd53",
     "showTitle": false,
     "title": ""
    }
   },
   "outputs": [
    {
     "output_type": "stream",
     "name": "stdout",
     "output_type": "stream",
     "text": [
      "+--------+----------+------+\n|Emp_name|department|salary|\n+--------+----------+------+\n|   Sagar| Marketing| 70000|\n|  Bhavya|   Finance|100000|\n| Krishna|   Finance|150000|\n|  Prabha|     Sales| 90000|\n|    siva|     Sales| 50000|\n|   Chile| Marketing| 40000|\n|    jeff|   analyst| 70000|\n|   Romeo| Marketing| 50000|\n|     Dan| Marketing| 50000|\n+--------+----------+------+\n\n"
     ]
    }
   ],
   "source": [
    "emp_data = [(\"Sagar\",\"Marketing\",\"70000\"),\n",
    "            (\"Bhavya\",\"Finance\",\"100000\"),\n",
    "            (\"Krishna\",\"Finance\",\"150000\"),\n",
    "            (\"Prabha\",\"Sales\",\"90000\"),\n",
    "            (\"siva\",\"Sales\",\"50000\"),\n",
    "            (\"Chile\",\"Marketing\",\"40000\"),\n",
    "            (\"jeff\",\"analyst\",\"70000\"),\n",
    "            (\"Romeo\",\"Marketing\",\"50000\"),\n",
    "            (\"Dan\",\"Marketing\",\"50000\")]\n",
    "\n",
    "schema = [\"Emp_name\", \"department\", \"salary\"]\n",
    "\n",
    "emp_df = spark.createDataFrame(data = emp_data, schema = schema)\n",
    "emp_df.show()"
   ]
  },
  {
   "cell_type": "code",
   "execution_count": 0,
   "metadata": {
    "application/vnd.databricks.v1+cell": {
     "cellMetadata": {
      "byteLimit": 2048000,
      "rowLimit": 10000
     },
     "inputWidgets": {},
     "nuid": "cfa9f583-e138-4939-bb69-3da0fac9972b",
     "showTitle": false,
     "title": ""
    }
   },
   "outputs": [
    {
     "output_type": "stream",
     "name": "stdout",
     "output_type": "stream",
     "text": [
      "<pyspark.sql.window.WindowSpec at 0x7fd37660d520>"
     ]
    }
   ],
   "source": [
    "from pyspark.sql.window import Window\n",
    "from pyspark.sql.functions import desc, rank\n",
    "\n",
    "windowSpec = Window.partitionBy(\"department\").orderBy(desc(\"salary\") )\n",
    "display(windowSpec)"
   ]
  },
  {
   "cell_type": "code",
   "execution_count": 0,
   "metadata": {
    "application/vnd.databricks.v1+cell": {
     "cellMetadata": {
      "byteLimit": 2048000,
      "rowLimit": 10000
     },
     "inputWidgets": {},
     "nuid": "bcb812e6-98a0-4738-ab7d-987880b3f946",
     "showTitle": false,
     "title": ""
    }
   },
   "outputs": [
    {
     "output_type": "stream",
     "name": "stdout",
     "output_type": "stream",
     "text": [
      "+--------+----------+------+----+\n|Emp_name|department|salary|rank|\n+--------+----------+------+----+\n| Krishna|   Finance|150000|   1|\n|  Bhavya|   Finance|100000|   2|\n|   Sagar| Marketing| 70000|   1|\n|   Romeo| Marketing| 50000|   2|\n|     Dan| Marketing| 50000|   2|\n|   Chile| Marketing| 40000|   4|\n|  Prabha|     Sales| 90000|   1|\n|    siva|     Sales| 50000|   2|\n|    jeff|   analyst| 70000|   1|\n+--------+----------+------+----+\n\n"
     ]
    }
   ],
   "source": [
    "new_df = emp_df.withColumn(\"rank\",rank().over(windowSpec))\n",
    "new_df.show()"
   ]
  },
  {
   "cell_type": "markdown",
   "metadata": {
    "application/vnd.databricks.v1+cell": {
     "cellMetadata": {},
     "inputWidgets": {},
     "nuid": "ad59bb1f-46da-4a02-adee-e208d1c658ee",
     "showTitle": false,
     "title": ""
    }
   },
   "source": [
    "filter"
   ]
  },
  {
   "cell_type": "code",
   "execution_count": 0,
   "metadata": {
    "application/vnd.databricks.v1+cell": {
     "cellMetadata": {
      "byteLimit": 2048000,
      "rowLimit": 10000
     },
     "inputWidgets": {},
     "nuid": "9eb75cba-0a13-49e9-9397-5e5aab684353",
     "showTitle": false,
     "title": ""
    }
   },
   "outputs": [
    {
     "output_type": "stream",
     "name": "stdout",
     "output_type": "stream",
     "text": [
      "+--------+----------+------+\n|Emp_name|department|salary|\n+--------+----------+------+\n|  Bhavya|   Finance|100000|\n|   Romeo| Marketing| 50000|\n|     Dan| Marketing| 50000|\n|    siva|     Sales| 50000|\n+--------+----------+------+\n\n"
     ]
    }
   ],
   "source": [
    "final_df = new_df.filter(\"rank = 2\").drop(\"rank\")\n",
    "final_df.show()"
   ]
  },
  {
   "cell_type": "markdown",
   "metadata": {
    "application/vnd.databricks.v1+cell": {
     "cellMetadata": {},
     "inputWidgets": {},
     "nuid": "2cd2c843-881b-4827-830d-b3cfdd752f24",
     "showTitle": false,
     "title": ""
    }
   },
   "source": [
    "#dense_rank"
   ]
  },
  {
   "cell_type": "code",
   "execution_count": 0,
   "metadata": {
    "application/vnd.databricks.v1+cell": {
     "cellMetadata": {
      "byteLimit": 2048000,
      "rowLimit": 10000
     },
     "inputWidgets": {},
     "nuid": "83fcf04a-9b4e-460c-b7b1-d1bd3a8c3bde",
     "showTitle": false,
     "title": ""
    }
   },
   "outputs": [
    {
     "output_type": "stream",
     "name": "stdout",
     "output_type": "stream",
     "text": [
      "<pyspark.sql.window.WindowSpec at 0x7fd374fd4100>"
     ]
    }
   ],
   "source": [
    "from pyspark.sql.window import Window\n",
    "from pyspark.sql.functions import desc, dense_rank\n",
    "\n",
    "windowSpec = Window.partitionBy(\"department\").orderBy(desc(\"salary\") )\n",
    "display(windowSpec)"
   ]
  },
  {
   "cell_type": "code",
   "execution_count": 0,
   "metadata": {
    "application/vnd.databricks.v1+cell": {
     "cellMetadata": {
      "byteLimit": 2048000,
      "rowLimit": 10000
     },
     "inputWidgets": {},
     "nuid": "8fb50cd8-836f-4e42-8597-f788cb766ff7",
     "showTitle": false,
     "title": ""
    }
   },
   "outputs": [
    {
     "output_type": "display_data",
     "data": {
      "text/html": [
       "<style scoped>\n",
       "  .table-result-container {\n",
       "    max-height: 300px;\n",
       "    overflow: auto;\n",
       "  }\n",
       "  table, th, td {\n",
       "    border: 1px solid black;\n",
       "    border-collapse: collapse;\n",
       "  }\n",
       "  th, td {\n",
       "    padding: 5px;\n",
       "  }\n",
       "  th {\n",
       "    text-align: left;\n",
       "  }\n",
       "</style><div class='table-result-container'><table class='table-result'><thead style='background-color: white'><tr><th>Emp_name</th><th>department</th><th>salary</th><th>dense_rank</th></tr></thead><tbody><tr><td>Krishna</td><td>Finance</td><td>150000</td><td>1</td></tr><tr><td>Bhavya</td><td>Finance</td><td>100000</td><td>2</td></tr><tr><td>Sagar</td><td>Marketing</td><td>70000</td><td>1</td></tr><tr><td>Romeo</td><td>Marketing</td><td>50000</td><td>2</td></tr><tr><td>Dan</td><td>Marketing</td><td>50000</td><td>2</td></tr><tr><td>Chile</td><td>Marketing</td><td>40000</td><td>3</td></tr><tr><td>Prabha</td><td>Sales</td><td>90000</td><td>1</td></tr><tr><td>siva</td><td>Sales</td><td>50000</td><td>2</td></tr><tr><td>jeff</td><td>analyst</td><td>70000</td><td>1</td></tr></tbody></table></div>"
      ]
     },
     "metadata": {
      "application/vnd.databricks.v1+output": {
       "addedWidgets": {},
       "aggData": [],
       "aggError": "",
       "aggOverflow": false,
       "aggSchema": [],
       "aggSeriesLimitReached": false,
       "aggType": "",
       "arguments": {},
       "columnCustomDisplayInfos": {},
       "data": [
        [
         "Krishna",
         "Finance",
         "150000",
         1
        ],
        [
         "Bhavya",
         "Finance",
         "100000",
         2
        ],
        [
         "Sagar",
         "Marketing",
         "70000",
         1
        ],
        [
         "Romeo",
         "Marketing",
         "50000",
         2
        ],
        [
         "Dan",
         "Marketing",
         "50000",
         2
        ],
        [
         "Chile",
         "Marketing",
         "40000",
         3
        ],
        [
         "Prabha",
         "Sales",
         "90000",
         1
        ],
        [
         "siva",
         "Sales",
         "50000",
         2
        ],
        [
         "jeff",
         "analyst",
         "70000",
         1
        ]
       ],
       "datasetInfos": [],
       "dbfsResultPath": null,
       "isJsonSchema": true,
       "metadata": {},
       "overflow": false,
       "plotOptions": {
        "customPlotOptions": {},
        "displayType": "table",
        "pivotAggregation": null,
        "pivotColumns": null,
        "xColumns": null,
        "yColumns": null
       },
       "removedWidgets": [],
       "schema": [
        {
         "metadata": "{}",
         "name": "Emp_name",
         "type": "\"string\""
        },
        {
         "metadata": "{}",
         "name": "department",
         "type": "\"string\""
        },
        {
         "metadata": "{}",
         "name": "salary",
         "type": "\"string\""
        },
        {
         "metadata": "{}",
         "name": "dense_rank",
         "type": "\"integer\""
        }
       ],
       "type": "table"
      }
     },
     "output_type": "display_data"
    }
   ],
   "source": [
    "new_df = emp_df.withColumn(\"dense_rank\",dense_rank().over(windowSpec))\n",
    "display(new_df)"
   ]
  },
  {
   "cell_type": "markdown",
   "metadata": {
    "application/vnd.databricks.v1+cell": {
     "cellMetadata": {},
     "inputWidgets": {},
     "nuid": "bd8e1341-660a-4f42-8bd0-a162202c4385",
     "showTitle": false,
     "title": ""
    }
   },
   "source": [
    "#row_number"
   ]
  },
  {
   "cell_type": "code",
   "execution_count": 0,
   "metadata": {
    "application/vnd.databricks.v1+cell": {
     "cellMetadata": {
      "byteLimit": 2048000,
      "rowLimit": 10000
     },
     "inputWidgets": {},
     "nuid": "a4efc2b0-41ea-4822-aaf0-ee71504cd96f",
     "showTitle": false,
     "title": ""
    }
   },
   "outputs": [
    {
     "output_type": "stream",
     "name": "stdout",
     "output_type": "stream",
     "text": [
      "<pyspark.sql.window.WindowSpec at 0x7fd37c180790>"
     ]
    }
   ],
   "source": [
    "from pyspark.sql.window import Window\n",
    "from pyspark.sql.functions import desc, row_number\n",
    "\n",
    "windowSpec = Window.partitionBy(\"department\").orderBy(desc(\"salary\") )\n",
    "display(windowSpec)"
   ]
  },
  {
   "cell_type": "code",
   "execution_count": 0,
   "metadata": {
    "application/vnd.databricks.v1+cell": {
     "cellMetadata": {
      "byteLimit": 2048000,
      "rowLimit": 10000
     },
     "inputWidgets": {},
     "nuid": "ad98c01c-6caf-4b9e-8ff9-cddeb591621f",
     "showTitle": false,
     "title": ""
    }
   },
   "outputs": [
    {
     "output_type": "display_data",
     "data": {
      "text/html": [
       "<style scoped>\n",
       "  .table-result-container {\n",
       "    max-height: 300px;\n",
       "    overflow: auto;\n",
       "  }\n",
       "  table, th, td {\n",
       "    border: 1px solid black;\n",
       "    border-collapse: collapse;\n",
       "  }\n",
       "  th, td {\n",
       "    padding: 5px;\n",
       "  }\n",
       "  th {\n",
       "    text-align: left;\n",
       "  }\n",
       "</style><div class='table-result-container'><table class='table-result'><thead style='background-color: white'><tr><th>Emp_name</th><th>department</th><th>salary</th><th>row_number</th></tr></thead><tbody><tr><td>Krishna</td><td>Finance</td><td>150000</td><td>1</td></tr><tr><td>Bhavya</td><td>Finance</td><td>100000</td><td>2</td></tr><tr><td>Sagar</td><td>Marketing</td><td>70000</td><td>1</td></tr><tr><td>Romeo</td><td>Marketing</td><td>50000</td><td>2</td></tr><tr><td>Dan</td><td>Marketing</td><td>50000</td><td>3</td></tr><tr><td>Chile</td><td>Marketing</td><td>40000</td><td>4</td></tr><tr><td>Prabha</td><td>Sales</td><td>90000</td><td>1</td></tr><tr><td>siva</td><td>Sales</td><td>50000</td><td>2</td></tr><tr><td>jeff</td><td>analyst</td><td>70000</td><td>1</td></tr></tbody></table></div>"
      ]
     },
     "metadata": {
      "application/vnd.databricks.v1+output": {
       "addedWidgets": {},
       "aggData": [],
       "aggError": "",
       "aggOverflow": false,
       "aggSchema": [],
       "aggSeriesLimitReached": false,
       "aggType": "",
       "arguments": {},
       "columnCustomDisplayInfos": {},
       "data": [
        [
         "Krishna",
         "Finance",
         "150000",
         1
        ],
        [
         "Bhavya",
         "Finance",
         "100000",
         2
        ],
        [
         "Sagar",
         "Marketing",
         "70000",
         1
        ],
        [
         "Romeo",
         "Marketing",
         "50000",
         2
        ],
        [
         "Dan",
         "Marketing",
         "50000",
         3
        ],
        [
         "Chile",
         "Marketing",
         "40000",
         4
        ],
        [
         "Prabha",
         "Sales",
         "90000",
         1
        ],
        [
         "siva",
         "Sales",
         "50000",
         2
        ],
        [
         "jeff",
         "analyst",
         "70000",
         1
        ]
       ],
       "datasetInfos": [],
       "dbfsResultPath": null,
       "isJsonSchema": true,
       "metadata": {},
       "overflow": false,
       "plotOptions": {
        "customPlotOptions": {},
        "displayType": "table",
        "pivotAggregation": null,
        "pivotColumns": null,
        "xColumns": null,
        "yColumns": null
       },
       "removedWidgets": [],
       "schema": [
        {
         "metadata": "{}",
         "name": "Emp_name",
         "type": "\"string\""
        },
        {
         "metadata": "{}",
         "name": "department",
         "type": "\"string\""
        },
        {
         "metadata": "{}",
         "name": "salary",
         "type": "\"string\""
        },
        {
         "metadata": "{}",
         "name": "row_number",
         "type": "\"integer\""
        }
       ],
       "type": "table"
      }
     },
     "output_type": "display_data"
    }
   ],
   "source": [
    "new_df = emp_df.withColumn(\"row_number\",row_number().over(windowSpec))\n",
    "display(new_df)"
   ]
  },
  {
   "cell_type": "markdown",
   "metadata": {
    "application/vnd.databricks.v1+cell": {
     "cellMetadata": {},
     "inputWidgets": {},
     "nuid": "8a41c835-b93e-4c38-90f1-b3c05b213cad",
     "showTitle": false,
     "title": ""
    }
   },
   "source": [
    "#lag"
   ]
  },
  {
   "cell_type": "code",
   "execution_count": 0,
   "metadata": {
    "application/vnd.databricks.v1+cell": {
     "cellMetadata": {
      "byteLimit": 2048000,
      "rowLimit": 10000
     },
     "inputWidgets": {},
     "nuid": "2e8b2ea0-98ba-4ab1-a686-53d66e30769d",
     "showTitle": false,
     "title": ""
    }
   },
   "outputs": [
    {
     "output_type": "display_data",
     "data": {
      "text/html": [
       "<style scoped>\n",
       "  .table-result-container {\n",
       "    max-height: 300px;\n",
       "    overflow: auto;\n",
       "  }\n",
       "  table, th, td {\n",
       "    border: 1px solid black;\n",
       "    border-collapse: collapse;\n",
       "  }\n",
       "  th, td {\n",
       "    padding: 5px;\n",
       "  }\n",
       "  th {\n",
       "    text-align: left;\n",
       "  }\n",
       "</style><div class='table-result-container'><table class='table-result'><thead style='background-color: white'><tr><th>Emp_name</th><th>department</th><th>salary</th><th>lag</th></tr></thead><tbody><tr><td>Krishna</td><td>Finance</td><td>150000</td><td>null</td></tr><tr><td>Bhavya</td><td>Finance</td><td>100000</td><td>150000</td></tr><tr><td>Sagar</td><td>Marketing</td><td>70000</td><td>null</td></tr><tr><td>Romeo</td><td>Marketing</td><td>50000</td><td>70000</td></tr><tr><td>Dan</td><td>Marketing</td><td>50000</td><td>50000</td></tr><tr><td>Chile</td><td>Marketing</td><td>40000</td><td>50000</td></tr><tr><td>Prabha</td><td>Sales</td><td>90000</td><td>null</td></tr><tr><td>siva</td><td>Sales</td><td>50000</td><td>90000</td></tr><tr><td>jeff</td><td>analyst</td><td>70000</td><td>null</td></tr></tbody></table></div>"
      ]
     },
     "metadata": {
      "application/vnd.databricks.v1+output": {
       "addedWidgets": {},
       "aggData": [],
       "aggError": "",
       "aggOverflow": false,
       "aggSchema": [],
       "aggSeriesLimitReached": false,
       "aggType": "",
       "arguments": {},
       "columnCustomDisplayInfos": {},
       "data": [
        [
         "Krishna",
         "Finance",
         "150000",
         null
        ],
        [
         "Bhavya",
         "Finance",
         "100000",
         "150000"
        ],
        [
         "Sagar",
         "Marketing",
         "70000",
         null
        ],
        [
         "Romeo",
         "Marketing",
         "50000",
         "70000"
        ],
        [
         "Dan",
         "Marketing",
         "50000",
         "50000"
        ],
        [
         "Chile",
         "Marketing",
         "40000",
         "50000"
        ],
        [
         "Prabha",
         "Sales",
         "90000",
         null
        ],
        [
         "siva",
         "Sales",
         "50000",
         "90000"
        ],
        [
         "jeff",
         "analyst",
         "70000",
         null
        ]
       ],
       "datasetInfos": [],
       "dbfsResultPath": null,
       "isJsonSchema": true,
       "metadata": {},
       "overflow": false,
       "plotOptions": {
        "customPlotOptions": {},
        "displayType": "table",
        "pivotAggregation": null,
        "pivotColumns": null,
        "xColumns": null,
        "yColumns": null
       },
       "removedWidgets": [],
       "schema": [
        {
         "metadata": "{}",
         "name": "Emp_name",
         "type": "\"string\""
        },
        {
         "metadata": "{}",
         "name": "department",
         "type": "\"string\""
        },
        {
         "metadata": "{}",
         "name": "salary",
         "type": "\"string\""
        },
        {
         "metadata": "{}",
         "name": "lag",
         "type": "\"string\""
        }
       ],
       "type": "table"
      }
     },
     "output_type": "display_data"
    }
   ],
   "source": [
    "from pyspark.sql.functions import lag\n",
    "\n",
    "new_df = emp_df.withColumn(\"lag\",lag(\"salary\",1).over(windowSpec))\n",
    "display(new_df)"
   ]
  },
  {
   "cell_type": "markdown",
   "metadata": {
    "application/vnd.databricks.v1+cell": {
     "cellMetadata": {},
     "inputWidgets": {},
     "nuid": "c8fa22e3-03bd-461d-8a7f-14f864ba3beb",
     "showTitle": false,
     "title": ""
    }
   },
   "source": [
    "#lead"
   ]
  },
  {
   "cell_type": "code",
   "execution_count": 0,
   "metadata": {
    "application/vnd.databricks.v1+cell": {
     "cellMetadata": {
      "byteLimit": 2048000,
      "rowLimit": 10000
     },
     "inputWidgets": {},
     "nuid": "fcb9cf18-013d-493b-b95b-7e2b40f74d42",
     "showTitle": false,
     "title": ""
    }
   },
   "outputs": [
    {
     "output_type": "display_data",
     "data": {
      "text/html": [
       "<style scoped>\n",
       "  .table-result-container {\n",
       "    max-height: 300px;\n",
       "    overflow: auto;\n",
       "  }\n",
       "  table, th, td {\n",
       "    border: 1px solid black;\n",
       "    border-collapse: collapse;\n",
       "  }\n",
       "  th, td {\n",
       "    padding: 5px;\n",
       "  }\n",
       "  th {\n",
       "    text-align: left;\n",
       "  }\n",
       "</style><div class='table-result-container'><table class='table-result'><thead style='background-color: white'><tr><th>Emp_name</th><th>department</th><th>salary</th><th>lead</th></tr></thead><tbody><tr><td>Krishna</td><td>Finance</td><td>150000</td><td>100000</td></tr><tr><td>Bhavya</td><td>Finance</td><td>100000</td><td>null</td></tr><tr><td>Sagar</td><td>Marketing</td><td>70000</td><td>50000</td></tr><tr><td>Romeo</td><td>Marketing</td><td>50000</td><td>50000</td></tr><tr><td>Dan</td><td>Marketing</td><td>50000</td><td>40000</td></tr><tr><td>Chile</td><td>Marketing</td><td>40000</td><td>null</td></tr><tr><td>Prabha</td><td>Sales</td><td>90000</td><td>50000</td></tr><tr><td>siva</td><td>Sales</td><td>50000</td><td>null</td></tr><tr><td>jeff</td><td>analyst</td><td>70000</td><td>null</td></tr></tbody></table></div>"
      ]
     },
     "metadata": {
      "application/vnd.databricks.v1+output": {
       "addedWidgets": {},
       "aggData": [],
       "aggError": "",
       "aggOverflow": false,
       "aggSchema": [],
       "aggSeriesLimitReached": false,
       "aggType": "",
       "arguments": {},
       "columnCustomDisplayInfos": {},
       "data": [
        [
         "Krishna",
         "Finance",
         "150000",
         "100000"
        ],
        [
         "Bhavya",
         "Finance",
         "100000",
         null
        ],
        [
         "Sagar",
         "Marketing",
         "70000",
         "50000"
        ],
        [
         "Romeo",
         "Marketing",
         "50000",
         "50000"
        ],
        [
         "Dan",
         "Marketing",
         "50000",
         "40000"
        ],
        [
         "Chile",
         "Marketing",
         "40000",
         null
        ],
        [
         "Prabha",
         "Sales",
         "90000",
         "50000"
        ],
        [
         "siva",
         "Sales",
         "50000",
         null
        ],
        [
         "jeff",
         "analyst",
         "70000",
         null
        ]
       ],
       "datasetInfos": [],
       "dbfsResultPath": null,
       "isJsonSchema": true,
       "metadata": {},
       "overflow": false,
       "plotOptions": {
        "customPlotOptions": {},
        "displayType": "table",
        "pivotAggregation": null,
        "pivotColumns": null,
        "xColumns": null,
        "yColumns": null
       },
       "removedWidgets": [],
       "schema": [
        {
         "metadata": "{}",
         "name": "Emp_name",
         "type": "\"string\""
        },
        {
         "metadata": "{}",
         "name": "department",
         "type": "\"string\""
        },
        {
         "metadata": "{}",
         "name": "salary",
         "type": "\"string\""
        },
        {
         "metadata": "{}",
         "name": "lead",
         "type": "\"string\""
        }
       ],
       "type": "table"
      }
     },
     "output_type": "display_data"
    }
   ],
   "source": [
    "from pyspark.sql.functions import lead\n",
    "\n",
    "new_df = emp_df.withColumn(\"lead\",lead(\"salary\",1).over(windowSpec))\n",
    "display(new_df)"
   ]
  },
  {
   "cell_type": "markdown",
   "metadata": {
    "application/vnd.databricks.v1+cell": {
     "cellMetadata": {},
     "inputWidgets": {},
     "nuid": "8a321006-e9af-47bc-a757-2048836f533b",
     "showTitle": false,
     "title": ""
    }
   },
   "source": [
    "#partitionBy"
   ]
  },
  {
   "cell_type": "code",
   "execution_count": 0,
   "metadata": {
    "application/vnd.databricks.v1+cell": {
     "cellMetadata": {
      "byteLimit": 2048000,
      "rowLimit": 10000
     },
     "inputWidgets": {},
     "nuid": "f2b4aa3d-b348-41d1-9f6c-2524e012ce6a",
     "showTitle": false,
     "title": ""
    }
   },
   "outputs": [
    {
     "output_type": "stream",
     "name": "stdout",
     "output_type": "stream",
     "text": [
      "Out[71]: pyspark.sql.readwriter.DataFrameWriter"
     ]
    }
   ],
   "source": [
    "type(emp_df.write)"
   ]
  },
  {
   "cell_type": "code",
   "execution_count": 0,
   "metadata": {
    "application/vnd.databricks.v1+cell": {
     "cellMetadata": {
      "byteLimit": 2048000,
      "rowLimit": 10000
     },
     "inputWidgets": {},
     "nuid": "7ff5e835-e28c-4d68-b236-e191e27dd4af",
     "showTitle": false,
     "title": ""
    }
   },
   "outputs": [],
   "source": [
    "(emp_df\n",
    " .write\n",
    " .format(\"csv\")\n",
    " .option(\"header\",\"true\")\n",
    " .partitionBy(\"department\")\n",
    " .save(\"/FileStore/tables/partition_example\"))"
   ]
  },
  {
   "cell_type": "code",
   "execution_count": 0,
   "metadata": {
    "application/vnd.databricks.v1+cell": {
     "cellMetadata": {
      "byteLimit": 2048000,
      "rowLimit": 10000
     },
     "inputWidgets": {},
     "nuid": "37dda64b-5cf3-4775-a52e-ed617910eb4a",
     "showTitle": false,
     "title": ""
    }
   },
   "outputs": [
    {
     "output_type": "display_data",
     "data": {
      "text/html": [
       "<style scoped>\n",
       "  .table-result-container {\n",
       "    max-height: 300px;\n",
       "    overflow: auto;\n",
       "  }\n",
       "  table, th, td {\n",
       "    border: 1px solid black;\n",
       "    border-collapse: collapse;\n",
       "  }\n",
       "  th, td {\n",
       "    padding: 5px;\n",
       "  }\n",
       "  th {\n",
       "    text-align: left;\n",
       "  }\n",
       "</style><div class='table-result-container'><table class='table-result'><thead style='background-color: white'><tr><th>path</th><th>name</th><th>size</th><th>modificationTime</th></tr></thead><tbody><tr><td>dbfs:/FileStore/tables/partition_example/_SUCCESS</td><td>_SUCCESS</td><td>0</td><td>1708491636000</td></tr><tr><td>dbfs:/FileStore/tables/partition_example/department=Finance/</td><td>department=Finance/</td><td>0</td><td>0</td></tr><tr><td>dbfs:/FileStore/tables/partition_example/department=Marketing/</td><td>department=Marketing/</td><td>0</td><td>0</td></tr><tr><td>dbfs:/FileStore/tables/partition_example/department=Sales/</td><td>department=Sales/</td><td>0</td><td>0</td></tr><tr><td>dbfs:/FileStore/tables/partition_example/department=analyst/</td><td>department=analyst/</td><td>0</td><td>0</td></tr></tbody></table></div>"
      ]
     },
     "metadata": {
      "application/vnd.databricks.v1+output": {
       "addedWidgets": {},
       "aggData": [],
       "aggError": "",
       "aggOverflow": false,
       "aggSchema": [],
       "aggSeriesLimitReached": false,
       "aggType": "",
       "arguments": {},
       "columnCustomDisplayInfos": {},
       "data": [
        [
         "dbfs:/FileStore/tables/partition_example/_SUCCESS",
         "_SUCCESS",
         0,
         1708491636000
        ],
        [
         "dbfs:/FileStore/tables/partition_example/department=Finance/",
         "department=Finance/",
         0,
         0
        ],
        [
         "dbfs:/FileStore/tables/partition_example/department=Marketing/",
         "department=Marketing/",
         0,
         0
        ],
        [
         "dbfs:/FileStore/tables/partition_example/department=Sales/",
         "department=Sales/",
         0,
         0
        ],
        [
         "dbfs:/FileStore/tables/partition_example/department=analyst/",
         "department=analyst/",
         0,
         0
        ]
       ],
       "datasetInfos": [],
       "dbfsResultPath": null,
       "isJsonSchema": true,
       "metadata": {
        "isDbfsCommandResult": false
       },
       "overflow": false,
       "plotOptions": {
        "customPlotOptions": {},
        "displayType": "table",
        "pivotAggregation": null,
        "pivotColumns": null,
        "xColumns": null,
        "yColumns": null
       },
       "removedWidgets": [],
       "schema": [
        {
         "metadata": "{}",
         "name": "path",
         "type": "\"string\""
        },
        {
         "metadata": "{}",
         "name": "name",
         "type": "\"string\""
        },
        {
         "metadata": "{}",
         "name": "size",
         "type": "\"long\""
        },
        {
         "metadata": "{}",
         "name": "modificationTime",
         "type": "\"long\""
        }
       ],
       "type": "table"
      }
     },
     "output_type": "display_data"
    }
   ],
   "source": [
    "%fs ls /FileStore/tables/partition_example"
   ]
  },
  {
   "cell_type": "code",
   "execution_count": 0,
   "metadata": {
    "application/vnd.databricks.v1+cell": {
     "cellMetadata": {
      "byteLimit": 2048000,
      "rowLimit": 10000
     },
     "inputWidgets": {},
     "nuid": "880b48f8-fca3-4149-a4b5-a94801d81ab7",
     "showTitle": false,
     "title": ""
    }
   },
   "outputs": [
    {
     "output_type": "display_data",
     "data": {
      "text/html": [
       "<style scoped>\n",
       "  .table-result-container {\n",
       "    max-height: 300px;\n",
       "    overflow: auto;\n",
       "  }\n",
       "  table, th, td {\n",
       "    border: 1px solid black;\n",
       "    border-collapse: collapse;\n",
       "  }\n",
       "  th, td {\n",
       "    padding: 5px;\n",
       "  }\n",
       "  th {\n",
       "    text-align: left;\n",
       "  }\n",
       "</style><div class='table-result-container'><table class='table-result'><thead style='background-color: white'><tr><th>path</th><th>name</th><th>size</th><th>modificationTime</th></tr></thead><tbody><tr><td>dbfs:/FileStore/tables/partition_example/department=Marketing/_SUCCESS</td><td>_SUCCESS</td><td>0</td><td>1708491635000</td></tr><tr><td>dbfs:/FileStore/tables/partition_example/department=Marketing/_committed_6056881838087723233</td><td>_committed_6056881838087723233</td><td>291</td><td>1708491635000</td></tr><tr><td>dbfs:/FileStore/tables/partition_example/department=Marketing/_started_6056881838087723233</td><td>_started_6056881838087723233</td><td>0</td><td>1708491634000</td></tr><tr><td>dbfs:/FileStore/tables/partition_example/department=Marketing/part-00000-tid-6056881838087723233-536c4efb-6780-4ea6-b85c-dff1517090b2-341-1.c000.csv</td><td>part-00000-tid-6056881838087723233-536c4efb-6780-4ea6-b85c-dff1517090b2-341-1.c000.csv</td><td>28</td><td>1708491635000</td></tr><tr><td>dbfs:/FileStore/tables/partition_example/department=Marketing/part-00005-tid-6056881838087723233-536c4efb-6780-4ea6-b85c-dff1517090b2-346-1.c000.csv</td><td>part-00005-tid-6056881838087723233-536c4efb-6780-4ea6-b85c-dff1517090b2-346-1.c000.csv</td><td>28</td><td>1708491635000</td></tr><tr><td>dbfs:/FileStore/tables/partition_example/department=Marketing/part-00007-tid-6056881838087723233-536c4efb-6780-4ea6-b85c-dff1517090b2-348-1.c000.csv</td><td>part-00007-tid-6056881838087723233-536c4efb-6780-4ea6-b85c-dff1517090b2-348-1.c000.csv</td><td>38</td><td>1708491635000</td></tr></tbody></table></div>"
      ]
     },
     "metadata": {
      "application/vnd.databricks.v1+output": {
       "addedWidgets": {},
       "aggData": [],
       "aggError": "",
       "aggOverflow": false,
       "aggSchema": [],
       "aggSeriesLimitReached": false,
       "aggType": "",
       "arguments": {},
       "columnCustomDisplayInfos": {},
       "data": [
        [
         "dbfs:/FileStore/tables/partition_example/department=Marketing/_SUCCESS",
         "_SUCCESS",
         0,
         1708491635000
        ],
        [
         "dbfs:/FileStore/tables/partition_example/department=Marketing/_committed_6056881838087723233",
         "_committed_6056881838087723233",
         291,
         1708491635000
        ],
        [
         "dbfs:/FileStore/tables/partition_example/department=Marketing/_started_6056881838087723233",
         "_started_6056881838087723233",
         0,
         1708491634000
        ],
        [
         "dbfs:/FileStore/tables/partition_example/department=Marketing/part-00000-tid-6056881838087723233-536c4efb-6780-4ea6-b85c-dff1517090b2-341-1.c000.csv",
         "part-00000-tid-6056881838087723233-536c4efb-6780-4ea6-b85c-dff1517090b2-341-1.c000.csv",
         28,
         1708491635000
        ],
        [
         "dbfs:/FileStore/tables/partition_example/department=Marketing/part-00005-tid-6056881838087723233-536c4efb-6780-4ea6-b85c-dff1517090b2-346-1.c000.csv",
         "part-00005-tid-6056881838087723233-536c4efb-6780-4ea6-b85c-dff1517090b2-346-1.c000.csv",
         28,
         1708491635000
        ],
        [
         "dbfs:/FileStore/tables/partition_example/department=Marketing/part-00007-tid-6056881838087723233-536c4efb-6780-4ea6-b85c-dff1517090b2-348-1.c000.csv",
         "part-00007-tid-6056881838087723233-536c4efb-6780-4ea6-b85c-dff1517090b2-348-1.c000.csv",
         38,
         1708491635000
        ]
       ],
       "datasetInfos": [],
       "dbfsResultPath": null,
       "isJsonSchema": true,
       "metadata": {
        "isDbfsCommandResult": false
       },
       "overflow": false,
       "plotOptions": {
        "customPlotOptions": {},
        "displayType": "table",
        "pivotAggregation": null,
        "pivotColumns": null,
        "xColumns": null,
        "yColumns": null
       },
       "removedWidgets": [],
       "schema": [
        {
         "metadata": "{}",
         "name": "path",
         "type": "\"string\""
        },
        {
         "metadata": "{}",
         "name": "name",
         "type": "\"string\""
        },
        {
         "metadata": "{}",
         "name": "size",
         "type": "\"long\""
        },
        {
         "metadata": "{}",
         "name": "modificationTime",
         "type": "\"long\""
        }
       ],
       "type": "table"
      }
     },
     "output_type": "display_data"
    }
   ],
   "source": [
    "%fs ls dbfs:/FileStore/tables/partition_example/department=Marketing/"
   ]
  },
  {
   "cell_type": "code",
   "execution_count": 0,
   "metadata": {
    "application/vnd.databricks.v1+cell": {
     "cellMetadata": {
      "byteLimit": 2048000,
      "rowLimit": 10000
     },
     "inputWidgets": {},
     "nuid": "b853778f-c09f-42cc-a786-eadacf388f6e",
     "showTitle": false,
     "title": ""
    }
   },
   "outputs": [
    {
     "output_type": "display_data",
     "data": {
      "text/html": [
       "<style scoped>\n",
       "  .ansiout {\n",
       "    display: block;\n",
       "    unicode-bidi: embed;\n",
       "    white-space: pre-wrap;\n",
       "    word-wrap: break-word;\n",
       "    word-break: break-all;\n",
       "    font-family: \"Menlo\", \"Monaco\", \"Consolas\", \"Ubuntu Mono\", \"Source Code Pro\", monospace;\n",
       "    font-size: 13px;\n",
       "    color: #555;\n",
       "    margin-left: 4px;\n",
       "    line-height: 19px;\n",
       "  }\n",
       "</style>\n",
       "<div class=\"ansiout\">Emp_name,salary\n",
       "Sagar,70000\n",
       "\n",
       "</div>"
      ]
     },
     "metadata": {
      "application/vnd.databricks.v1+output": {
       "addedWidgets": {},
       "arguments": {},
       "data": "<div class=\"ansiout\">Emp_name,salary\nSagar,70000\n\n</div>",
       "datasetInfos": [],
       "metadata": {
        "isDbfsCommandResult": false
       },
       "removedWidgets": [],
       "type": "html"
      }
     },
     "output_type": "display_data"
    }
   ],
   "source": [
    "%fs head dbfs:/FileStore/tables/partition_example/department=Marketing/part-00000-tid-6056881838087723233-536c4efb-6780-4ea6-b85c-dff1517090b2-341-1.c000.csv"
   ]
  },
  {
   "cell_type": "markdown",
   "metadata": {
    "application/vnd.databricks.v1+cell": {
     "cellMetadata": {
      "byteLimit": 2048000,
      "rowLimit": 10000
     },
     "inputWidgets": {},
     "nuid": "deda510d-00c1-49a2-b975-951d17f7b5d3",
     "showTitle": false,
     "title": ""
    }
   },
   "source": [
    "#Student Highest Marks"
   ]
  },
  {
   "cell_type": "code",
   "execution_count": 0,
   "metadata": {
    "application/vnd.databricks.v1+cell": {
     "cellMetadata": {
      "byteLimit": 2048000,
      "rowLimit": 10000
     },
     "inputWidgets": {},
     "nuid": "53202ca1-8f88-4a48-80b4-d5babe830fa1",
     "showTitle": false,
     "title": ""
    }
   },
   "outputs": [
    {
     "output_type": "stream",
     "name": "stdout",
     "output_type": "stream",
     "text": [
      "+-------+---------+\n|   name|    marks|\n+-------+---------+\n|  Sagar| 85,81,82|\n| Bhavya|89,95,100|\n|Krishna| 95,96,99|\n| Prabha| 94,91,92|\n+-------+---------+\n\n"
     ]
    }
   ],
   "source": [
    "student_data = [(\"Sagar\",\"85,81,82\"),\n",
    "            (\"Bhavya\",\"89,95,100\"),\n",
    "            (\"Krishna\",\"95,96,99\"),\n",
    "            (\"Prabha\",\"94,91,92\")]\n",
    "col = [\"name\",\"marks\"]\n",
    "\n",
    "student_df = spark.createDataFrame(data = student_data, schema = col)\n",
    "student_df.show()"
   ]
  },
  {
   "cell_type": "code",
   "execution_count": 0,
   "metadata": {
    "application/vnd.databricks.v1+cell": {
     "cellMetadata": {
      "byteLimit": 2048000,
      "rowLimit": 10000
     },
     "inputWidgets": {},
     "nuid": "9a68e26f-3b78-4145-8687-cc462676333d",
     "showTitle": false,
     "title": ""
    }
   },
   "outputs": [
    {
     "output_type": "display_data",
     "data": {
      "text/html": [
       "<style scoped>\n",
       "  .table-result-container {\n",
       "    max-height: 300px;\n",
       "    overflow: auto;\n",
       "  }\n",
       "  table, th, td {\n",
       "    border: 1px solid black;\n",
       "    border-collapse: collapse;\n",
       "  }\n",
       "  th, td {\n",
       "    padding: 5px;\n",
       "  }\n",
       "  th {\n",
       "    text-align: left;\n",
       "  }\n",
       "</style><div class='table-result-container'><table class='table-result'><thead style='background-color: white'><tr><th>name</th><th>mark</th></tr></thead><tbody><tr><td>Sagar</td><td>85</td></tr><tr><td>Sagar</td><td>81</td></tr><tr><td>Sagar</td><td>82</td></tr><tr><td>Bhavya</td><td>89</td></tr><tr><td>Bhavya</td><td>95</td></tr><tr><td>Bhavya</td><td>100</td></tr><tr><td>Krishna</td><td>95</td></tr><tr><td>Krishna</td><td>96</td></tr><tr><td>Krishna</td><td>99</td></tr><tr><td>Prabha</td><td>94</td></tr><tr><td>Prabha</td><td>91</td></tr><tr><td>Prabha</td><td>92</td></tr></tbody></table></div>"
      ]
     },
     "metadata": {
      "application/vnd.databricks.v1+output": {
       "addedWidgets": {},
       "aggData": [],
       "aggError": "",
       "aggOverflow": false,
       "aggSchema": [],
       "aggSeriesLimitReached": false,
       "aggType": "",
       "arguments": {},
       "columnCustomDisplayInfos": {},
       "data": [
        [
         "Sagar",
         "85"
        ],
        [
         "Sagar",
         "81"
        ],
        [
         "Sagar",
         "82"
        ],
        [
         "Bhavya",
         "89"
        ],
        [
         "Bhavya",
         "95"
        ],
        [
         "Bhavya",
         "100"
        ],
        [
         "Krishna",
         "95"
        ],
        [
         "Krishna",
         "96"
        ],
        [
         "Krishna",
         "99"
        ],
        [
         "Prabha",
         "94"
        ],
        [
         "Prabha",
         "91"
        ],
        [
         "Prabha",
         "92"
        ]
       ],
       "datasetInfos": [],
       "dbfsResultPath": null,
       "isJsonSchema": true,
       "metadata": {},
       "overflow": false,
       "plotOptions": {
        "customPlotOptions": {},
        "displayType": "table",
        "pivotAggregation": null,
        "pivotColumns": null,
        "xColumns": null,
        "yColumns": null
       },
       "removedWidgets": [],
       "schema": [
        {
         "metadata": "{}",
         "name": "name",
         "type": "\"string\""
        },
        {
         "metadata": "{}",
         "name": "mark",
         "type": "\"string\""
        }
       ],
       "type": "table"
      }
     },
     "output_type": "display_data"
    }
   ],
   "source": [
    "from pyspark.sql.functions import split, explode, col\n",
    "\n",
    "new_df = student_df.select(\"name\", explode(split(\"marks\",\",\")).alias(\"mark\"))\n",
    "display(new_df)"
   ]
  },
  {
   "cell_type": "code",
   "execution_count": 0,
   "metadata": {
    "application/vnd.databricks.v1+cell": {
     "cellMetadata": {
      "byteLimit": 2048000,
      "rowLimit": 10000
     },
     "inputWidgets": {},
     "nuid": "56b5e88b-d3af-4189-96ae-cf351e404edf",
     "showTitle": false,
     "title": ""
    }
   },
   "outputs": [
    {
     "output_type": "stream",
     "name": "stdout",
     "output_type": "stream",
     "text": [
      "root\n |-- name: string (nullable = true)\n |-- mark: string (nullable = false)\n\n"
     ]
    }
   ],
   "source": [
    "new_df.printSchema()"
   ]
  },
  {
   "cell_type": "code",
   "execution_count": 0,
   "metadata": {
    "application/vnd.databricks.v1+cell": {
     "cellMetadata": {
      "byteLimit": 2048000,
      "rowLimit": 10000
     },
     "inputWidgets": {},
     "nuid": "901e009c-3317-4f7b-89a9-5a967ef58d9d",
     "showTitle": false,
     "title": ""
    }
   },
   "outputs": [
    {
     "output_type": "display_data",
     "data": {
      "text/html": [
       "<style scoped>\n",
       "  .table-result-container {\n",
       "    max-height: 300px;\n",
       "    overflow: auto;\n",
       "  }\n",
       "  table, th, td {\n",
       "    border: 1px solid black;\n",
       "    border-collapse: collapse;\n",
       "  }\n",
       "  th, td {\n",
       "    padding: 5px;\n",
       "  }\n",
       "  th {\n",
       "    text-align: left;\n",
       "  }\n",
       "</style><div class='table-result-container'><table class='table-result'><thead style='background-color: white'><tr><th>name</th><th>mark</th></tr></thead><tbody><tr><td>Sagar</td><td>85</td></tr><tr><td>Sagar</td><td>81</td></tr><tr><td>Sagar</td><td>82</td></tr><tr><td>Bhavya</td><td>89</td></tr><tr><td>Bhavya</td><td>95</td></tr><tr><td>Bhavya</td><td>100</td></tr><tr><td>Krishna</td><td>95</td></tr><tr><td>Krishna</td><td>96</td></tr><tr><td>Krishna</td><td>99</td></tr><tr><td>Prabha</td><td>94</td></tr><tr><td>Prabha</td><td>91</td></tr><tr><td>Prabha</td><td>92</td></tr></tbody></table></div>"
      ]
     },
     "metadata": {
      "application/vnd.databricks.v1+output": {
       "addedWidgets": {},
       "aggData": [],
       "aggError": "",
       "aggOverflow": false,
       "aggSchema": [],
       "aggSeriesLimitReached": false,
       "aggType": "",
       "arguments": {},
       "columnCustomDisplayInfos": {},
       "data": [
        [
         "Sagar",
         85
        ],
        [
         "Sagar",
         81
        ],
        [
         "Sagar",
         82
        ],
        [
         "Bhavya",
         89
        ],
        [
         "Bhavya",
         95
        ],
        [
         "Bhavya",
         100
        ],
        [
         "Krishna",
         95
        ],
        [
         "Krishna",
         96
        ],
        [
         "Krishna",
         99
        ],
        [
         "Prabha",
         94
        ],
        [
         "Prabha",
         91
        ],
        [
         "Prabha",
         92
        ]
       ],
       "datasetInfos": [],
       "dbfsResultPath": null,
       "isJsonSchema": true,
       "metadata": {},
       "overflow": false,
       "plotOptions": {
        "customPlotOptions": {},
        "displayType": "table",
        "pivotAggregation": null,
        "pivotColumns": null,
        "xColumns": null,
        "yColumns": null
       },
       "removedWidgets": [],
       "schema": [
        {
         "metadata": "{}",
         "name": "name",
         "type": "\"string\""
        },
        {
         "metadata": "{}",
         "name": "mark",
         "type": "\"integer\""
        }
       ],
       "type": "table"
      }
     },
     "output_type": "display_data"
    }
   ],
   "source": [
    "dtype_df = new_df.select(\"name\", col(\"mark\").cast(\"int\"))\n",
    "display(dtype_df)"
   ]
  },
  {
   "cell_type": "code",
   "execution_count": 0,
   "metadata": {
    "application/vnd.databricks.v1+cell": {
     "cellMetadata": {
      "byteLimit": 2048000,
      "rowLimit": 10000
     },
     "inputWidgets": {},
     "nuid": "42096046-578a-46f7-bfe2-56deea540b74",
     "showTitle": false,
     "title": ""
    }
   },
   "outputs": [
    {
     "output_type": "stream",
     "name": "stdout",
     "output_type": "stream",
     "text": [
      "root\n |-- name: string (nullable = true)\n |-- mark: integer (nullable = true)\n\n"
     ]
    }
   ],
   "source": [
    "dtype_df.printSchema()"
   ]
  },
  {
   "cell_type": "code",
   "execution_count": 0,
   "metadata": {
    "application/vnd.databricks.v1+cell": {
     "cellMetadata": {
      "byteLimit": 2048000,
      "rowLimit": 10000
     },
     "inputWidgets": {},
     "nuid": "20a64c9a-a3e6-4ad3-a547-3c7211b9ad49",
     "showTitle": false,
     "title": ""
    }
   },
   "outputs": [
    {
     "output_type": "display_data",
     "data": {
      "text/html": [
       "<style scoped>\n",
       "  .table-result-container {\n",
       "    max-height: 300px;\n",
       "    overflow: auto;\n",
       "  }\n",
       "  table, th, td {\n",
       "    border: 1px solid black;\n",
       "    border-collapse: collapse;\n",
       "  }\n",
       "  th, td {\n",
       "    padding: 5px;\n",
       "  }\n",
       "  th {\n",
       "    text-align: left;\n",
       "  }\n",
       "</style><div class='table-result-container'><table class='table-result'><thead style='background-color: white'><tr><th>name</th><th>max(mark)</th></tr></thead><tbody><tr><td>Sagar</td><td>85</td></tr><tr><td>Bhavya</td><td>100</td></tr><tr><td>Krishna</td><td>99</td></tr><tr><td>Prabha</td><td>94</td></tr></tbody></table></div>"
      ]
     },
     "metadata": {
      "application/vnd.databricks.v1+output": {
       "addedWidgets": {},
       "aggData": [],
       "aggError": "",
       "aggOverflow": false,
       "aggSchema": [],
       "aggSeriesLimitReached": false,
       "aggType": "",
       "arguments": {},
       "columnCustomDisplayInfos": {},
       "data": [
        [
         "Sagar",
         85
        ],
        [
         "Bhavya",
         100
        ],
        [
         "Krishna",
         99
        ],
        [
         "Prabha",
         94
        ]
       ],
       "datasetInfos": [],
       "dbfsResultPath": null,
       "isJsonSchema": true,
       "metadata": {},
       "overflow": false,
       "plotOptions": {
        "customPlotOptions": {},
        "displayType": "table",
        "pivotAggregation": null,
        "pivotColumns": null,
        "xColumns": null,
        "yColumns": null
       },
       "removedWidgets": [],
       "schema": [
        {
         "metadata": "{}",
         "name": "name",
         "type": "\"string\""
        },
        {
         "metadata": "{}",
         "name": "max(mark)",
         "type": "\"integer\""
        }
       ],
       "type": "table"
      }
     },
     "output_type": "display_data"
    }
   ],
   "source": [
    "final_df = dtype_df.groupBy(\"name\").max(\"mark\")\n",
    "display(final_df)"
   ]
  },
  {
   "cell_type": "markdown",
   "metadata": {
    "application/vnd.databricks.v1+cell": {
     "cellMetadata": {},
     "inputWidgets": {},
     "nuid": "4ea53721-f619-4861-897f-90b626b57430",
     "showTitle": false,
     "title": ""
    }
   },
   "source": [
    "#Department wise Salary"
   ]
  },
  {
   "cell_type": "code",
   "execution_count": 0,
   "metadata": {
    "application/vnd.databricks.v1+cell": {
     "cellMetadata": {
      "byteLimit": 2048000,
      "rowLimit": 10000
     },
     "inputWidgets": {},
     "nuid": "82f73f67-2340-4d7d-bda7-58af01e7d6bb",
     "showTitle": false,
     "title": ""
    }
   },
   "outputs": [
    {
     "output_type": "stream",
     "name": "stdout",
     "output_type": "stream",
     "text": [
      "+--------+----------+------+\n|Emp_name|department|salary|\n+--------+----------+------+\n|   Sagar| Marketing| 70000|\n|  Bhavya|   Finance|100000|\n| Krishna|   Finance|150000|\n|  Prabha|     Sales| 90000|\n|    siva|     Sales| 50000|\n|   Chile| Marketing| 40000|\n|    jeff|   analyst| 70000|\n|   Romeo| Marketing| 50000|\n|     Dan| Marketing| 50000|\n+--------+----------+------+\n\n"
     ]
    }
   ],
   "source": [
    "emp_data = [(\"Sagar\",\"Marketing\",70000),\n",
    "            (\"Bhavya\",\"Finance\",100000),\n",
    "            (\"Krishna\",\"Finance\",150000),\n",
    "            (\"Prabha\",\"Sales\",90000),\n",
    "            (\"siva\",\"Sales\",50000),\n",
    "            (\"Chile\",\"Marketing\",40000),\n",
    "            (\"jeff\",\"analyst\",70000),\n",
    "            (\"Romeo\",\"Marketing\",50000),\n",
    "            (\"Dan\",\"Marketing\",50000)]\n",
    "\n",
    "schema = [\"Emp_name\", \"department\", \"salary\"]\n",
    "\n",
    "emp_df = spark.createDataFrame(data = emp_data, schema = schema)\n",
    "emp_df.show()"
   ]
  },
  {
   "cell_type": "code",
   "execution_count": 0,
   "metadata": {
    "application/vnd.databricks.v1+cell": {
     "cellMetadata": {
      "byteLimit": 2048000,
      "rowLimit": 10000
     },
     "inputWidgets": {},
     "nuid": "e1a485d3-ee02-4e25-b3f4-a65ea8fbfb72",
     "showTitle": false,
     "title": ""
    }
   },
   "outputs": [
    {
     "output_type": "display_data",
     "data": {
      "text/html": [
       "<style scoped>\n",
       "  .table-result-container {\n",
       "    max-height: 300px;\n",
       "    overflow: auto;\n",
       "  }\n",
       "  table, th, td {\n",
       "    border: 1px solid black;\n",
       "    border-collapse: collapse;\n",
       "  }\n",
       "  th, td {\n",
       "    padding: 5px;\n",
       "  }\n",
       "  th {\n",
       "    text-align: left;\n",
       "  }\n",
       "</style><div class='table-result-container'><table class='table-result'><thead style='background-color: white'><tr><th>department</th><th>sum(salary)</th></tr></thead><tbody><tr><td>Marketing</td><td>210000</td></tr><tr><td>Finance</td><td>250000</td></tr><tr><td>Sales</td><td>140000</td></tr><tr><td>analyst</td><td>70000</td></tr></tbody></table></div>"
      ]
     },
     "metadata": {
      "application/vnd.databricks.v1+output": {
       "addedWidgets": {},
       "aggData": [],
       "aggError": "",
       "aggOverflow": false,
       "aggSchema": [],
       "aggSeriesLimitReached": false,
       "aggType": "",
       "arguments": {},
       "columnCustomDisplayInfos": {},
       "data": [
        [
         "Marketing",
         210000
        ],
        [
         "Finance",
         250000
        ],
        [
         "Sales",
         140000
        ],
        [
         "analyst",
         70000
        ]
       ],
       "datasetInfos": [],
       "dbfsResultPath": null,
       "isJsonSchema": true,
       "metadata": {},
       "overflow": false,
       "plotOptions": {
        "customPlotOptions": {},
        "displayType": "table",
        "pivotAggregation": null,
        "pivotColumns": null,
        "xColumns": null,
        "yColumns": null
       },
       "removedWidgets": [],
       "schema": [
        {
         "metadata": "{}",
         "name": "department",
         "type": "\"string\""
        },
        {
         "metadata": "{}",
         "name": "sum(salary)",
         "type": "\"long\""
        }
       ],
       "type": "table"
      }
     },
     "output_type": "display_data"
    }
   ],
   "source": [
    "final_df = emp_df.groupBy(\"department\").sum(\"salary\")\n",
    "display(final_df)"
   ]
  }
 ],
 "metadata": {
  "application/vnd.databricks.v1+notebook": {
   "dashboards": [],
   "language": "python",
   "notebookMetadata": {
    "mostRecentlyExecutedCommandWithImplicitDF": {
     "commandId": 2713150968638705,
     "dataframes": [
      "_sqldf"
     ]
    },
    "pythonIndentUnit": 4
   },
   "notebookName": "Spark DF Functions",
   "widgets": {}
  }
 },
 "nbformat": 4,
 "nbformat_minor": 0
}
