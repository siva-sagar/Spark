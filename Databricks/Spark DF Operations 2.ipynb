{
 "cells": [
  {
   "cell_type": "markdown",
   "metadata": {
    "application/vnd.databricks.v1+cell": {
     "cellMetadata": {},
     "inputWidgets": {},
     "nuid": "331138cd-bd6d-46d6-9336-551d48d5a275",
     "showTitle": false,
     "title": ""
    }
   },
   "source": [
    "# Word Count\n"
   ]
  },
  {
   "cell_type": "code",
   "execution_count": 0,
   "metadata": {
    "application/vnd.databricks.v1+cell": {
     "cellMetadata": {
      "byteLimit": 2048000,
      "rowLimit": 10000
     },
     "inputWidgets": {},
     "nuid": "1f27f9c5-1255-42b3-bf02-133db0266b1f",
     "showTitle": false,
     "title": ""
    }
   },
   "outputs": [
    {
     "output_type": "display_data",
     "data": {
      "text/html": [
       "<style scoped>\n",
       "  .ansiout {\n",
       "    display: block;\n",
       "    unicode-bidi: embed;\n",
       "    white-space: pre-wrap;\n",
       "    word-wrap: break-word;\n",
       "    word-break: break-all;\n",
       "    font-family: \"Menlo\", \"Monaco\", \"Consolas\", \"Ubuntu Mono\", \"Source Code Pro\", monospace;\n",
       "    font-size: 13px;\n",
       "    color: #555;\n",
       "    margin-left: 4px;\n",
       "    line-height: 19px;\n",
       "  }\n",
       "</style>\n",
       "<div class=\"ansiout\">hello world\r\n",
       "how are you\r\n",
       "hello world\r\n",
       "I am doing fine\r\n",
       "hello again\r\n",
       "hope you are fine\r\n",
       "hello world\r\n",
       "hello world\r\n",
       "I am also fine\n",
       "</div>"
      ]
     },
     "metadata": {
      "application/vnd.databricks.v1+output": {
       "addedWidgets": {},
       "arguments": {},
       "data": "<div class=\"ansiout\">hello world\r\nhow are you\r\nhello world\r\nI am doing fine\r\nhello again\r\nhope you are fine\r\nhello world\r\nhello world\r\nI am also fine\n</div>",
       "datasetInfos": [],
       "metadata": {
        "isDbfsCommandResult": false
       },
       "removedWidgets": [],
       "type": "html"
      }
     },
     "output_type": "display_data"
    }
   ],
   "source": [
    "%fs head /FileStore/tables/july2023data/sample.txt"
   ]
  },
  {
   "cell_type": "code",
   "execution_count": 0,
   "metadata": {
    "application/vnd.databricks.v1+cell": {
     "cellMetadata": {
      "byteLimit": 2048000,
      "rowLimit": 10000
     },
     "inputWidgets": {},
     "nuid": "d12d0cc5-5596-4cd3-bed5-eddce59c3926",
     "showTitle": false,
     "title": ""
    }
   },
   "outputs": [
    {
     "output_type": "display_data",
     "data": {
      "text/html": [
       "<style scoped>\n",
       "  .table-result-container {\n",
       "    max-height: 300px;\n",
       "    overflow: auto;\n",
       "  }\n",
       "  table, th, td {\n",
       "    border: 1px solid black;\n",
       "    border-collapse: collapse;\n",
       "  }\n",
       "  th, td {\n",
       "    padding: 5px;\n",
       "  }\n",
       "  th {\n",
       "    text-align: left;\n",
       "  }\n",
       "</style><div class='table-result-container'><table class='table-result'><thead style='background-color: white'><tr><th>lines</th></tr></thead><tbody><tr><td>hello world</td></tr><tr><td>how are you</td></tr><tr><td>hello world</td></tr><tr><td>I am doing fine</td></tr><tr><td>hello again</td></tr><tr><td>hope you are fine</td></tr><tr><td>hello world</td></tr><tr><td>hello world</td></tr><tr><td>I am also fine</td></tr></tbody></table></div>"
      ]
     },
     "metadata": {
      "application/vnd.databricks.v1+output": {
       "addedWidgets": {},
       "aggData": [],
       "aggError": "",
       "aggOverflow": false,
       "aggSchema": [],
       "aggSeriesLimitReached": false,
       "aggType": "",
       "arguments": {},
       "columnCustomDisplayInfos": {},
       "data": [
        [
         "hello world"
        ],
        [
         "how are you"
        ],
        [
         "hello world"
        ],
        [
         "I am doing fine"
        ],
        [
         "hello again"
        ],
        [
         "hope you are fine"
        ],
        [
         "hello world"
        ],
        [
         "hello world"
        ],
        [
         "I am also fine"
        ]
       ],
       "datasetInfos": [],
       "dbfsResultPath": null,
       "isJsonSchema": true,
       "metadata": {},
       "overflow": false,
       "plotOptions": {
        "customPlotOptions": {},
        "displayType": "table",
        "pivotAggregation": null,
        "pivotColumns": null,
        "xColumns": null,
        "yColumns": null
       },
       "removedWidgets": [],
       "schema": [
        {
         "metadata": "{}",
         "name": "lines",
         "type": "\"string\""
        }
       ],
       "type": "table"
      }
     },
     "output_type": "display_data"
    }
   ],
   "source": [
    "df = (spark\n",
    "      .read\n",
    "      .format(\"text\")\n",
    "      .load(\"/FileStore/tables/july2023data/sample.txt\")\n",
    "      .toDF(\"lines\"))\n",
    "\n",
    "display(df)"
   ]
  },
  {
   "cell_type": "code",
   "execution_count": 0,
   "metadata": {
    "application/vnd.databricks.v1+cell": {
     "cellMetadata": {
      "byteLimit": 2048000,
      "rowLimit": 10000
     },
     "inputWidgets": {},
     "nuid": "51fe6b56-d814-402b-b83e-729f96d8a241",
     "showTitle": false,
     "title": ""
    }
   },
   "outputs": [
    {
     "output_type": "display_data",
     "data": {
      "text/html": [
       "<style scoped>\n",
       "  .table-result-container {\n",
       "    max-height: 300px;\n",
       "    overflow: auto;\n",
       "  }\n",
       "  table, th, td {\n",
       "    border: 1px solid black;\n",
       "    border-collapse: collapse;\n",
       "  }\n",
       "  th, td {\n",
       "    padding: 5px;\n",
       "  }\n",
       "  th {\n",
       "    text-align: left;\n",
       "  }\n",
       "</style><div class='table-result-container'><table class='table-result'><thead style='background-color: white'><tr><th>words</th></tr></thead><tbody><tr><td>List(hello, world)</td></tr><tr><td>List(how, are, you)</td></tr><tr><td>List(hello, world)</td></tr><tr><td>List(I, am, doing, fine)</td></tr><tr><td>List(hello, again)</td></tr><tr><td>List(hope, you, are, fine)</td></tr><tr><td>List(hello, world)</td></tr><tr><td>List(hello, world)</td></tr><tr><td>List(I, am, also, fine)</td></tr></tbody></table></div>"
      ]
     },
     "metadata": {
      "application/vnd.databricks.v1+output": {
       "addedWidgets": {},
       "aggData": [],
       "aggError": "",
       "aggOverflow": false,
       "aggSchema": [],
       "aggSeriesLimitReached": false,
       "aggType": "",
       "arguments": {},
       "columnCustomDisplayInfos": {},
       "data": [
        [
         [
          "hello",
          "world"
         ]
        ],
        [
         [
          "how",
          "are",
          "you"
         ]
        ],
        [
         [
          "hello",
          "world"
         ]
        ],
        [
         [
          "I",
          "am",
          "doing",
          "fine"
         ]
        ],
        [
         [
          "hello",
          "again"
         ]
        ],
        [
         [
          "hope",
          "you",
          "are",
          "fine"
         ]
        ],
        [
         [
          "hello",
          "world"
         ]
        ],
        [
         [
          "hello",
          "world"
         ]
        ],
        [
         [
          "I",
          "am",
          "also",
          "fine"
         ]
        ]
       ],
       "datasetInfos": [],
       "dbfsResultPath": null,
       "isJsonSchema": true,
       "metadata": {},
       "overflow": false,
       "plotOptions": {
        "customPlotOptions": {},
        "displayType": "table",
        "pivotAggregation": null,
        "pivotColumns": null,
        "xColumns": null,
        "yColumns": null
       },
       "removedWidgets": [],
       "schema": [
        {
         "metadata": "{}",
         "name": "words",
         "type": "{\"type\":\"array\",\"elementType\":\"string\",\"containsNull\":false}"
        }
       ],
       "type": "table"
      }
     },
     "output_type": "display_data"
    }
   ],
   "source": [
    "from pyspark.sql.functions import split\n",
    "split_df = df.select(split(\"lines\",\" \").alias(\"words\"))\n",
    "\n",
    "display(split_df)"
   ]
  },
  {
   "cell_type": "code",
   "execution_count": 0,
   "metadata": {
    "application/vnd.databricks.v1+cell": {
     "cellMetadata": {
      "byteLimit": 2048000,
      "rowLimit": 10000
     },
     "inputWidgets": {},
     "nuid": "d9604526-00fd-40b9-8778-da84b12a55bc",
     "showTitle": false,
     "title": ""
    }
   },
   "outputs": [
    {
     "output_type": "display_data",
     "data": {
      "text/html": [
       "<style scoped>\n",
       "  .table-result-container {\n",
       "    max-height: 300px;\n",
       "    overflow: auto;\n",
       "  }\n",
       "  table, th, td {\n",
       "    border: 1px solid black;\n",
       "    border-collapse: collapse;\n",
       "  }\n",
       "  th, td {\n",
       "    padding: 5px;\n",
       "  }\n",
       "  th {\n",
       "    text-align: left;\n",
       "  }\n",
       "</style><div class='table-result-container'><table class='table-result'><thead style='background-color: white'><tr><th>word</th></tr></thead><tbody><tr><td>hello</td></tr><tr><td>world</td></tr><tr><td>how</td></tr><tr><td>are</td></tr><tr><td>you</td></tr><tr><td>hello</td></tr><tr><td>world</td></tr><tr><td>I</td></tr><tr><td>am</td></tr><tr><td>doing</td></tr><tr><td>fine</td></tr><tr><td>hello</td></tr><tr><td>again</td></tr><tr><td>hope</td></tr><tr><td>you</td></tr><tr><td>are</td></tr><tr><td>fine</td></tr><tr><td>hello</td></tr><tr><td>world</td></tr><tr><td>hello</td></tr><tr><td>world</td></tr><tr><td>I</td></tr><tr><td>am</td></tr><tr><td>also</td></tr><tr><td>fine</td></tr></tbody></table></div>"
      ]
     },
     "metadata": {
      "application/vnd.databricks.v1+output": {
       "addedWidgets": {},
       "aggData": [],
       "aggError": "",
       "aggOverflow": false,
       "aggSchema": [],
       "aggSeriesLimitReached": false,
       "aggType": "",
       "arguments": {},
       "columnCustomDisplayInfos": {},
       "data": [
        [
         "hello"
        ],
        [
         "world"
        ],
        [
         "how"
        ],
        [
         "are"
        ],
        [
         "you"
        ],
        [
         "hello"
        ],
        [
         "world"
        ],
        [
         "I"
        ],
        [
         "am"
        ],
        [
         "doing"
        ],
        [
         "fine"
        ],
        [
         "hello"
        ],
        [
         "again"
        ],
        [
         "hope"
        ],
        [
         "you"
        ],
        [
         "are"
        ],
        [
         "fine"
        ],
        [
         "hello"
        ],
        [
         "world"
        ],
        [
         "hello"
        ],
        [
         "world"
        ],
        [
         "I"
        ],
        [
         "am"
        ],
        [
         "also"
        ],
        [
         "fine"
        ]
       ],
       "datasetInfos": [],
       "dbfsResultPath": null,
       "isJsonSchema": true,
       "metadata": {},
       "overflow": false,
       "plotOptions": {
        "customPlotOptions": {},
        "displayType": "table",
        "pivotAggregation": null,
        "pivotColumns": null,
        "xColumns": null,
        "yColumns": null
       },
       "removedWidgets": [],
       "schema": [
        {
         "metadata": "{}",
         "name": "word",
         "type": "\"string\""
        }
       ],
       "type": "table"
      }
     },
     "output_type": "display_data"
    }
   ],
   "source": [
    "from pyspark.sql.functions import explode\n",
    "\n",
    "explode_df = split_df.select(explode(\"words\").alias(\"word\"))\n",
    "display(explode_df)"
   ]
  },
  {
   "cell_type": "code",
   "execution_count": 0,
   "metadata": {
    "application/vnd.databricks.v1+cell": {
     "cellMetadata": {
      "byteLimit": 2048000,
      "rowLimit": 10000
     },
     "inputWidgets": {},
     "nuid": "dacfc7d8-4c5e-4b51-a5c0-5ab0bb5403d7",
     "showTitle": false,
     "title": ""
    }
   },
   "outputs": [
    {
     "output_type": "display_data",
     "data": {
      "text/html": [
       "<style scoped>\n",
       "  .table-result-container {\n",
       "    max-height: 300px;\n",
       "    overflow: auto;\n",
       "  }\n",
       "  table, th, td {\n",
       "    border: 1px solid black;\n",
       "    border-collapse: collapse;\n",
       "  }\n",
       "  th, td {\n",
       "    padding: 5px;\n",
       "  }\n",
       "  th {\n",
       "    text-align: left;\n",
       "  }\n",
       "</style><div class='table-result-container'><table class='table-result'><thead style='background-color: white'><tr><th>word</th><th>count</th></tr></thead><tbody><tr><td>hope</td><td>1</td></tr><tr><td>you</td><td>2</td></tr><tr><td>fine</td><td>3</td></tr><tr><td>how</td><td>1</td></tr><tr><td>hello</td><td>5</td></tr><tr><td>again</td><td>1</td></tr><tr><td>doing</td><td>1</td></tr><tr><td>are</td><td>2</td></tr><tr><td>world</td><td>4</td></tr><tr><td>I</td><td>2</td></tr><tr><td>am</td><td>2</td></tr><tr><td>also</td><td>1</td></tr></tbody></table></div>"
      ]
     },
     "metadata": {
      "application/vnd.databricks.v1+output": {
       "addedWidgets": {},
       "aggData": [],
       "aggError": "",
       "aggOverflow": false,
       "aggSchema": [],
       "aggSeriesLimitReached": false,
       "aggType": "",
       "arguments": {},
       "columnCustomDisplayInfos": {},
       "data": [
        [
         "hope",
         1
        ],
        [
         "you",
         2
        ],
        [
         "fine",
         3
        ],
        [
         "how",
         1
        ],
        [
         "hello",
         5
        ],
        [
         "again",
         1
        ],
        [
         "doing",
         1
        ],
        [
         "are",
         2
        ],
        [
         "world",
         4
        ],
        [
         "I",
         2
        ],
        [
         "am",
         2
        ],
        [
         "also",
         1
        ]
       ],
       "datasetInfos": [],
       "dbfsResultPath": null,
       "isJsonSchema": true,
       "metadata": {},
       "overflow": false,
       "plotOptions": {
        "customPlotOptions": {},
        "displayType": "table",
        "pivotAggregation": null,
        "pivotColumns": null,
        "xColumns": null,
        "yColumns": null
       },
       "removedWidgets": [],
       "schema": [
        {
         "metadata": "{}",
         "name": "word",
         "type": "\"string\""
        },
        {
         "metadata": "{}",
         "name": "count",
         "type": "\"long\""
        }
       ],
       "type": "table"
      }
     },
     "output_type": "display_data"
    }
   ],
   "source": [
    "agg_df = explode_df.groupby(\"word\").count()\n",
    "display(agg_df)"
   ]
  },
  {
   "cell_type": "code",
   "execution_count": 0,
   "metadata": {
    "application/vnd.databricks.v1+cell": {
     "cellMetadata": {
      "byteLimit": 2048000,
      "rowLimit": 10000
     },
     "inputWidgets": {},
     "nuid": "0c267a90-108e-4136-a982-6972bcb46868",
     "showTitle": false,
     "title": ""
    }
   },
   "outputs": [
    {
     "output_type": "stream",
     "name": "stdout",
     "output_type": "stream",
     "text": [
      "+-----+-----+\n| word|count|\n+-----+-----+\n|hello|    5|\n|world|    4|\n| fine|    3|\n|  you|    2|\n|  are|    2|\n+-----+-----+\nonly showing top 5 rows\n\n"
     ]
    }
   ],
   "source": [
    "from pyspark.sql.functions import desc\n",
    "sorted_df = agg_df.orderBy(desc(\"count\"))\n",
    "sorted_df.show(5)"
   ]
  },
  {
   "cell_type": "code",
   "execution_count": 0,
   "metadata": {
    "application/vnd.databricks.v1+cell": {
     "cellMetadata": {
      "byteLimit": 2048000,
      "rowLimit": 10000
     },
     "inputWidgets": {},
     "nuid": "9e943da7-70c4-4f8d-af1c-6842036c96db",
     "showTitle": false,
     "title": ""
    }
   },
   "outputs": [
    {
     "output_type": "display_data",
     "data": {
      "text/html": [
       "<style scoped>\n",
       "  .ansiout {\n",
       "    display: block;\n",
       "    unicode-bidi: embed;\n",
       "    white-space: pre-wrap;\n",
       "    word-wrap: break-word;\n",
       "    word-break: break-all;\n",
       "    font-family: \"Menlo\", \"Monaco\", \"Consolas\", \"Ubuntu Mono\", \"Source Code Pro\", monospace;\n",
       "    font-size: 13px;\n",
       "    color: #555;\n",
       "    margin-left: 4px;\n",
       "    line-height: 19px;\n",
       "  }\n",
       "</style>\n",
       "<div class=\"ansiout\">{\r\n",
       "&quot;name&quot;: &quot;xyz&quot;,\r\n",
       "&quot;values&quot;: [&quot;a&quot;, &quot;b&quot;, &quot;c&quot;]\r\n",
       "}\n",
       "</div>"
      ]
     },
     "metadata": {
      "application/vnd.databricks.v1+output": {
       "addedWidgets": {},
       "arguments": {},
       "data": "<div class=\"ansiout\">{\r\n&quot;name&quot;: &quot;xyz&quot;,\r\n&quot;values&quot;: [&quot;a&quot;, &quot;b&quot;, &quot;c&quot;]\r\n}\n</div>",
       "datasetInfos": [],
       "metadata": {
        "isDbfsCommandResult": false
       },
       "removedWidgets": [],
       "type": "html"
      }
     },
     "output_type": "display_data"
    }
   ],
   "source": [
    "%fs head  /FileStore/tables/july2023data/input.json"
   ]
  },
  {
   "cell_type": "code",
   "execution_count": 0,
   "metadata": {
    "application/vnd.databricks.v1+cell": {
     "cellMetadata": {
      "byteLimit": 2048000,
      "rowLimit": 10000
     },
     "inputWidgets": {},
     "nuid": "c9024aa6-4c20-47fe-9620-b522e22592d5",
     "showTitle": false,
     "title": ""
    }
   },
   "outputs": [],
   "source": [
    "input_df = (spark\n",
    "            .read\n",
    "            .format(\"json\")\n",
    "            .option(\"multiline\",\"true\")\n",
    "            .load(\"/FileStore/tables/july2023data/input.json\"))"
   ]
  },
  {
   "cell_type": "code",
   "execution_count": 0,
   "metadata": {
    "application/vnd.databricks.v1+cell": {
     "cellMetadata": {
      "byteLimit": 2048000,
      "rowLimit": 10000
     },
     "inputWidgets": {},
     "nuid": "e4b2951c-854c-41c2-83a9-ae0c1414f4cb",
     "showTitle": false,
     "title": ""
    }
   },
   "outputs": [
    {
     "output_type": "stream",
     "name": "stdout",
     "output_type": "stream",
     "text": [
      "+----+---------+\n|name|   values|\n+----+---------+\n| xyz|[a, b, c]|\n+----+---------+\n\n"
     ]
    }
   ],
   "source": [
    "input_df.show()"
   ]
  },
  {
   "cell_type": "code",
   "execution_count": 0,
   "metadata": {
    "application/vnd.databricks.v1+cell": {
     "cellMetadata": {
      "byteLimit": 2048000,
      "rowLimit": 10000
     },
     "inputWidgets": {},
     "nuid": "36c84f05-c542-464d-8986-9fcb9afcc2c8",
     "showTitle": false,
     "title": ""
    }
   },
   "outputs": [
    {
     "output_type": "display_data",
     "data": {
      "text/html": [
       "<style scoped>\n",
       "  .table-result-container {\n",
       "    max-height: 300px;\n",
       "    overflow: auto;\n",
       "  }\n",
       "  table, th, td {\n",
       "    border: 1px solid black;\n",
       "    border-collapse: collapse;\n",
       "  }\n",
       "  th, td {\n",
       "    padding: 5px;\n",
       "  }\n",
       "  th {\n",
       "    text-align: left;\n",
       "  }\n",
       "</style><div class='table-result-container'><table class='table-result'><thead style='background-color: white'><tr><th>name</th><th>value</th></tr></thead><tbody><tr><td>xyz</td><td>a</td></tr><tr><td>xyz</td><td>b</td></tr><tr><td>xyz</td><td>c</td></tr></tbody></table></div>"
      ]
     },
     "metadata": {
      "application/vnd.databricks.v1+output": {
       "addedWidgets": {},
       "aggData": [],
       "aggError": "",
       "aggOverflow": false,
       "aggSchema": [],
       "aggSeriesLimitReached": false,
       "aggType": "",
       "arguments": {},
       "columnCustomDisplayInfos": {},
       "data": [
        [
         "xyz",
         "a"
        ],
        [
         "xyz",
         "b"
        ],
        [
         "xyz",
         "c"
        ]
       ],
       "datasetInfos": [],
       "dbfsResultPath": null,
       "isJsonSchema": true,
       "metadata": {},
       "overflow": false,
       "plotOptions": {
        "customPlotOptions": {},
        "displayType": "table",
        "pivotAggregation": null,
        "pivotColumns": null,
        "xColumns": null,
        "yColumns": null
       },
       "removedWidgets": [],
       "schema": [
        {
         "metadata": "{}",
         "name": "name",
         "type": "\"string\""
        },
        {
         "metadata": "{}",
         "name": "value",
         "type": "\"string\""
        }
       ],
       "type": "table"
      }
     },
     "output_type": "display_data"
    }
   ],
   "source": [
    "from pyspark.sql.functions import explode\n",
    "explode_df = input_df.select(\"name\", explode(\"values\").alias(\"value\"))\n",
    "display(explode_df)"
   ]
  },
  {
   "cell_type": "code",
   "execution_count": 0,
   "metadata": {
    "application/vnd.databricks.v1+cell": {
     "cellMetadata": {
      "byteLimit": 2048000,
      "rowLimit": 10000
     },
     "inputWidgets": {},
     "nuid": "da12c992-a025-4534-8689-5045cf8b2402",
     "showTitle": false,
     "title": ""
    }
   },
   "outputs": [
    {
     "output_type": "display_data",
     "data": {
      "text/html": [
       "<style scoped>\n",
       "  .ansiout {\n",
       "    display: block;\n",
       "    unicode-bidi: embed;\n",
       "    white-space: pre-wrap;\n",
       "    word-wrap: break-word;\n",
       "    word-break: break-all;\n",
       "    font-family: \"Menlo\", \"Monaco\", \"Consolas\", \"Ubuntu Mono\", \"Source Code Pro\", monospace;\n",
       "    font-size: 13px;\n",
       "    color: #555;\n",
       "    margin-left: 4px;\n",
       "    line-height: 19px;\n",
       "  }\n",
       "</style>\n",
       "<div class=\"ansiout\">[\r\n",
       "   {\r\n",
       "      &quot;name&quot;:&quot;Ram&quot;,\r\n",
       "      &quot;Education&quot;:[\r\n",
       "         {\r\n",
       "            &quot;Qualification&quot;:&quot;BE&quot;,\r\n",
       "            &quot;year&quot;:2011\r\n",
       "         },\r\n",
       "         {\r\n",
       "            &quot;Qualification&quot;:&quot;ME&quot;,\r\n",
       "            &quot;year&quot;:2013\r\n",
       "         }\r\n",
       "      ]\r\n",
       "   },\r\n",
       "   {\r\n",
       "      &quot;name&quot;:&quot;Rohit&quot;,\r\n",
       "      &quot;Education&quot;:[\r\n",
       "         {\r\n",
       "            &quot;Qualification&quot;:&quot;BE&quot;,\r\n",
       "            &quot;year&quot;:2010\r\n",
       "         }\r\n",
       "      ]\r\n",
       "   }\r\n",
       "]\n",
       "</div>"
      ]
     },
     "metadata": {
      "application/vnd.databricks.v1+output": {
       "addedWidgets": {},
       "arguments": {},
       "data": "<div class=\"ansiout\">[\r\n   {\r\n      &quot;name&quot;:&quot;Ram&quot;,\r\n      &quot;Education&quot;:[\r\n         {\r\n            &quot;Qualification&quot;:&quot;BE&quot;,\r\n            &quot;year&quot;:2011\r\n         },\r\n         {\r\n            &quot;Qualification&quot;:&quot;ME&quot;,\r\n            &quot;year&quot;:2013\r\n         }\r\n      ]\r\n   },\r\n   {\r\n      &quot;name&quot;:&quot;Rohit&quot;,\r\n      &quot;Education&quot;:[\r\n         {\r\n            &quot;Qualification&quot;:&quot;BE&quot;,\r\n            &quot;year&quot;:2010\r\n         }\r\n      ]\r\n   }\r\n]\n</div>",
       "datasetInfos": [],
       "metadata": {
        "isDbfsCommandResult": false
       },
       "removedWidgets": [],
       "type": "html"
      }
     },
     "output_type": "display_data"
    }
   ],
   "source": [
    "%fs head  /FileStore/tables/students_nested_json_data.json"
   ]
  },
  {
   "cell_type": "code",
   "execution_count": 0,
   "metadata": {
    "application/vnd.databricks.v1+cell": {
     "cellMetadata": {
      "byteLimit": 2048000,
      "rowLimit": 10000
     },
     "inputWidgets": {},
     "nuid": "6505f7de-2a19-4feb-8de3-1de77d4ca267",
     "showTitle": false,
     "title": ""
    }
   },
   "outputs": [],
   "source": [
    "sn_df = (spark.read.format(\"json\")\n",
    "         .option(\"multiline\",\"true\")\n",
    "         .load(\"/FileStore/tables/students_nested_json_data.json\"))"
   ]
  },
  {
   "cell_type": "code",
   "execution_count": 0,
   "metadata": {
    "application/vnd.databricks.v1+cell": {
     "cellMetadata": {
      "byteLimit": 2048000,
      "rowLimit": 10000
     },
     "inputWidgets": {},
     "nuid": "675301f2-36ca-4c4c-b1d4-6e4723efffe3",
     "showTitle": false,
     "title": ""
    }
   },
   "outputs": [
    {
     "output_type": "stream",
     "name": "stdout",
     "output_type": "stream",
     "text": [
      "+--------------------+-----+\n|           Education| name|\n+--------------------+-----+\n|[{BE, 2011}, {ME,...|  Ram|\n|        [{BE, 2010}]|Rohit|\n+--------------------+-----+\n\n"
     ]
    }
   ],
   "source": [
    "sn_df.show()"
   ]
  },
  {
   "cell_type": "code",
   "execution_count": 0,
   "metadata": {
    "application/vnd.databricks.v1+cell": {
     "cellMetadata": {
      "byteLimit": 2048000,
      "rowLimit": 10000
     },
     "inputWidgets": {},
     "nuid": "56470045-a963-4b62-a369-07f4ee7d554f",
     "showTitle": false,
     "title": ""
    }
   },
   "outputs": [
    {
     "output_type": "stream",
     "name": "stdout",
     "output_type": "stream",
     "text": [
      "root\n |-- Education: array (nullable = true)\n |    |-- element: struct (containsNull = true)\n |    |    |-- Qualification: string (nullable = true)\n |    |    |-- year: long (nullable = true)\n |-- name: string (nullable = true)\n\n"
     ]
    }
   ],
   "source": [
    "sn_df.printSchema()"
   ]
  },
  {
   "cell_type": "code",
   "execution_count": 0,
   "metadata": {
    "application/vnd.databricks.v1+cell": {
     "cellMetadata": {
      "byteLimit": 2048000,
      "rowLimit": 10000
     },
     "inputWidgets": {},
     "nuid": "3bca508f-38af-427c-b267-80f48f733a6e",
     "showTitle": false,
     "title": ""
    }
   },
   "outputs": [
    {
     "output_type": "stream",
     "name": "stdout",
     "output_type": "stream",
     "text": [
      "+-----+----------+\n| name| education|\n+-----+----------+\n|  Ram|{BE, 2011}|\n|  Ram|{ME, 2013}|\n|Rohit|{BE, 2010}|\n+-----+----------+\n\n"
     ]
    }
   ],
   "source": [
    "explode_sn_df = sn_df.select(\"name\",explode(\"Education\").alias(\"education\"))\n",
    "explode_sn_df.show()"
   ]
  },
  {
   "cell_type": "code",
   "execution_count": 0,
   "metadata": {
    "application/vnd.databricks.v1+cell": {
     "cellMetadata": {
      "byteLimit": 2048000,
      "rowLimit": 10000
     },
     "inputWidgets": {},
     "nuid": "6ccf065e-e54e-437e-953b-3ca4164efadd",
     "showTitle": false,
     "title": ""
    }
   },
   "outputs": [
    {
     "output_type": "stream",
     "name": "stdout",
     "output_type": "stream",
     "text": [
      "root\n |-- name: string (nullable = true)\n |-- education: struct (nullable = true)\n |    |-- Qualification: string (nullable = true)\n |    |-- year: long (nullable = true)\n\n"
     ]
    }
   ],
   "source": [
    "explode_sn_df.printSchema()"
   ]
  },
  {
   "cell_type": "code",
   "execution_count": 0,
   "metadata": {
    "application/vnd.databricks.v1+cell": {
     "cellMetadata": {
      "byteLimit": 2048000,
      "rowLimit": 10000
     },
     "inputWidgets": {},
     "nuid": "b60ac032-db5c-4f35-86b0-0964ab86cdfc",
     "showTitle": false,
     "title": ""
    }
   },
   "outputs": [
    {
     "output_type": "stream",
     "name": "stdout",
     "output_type": "stream",
     "text": [
      "+-----+-------------+----+\n| name|Qualification|year|\n+-----+-------------+----+\n|  Ram|           BE|2011|\n|  Ram|           ME|2013|\n|Rohit|           BE|2010|\n+-----+-------------+----+\n\n"
     ]
    }
   ],
   "source": [
    "final_df = explode_sn_df.select(\"name\",\"education.Qualification\",\"education.year\")\n",
    "final_df.show()"
   ]
  },
  {
   "cell_type": "code",
   "execution_count": 0,
   "metadata": {
    "application/vnd.databricks.v1+cell": {
     "cellMetadata": {
      "byteLimit": 2048000,
      "rowLimit": 10000
     },
     "inputWidgets": {},
     "nuid": "1019f7bf-9dd2-4022-ab3a-75fd15937281",
     "showTitle": false,
     "title": ""
    }
   },
   "outputs": [
    {
     "output_type": "stream",
     "name": "stdout",
     "output_type": "stream",
     "text": [
      "+-----+-------------+----+\n| name|Qualification|year|\n+-----+-------------+----+\n|  Ram|           BE|2011|\n|  Ram|           ME|2013|\n|Rohit|           BE|2010|\n+-----+-------------+----+\n\n"
     ]
    }
   ],
   "source": [
    "final_df_2 = explode_sn_df.select(\"name\",\"education.*\")\n",
    "final_df_2.show()"
   ]
  },
  {
   "cell_type": "markdown",
   "metadata": {
    "application/vnd.databricks.v1+cell": {
     "cellMetadata": {},
     "inputWidgets": {},
     "nuid": "a1eeab45-6971-4a55-8e5d-096fc3212dab",
     "showTitle": false,
     "title": ""
    }
   },
   "source": [
    "#Infer Schema"
   ]
  },
  {
   "cell_type": "code",
   "execution_count": 0,
   "metadata": {
    "application/vnd.databricks.v1+cell": {
     "cellMetadata": {
      "byteLimit": 2048000,
      "rowLimit": 10000
     },
     "inputWidgets": {},
     "nuid": "0b181da1-b552-43ae-a7bd-6b2a3b9b5940",
     "showTitle": false,
     "title": ""
    }
   },
   "outputs": [
    {
     "output_type": "display_data",
     "data": {
      "text/html": [
       "<style scoped>\n",
       "  .ansiout {\n",
       "    display: block;\n",
       "    unicode-bidi: embed;\n",
       "    white-space: pre-wrap;\n",
       "    word-wrap: break-word;\n",
       "    word-break: break-all;\n",
       "    font-family: \"Menlo\", \"Monaco\", \"Consolas\", \"Ubuntu Mono\", \"Source Code Pro\", monospace;\n",
       "    font-size: 13px;\n",
       "    color: #555;\n",
       "    margin-left: 4px;\n",
       "    line-height: 19px;\n",
       "  }\n",
       "</style>\n",
       "<div class=\"ansiout\">ID,Name,HomeTown,Salary,JoiningDate\n",
       "1,Arpit,Burhanpur,50000.00,2018-11-14\n",
       "2,Benu,Bhubaneswar,100000.00,2018-11-19\n",
       "3,Dilsher,Amritsar,100000.00,2018-11-19\n",
       "4,Kiran,Bengaluru,50000.00,2018-11-15\n",
       "\n",
       "\n",
       "\n",
       "\n",
       "</div>"
      ]
     },
     "metadata": {
      "application/vnd.databricks.v1+output": {
       "addedWidgets": {},
       "arguments": {},
       "data": "<div class=\"ansiout\">ID,Name,HomeTown,Salary,JoiningDate\n1,Arpit,Burhanpur,50000.00,2018-11-14\n2,Benu,Bhubaneswar,100000.00,2018-11-19\n3,Dilsher,Amritsar,100000.00,2018-11-19\n4,Kiran,Bengaluru,50000.00,2018-11-15\n\n\n\n\n</div>",
       "datasetInfos": [],
       "metadata": {
        "isDbfsCommandResult": false
       },
       "removedWidgets": [],
       "type": "html"
      }
     },
     "output_type": "display_data"
    }
   ],
   "source": [
    "%fs head /FileStore/tables/employee.csv"
   ]
  },
  {
   "cell_type": "code",
   "execution_count": 0,
   "metadata": {
    "application/vnd.databricks.v1+cell": {
     "cellMetadata": {
      "byteLimit": 2048000,
      "rowLimit": 10000
     },
     "inputWidgets": {},
     "nuid": "d4d1a419-67e4-470f-a0d9-c1068717fa4f",
     "showTitle": false,
     "title": ""
    }
   },
   "outputs": [
    {
     "output_type": "display_data",
     "data": {
      "text/html": [
       "<style scoped>\n",
       "  .table-result-container {\n",
       "    max-height: 300px;\n",
       "    overflow: auto;\n",
       "  }\n",
       "  table, th, td {\n",
       "    border: 1px solid black;\n",
       "    border-collapse: collapse;\n",
       "  }\n",
       "  th, td {\n",
       "    padding: 5px;\n",
       "  }\n",
       "  th {\n",
       "    text-align: left;\n",
       "  }\n",
       "</style><div class='table-result-container'><table class='table-result'><thead style='background-color: white'><tr><th>ID</th><th>Name</th><th>HomeTown</th><th>Salary</th><th>JoiningDate</th></tr></thead><tbody><tr><td>1</td><td>Arpit</td><td>Burhanpur</td><td>50000.0</td><td>2018-11-14</td></tr><tr><td>2</td><td>Benu</td><td>Bhubaneswar</td><td>100000.0</td><td>2018-11-19</td></tr><tr><td>3</td><td>Dilsher</td><td>Amritsar</td><td>100000.0</td><td>2018-11-19</td></tr><tr><td>4</td><td>Kiran</td><td>Bengaluru</td><td>50000.0</td><td>2018-11-15</td></tr></tbody></table></div>"
      ]
     },
     "metadata": {
      "application/vnd.databricks.v1+output": {
       "addedWidgets": {},
       "aggData": [],
       "aggError": "",
       "aggOverflow": false,
       "aggSchema": [],
       "aggSeriesLimitReached": false,
       "aggType": "",
       "arguments": {},
       "columnCustomDisplayInfos": {},
       "data": [
        [
         1,
         "Arpit",
         "Burhanpur",
         50000.0,
         "2018-11-14"
        ],
        [
         2,
         "Benu",
         "Bhubaneswar",
         100000.0,
         "2018-11-19"
        ],
        [
         3,
         "Dilsher",
         "Amritsar",
         100000.0,
         "2018-11-19"
        ],
        [
         4,
         "Kiran",
         "Bengaluru",
         50000.0,
         "2018-11-15"
        ]
       ],
       "datasetInfos": [],
       "dbfsResultPath": null,
       "isJsonSchema": true,
       "metadata": {},
       "overflow": false,
       "plotOptions": {
        "customPlotOptions": {},
        "displayType": "table",
        "pivotAggregation": null,
        "pivotColumns": null,
        "xColumns": null,
        "yColumns": null
       },
       "removedWidgets": [],
       "schema": [
        {
         "metadata": "{}",
         "name": "ID",
         "type": "\"integer\""
        },
        {
         "metadata": "{}",
         "name": "Name",
         "type": "\"string\""
        },
        {
         "metadata": "{}",
         "name": "HomeTown",
         "type": "\"string\""
        },
        {
         "metadata": "{}",
         "name": "Salary",
         "type": "\"double\""
        },
        {
         "metadata": "{\"__detected_date_formats\":\"yyyy-M-d\"}",
         "name": "JoiningDate",
         "type": "\"date\""
        }
       ],
       "type": "table"
      }
     },
     "output_type": "display_data"
    }
   ],
   "source": [
    "emp_csv = (spark\n",
    "           .read\n",
    "           .format(\"csv\")\n",
    "           .option(\"header\",\"true\")\n",
    "           .option(\"inferSchema\",\"true\")\n",
    "           .load(\"/FileStore/tables/employee.csv\"))\n",
    "display(emp_csv)\n",
    "\n",
    "# infer schema adds one more spark job not a good practice as it slows down the process"
   ]
  },
  {
   "cell_type": "code",
   "execution_count": 0,
   "metadata": {
    "application/vnd.databricks.v1+cell": {
     "cellMetadata": {
      "byteLimit": 2048000,
      "rowLimit": 10000
     },
     "inputWidgets": {},
     "nuid": "3f104f18-cdc5-457f-a335-a9c55a5229b1",
     "showTitle": false,
     "title": ""
    }
   },
   "outputs": [
    {
     "output_type": "stream",
     "name": "stdout",
     "output_type": "stream",
     "text": [
      "root\n |-- ID: integer (nullable = true)\n |-- Name: string (nullable = true)\n |-- HomeTown: string (nullable = true)\n |-- Salary: double (nullable = true)\n |-- JoiningDate: date (nullable = true)\n\n"
     ]
    }
   ],
   "source": [
    "emp_csv.printSchema()\n",
    "# ideally the default data type is string type"
   ]
  },
  {
   "cell_type": "markdown",
   "metadata": {
    "application/vnd.databricks.v1+cell": {
     "cellMetadata": {},
     "inputWidgets": {},
     "nuid": "fb416c90-dd23-4546-88fc-6dac7ecc518d",
     "showTitle": false,
     "title": ""
    }
   },
   "source": [
    "# user defined schema/ custom schema usind Struct"
   ]
  },
  {
   "cell_type": "code",
   "execution_count": 0,
   "metadata": {
    "application/vnd.databricks.v1+cell": {
     "cellMetadata": {
      "byteLimit": 2048000,
      "rowLimit": 10000
     },
     "inputWidgets": {},
     "nuid": "45980c7e-bf92-4fe1-9320-6bdc51310ccc",
     "showTitle": false,
     "title": ""
    }
   },
   "outputs": [
    {
     "output_type": "display_data",
     "data": {
      "text/html": [
       "<style scoped>\n",
       "  .ansiout {\n",
       "    display: block;\n",
       "    unicode-bidi: embed;\n",
       "    white-space: pre-wrap;\n",
       "    word-wrap: break-word;\n",
       "    word-break: break-all;\n",
       "    font-family: \"Menlo\", \"Monaco\", \"Consolas\", \"Ubuntu Mono\", \"Source Code Pro\", monospace;\n",
       "    font-size: 13px;\n",
       "    color: #555;\n",
       "    margin-left: 4px;\n",
       "    line-height: 19px;\n",
       "  }\n",
       "</style>\n",
       "<div class=\"ansiout\">EmployeeID,DepartmentName,Client,OnboardedDate\n",
       "1,Data Engineering,Funding Circle,2019-01-15\n",
       "2,Data Engineering,Funding Circle,2018-11-19\n",
       "3,Data Analytics,Funding Circle,2018-11-19\n",
       "4,Data Analytics,Funding Circle,2018-12-16\n",
       "\n",
       "</div>"
      ]
     },
     "metadata": {
      "application/vnd.databricks.v1+output": {
       "addedWidgets": {},
       "arguments": {},
       "data": "<div class=\"ansiout\">EmployeeID,DepartmentName,Client,OnboardedDate\n1,Data Engineering,Funding Circle,2019-01-15\n2,Data Engineering,Funding Circle,2018-11-19\n3,Data Analytics,Funding Circle,2018-11-19\n4,Data Analytics,Funding Circle,2018-12-16\n\n</div>",
       "datasetInfos": [],
       "metadata": {
        "isDbfsCommandResult": false
       },
       "removedWidgets": [],
       "type": "html"
      }
     },
     "output_type": "display_data"
    }
   ],
   "source": [
    "%fs head /FileStore/tables/july2023data/department.csv"
   ]
  },
  {
   "cell_type": "code",
   "execution_count": 0,
   "metadata": {
    "application/vnd.databricks.v1+cell": {
     "cellMetadata": {
      "byteLimit": 2048000,
      "rowLimit": 10000
     },
     "inputWidgets": {},
     "nuid": "0b9dcc36-e854-4e13-b706-791f90b04ce9",
     "showTitle": false,
     "title": ""
    }
   },
   "outputs": [],
   "source": [
    "# Strurt type defines a row/ record\n",
    "#struct field defines a field/column\n",
    "from pyspark.sql.types import StructType, IntegerType, StructField, StringType, DateType\n",
    "\n",
    "dept_schema = StructType([StructField(\"EmployeeID\",IntegerType()),\n",
    "                          StructField(\"DepartmentName\",StringType()),\n",
    "                           StructField(\"Client\",StringType()),\n",
    "                           StructField(\"OnboardedDate\",DateType())])"
   ]
  },
  {
   "cell_type": "code",
   "execution_count": 0,
   "metadata": {
    "application/vnd.databricks.v1+cell": {
     "cellMetadata": {
      "byteLimit": 2048000,
      "rowLimit": 10000
     },
     "inputWidgets": {},
     "nuid": "d0cf34e3-fdfc-4ec7-bf08-41f41f3254f6",
     "showTitle": false,
     "title": ""
    }
   },
   "outputs": [
    {
     "output_type": "stream",
     "name": "stdout",
     "output_type": "stream",
     "text": [
      "+----------+----------------+--------------+-------------+\n|EmployeeID|  DepartmentName|        Client|OnboardedDate|\n+----------+----------------+--------------+-------------+\n|         1|Data Engineering|Funding Circle|   2019-01-15|\n|         2|Data Engineering|Funding Circle|   2018-11-19|\n|         3|  Data Analytics|Funding Circle|   2018-11-19|\n|         4|  Data Analytics|Funding Circle|   2018-12-16|\n+----------+----------------+--------------+-------------+\n\n"
     ]
    }
   ],
   "source": [
    "dept_df = (spark.read\n",
    "           .format(\"csv\")\n",
    "           .option(\"header\",\"true\")\n",
    "           .schema(dept_schema)\n",
    "           .load(\"/FileStore/tables/july2023data/department.csv\"))\n",
    "dept_df.show()"
   ]
  },
  {
   "cell_type": "code",
   "execution_count": 0,
   "metadata": {
    "application/vnd.databricks.v1+cell": {
     "cellMetadata": {
      "byteLimit": 2048000,
      "rowLimit": 10000
     },
     "inputWidgets": {},
     "nuid": "0b09aece-228c-460b-8d5a-0642fc3f37b3",
     "showTitle": false,
     "title": ""
    }
   },
   "outputs": [
    {
     "output_type": "stream",
     "name": "stdout",
     "output_type": "stream",
     "text": [
      "root\n |-- EmployeeID: integer (nullable = true)\n |-- DepartmentName: string (nullable = true)\n |-- Client: string (nullable = true)\n |-- OnboardedDate: date (nullable = true)\n\n"
     ]
    }
   ],
   "source": [
    "dept_df.printSchema()"
   ]
  },
  {
   "cell_type": "markdown",
   "metadata": {
    "application/vnd.databricks.v1+cell": {
     "cellMetadata": {},
     "inputWidgets": {},
     "nuid": "6909215b-9e46-4258-92b3-a0f2c49aa1a3",
     "showTitle": false,
     "title": ""
    }
   },
   "source": [
    "# Custom/ User defined schema using DDL String method"
   ]
  },
  {
   "cell_type": "code",
   "execution_count": 0,
   "metadata": {
    "application/vnd.databricks.v1+cell": {
     "cellMetadata": {
      "byteLimit": 2048000,
      "rowLimit": 10000
     },
     "inputWidgets": {},
     "nuid": "b35e173f-bc4b-4d2b-921c-770edbfe5623",
     "showTitle": false,
     "title": ""
    }
   },
   "outputs": [
    {
     "output_type": "display_data",
     "data": {
      "text/html": [
       "<style scoped>\n",
       "  .ansiout {\n",
       "    display: block;\n",
       "    unicode-bidi: embed;\n",
       "    white-space: pre-wrap;\n",
       "    word-wrap: break-word;\n",
       "    word-break: break-all;\n",
       "    font-family: \"Menlo\", \"Monaco\", \"Consolas\", \"Ubuntu Mono\", \"Source Code Pro\", monospace;\n",
       "    font-size: 13px;\n",
       "    color: #555;\n",
       "    margin-left: 4px;\n",
       "    line-height: 19px;\n",
       "  }\n",
       "</style>\n",
       "<div class=\"ansiout\">[Truncated to first 65536 bytes]\n",
       "1,2013-07-25 00:00:00.0,11599,CLOSED\n",
       "2,2013-07-25 00:00:00.0,256,PENDING_PAYMENT\n",
       "3,2013-07-25 00:00:00.0,12111,COMPLETE\n",
       "4,2013-07-25 00:00:00.0,8827,CLOSED\n",
       "5,2013-07-25 00:00:00.0,11318,COMPLETE\n",
       "6,2013-07-25 00:00:00.0,7130,COMPLETE\n",
       "7,2013-07-25 00:00:00.0,4530,COMPLETE\n",
       "8,2013-07-25 00:00:00.0,2911,PROCESSING\n",
       "9,2013-07-25 00:00:00.0,5657,PENDING_PAYMENT\n",
       "10,2013-07-25 00:00:00.0,5648,PENDING_PAYMENT\n",
       "11,2013-07-25 00:00:00.0,918,PAYMENT_REVIEW\n",
       "12,2013-07-25 00:00:00.0,1837,CLOSED\n",
       "13,2013-07-25 00:00:00.0,9149,PENDING_PAYMENT\n",
       "14,2013-07-25 00:00:00.0,9842,PROCESSING\n",
       "15,2013-07-25 00:00:00.0,2568,COMPLETE\n",
       "16,2013-07-25 00:00:00.0,7276,PENDING_PAYMENT\n",
       "17,2013-07-25 00:00:00.0,2667,COMPLETE\n",
       "18,2013-07-25 00:00:00.0,1205,CLOSED\n",
       "19,2013-07-25 00:00:00.0,9488,PENDING_PAYMENT\n",
       "20,2013-07-25 00:00:00.0,9198,PROCESSING\n",
       "21,2013-07-25 00:00:00.0,2711,PENDING\n",
       "22,2013-07-25 00:00:00.0,333,COMPLETE\n",
       "23,2013-07-25 00:00:00.0,4367,PENDING_PAYMENT\n",
       "24,2013-07-25 00:00:00.0,11441,CLOSED\n",
       "25,2013-07-25 00:00:00.0,9503,CLOSED\n",
       "26,2013-07-25 00:00:00.0,7562,COMPLETE\n",
       "27,2013-07-25 00:00:00.0,3241,PENDING_PAYMENT\n",
       "28,2013-07-25 00:00:00.0,656,COMPLETE\n",
       "29,2013-07-25 00:00:00.0,196,PROCESSING\n",
       "30,2013-07-25 00:00:00.0,10039,PENDING_PAYMENT\n",
       "31,2013-07-25 00:00:00.0,6983,PAYMENT_REVIEW\n",
       "32,2013-07-25 00:00:00.0,3960,COMPLETE\n",
       "33,2013-07-25 00:00:00.0,5793,PENDING_PAYMENT\n",
       "34,2013-07-25 00:00:00.0,4189,PROCESSING\n",
       "35,2013-07-25 00:00:00.0,4840,COMPLETE\n",
       "36,2013-07-25 00:00:00.0,5649,PENDING\n",
       "37,2013-07-25 00:00:00.0,5863,CLOSED\n",
       "38,2013-07-25 00:00:00.0,11586,PROCESSING\n",
       "39,2013-07-25 00:00:00.0,8214,PENDING\n",
       "40,2013-07-25 00:00:00.0,12092,PENDING_PAYMENT\n",
       "41,2013-07-25 00:00:00.0,8136,PENDING_PAYMENT\n",
       "42,2013-07-25 00:00:00.0,9776,PENDING\n",
       "43,2013-07-25 00:00:00.0,7776,PENDING_PAYMENT\n",
       "44,2013-07-25 00:00:00.0,10500,PENDING\n",
       "45,2013-07-25 00:00:00.0,2636,COMPLETE\n",
       "46,2013-07-25 00:00:00.0,1549,ON_HOLD\n",
       "47,2013-07-25 00:00:00.0,8487,PENDING_PAYMENT\n",
       "48,2013-07-25 00:00:00.0,12186,PROCESSING\n",
       "49,2013-07-25 00:00:00.0,1871,PENDING\n",
       "50,2013-07-25 00:00:00.0,5225,CANCELED\n",
       "51,2013-07-25 00:00:00.0,12271,CLOSED\n",
       "52,2013-07-25 00:00:00.0,5126,PENDING_PAYMENT\n",
       "53,2013-07-25 00:00:00.0,4701,PROCESSING\n",
       "54,2013-07-25 00:00:00.0,10628,PENDING_PAYMENT\n",
       "55,2013-07-25 00:00:00.0,2052,PENDING\n",
       "56,2013-07-25 00:00:00.0,10519,COMPLETE\n",
       "57,2013-07-25 00:00:00.0,7073,CLOSED\n",
       "58,2013-07-25 00:00:00.0,9213,PENDING_PAYMENT\n",
       "59,2013-07-25 00:00:00.0,11644,PENDING_PAYMENT\n",
       "60,2013-07-25 00:00:00.0,8365,PENDING_PAYMENT\n",
       "61,2013-07-25 00:00:00.0,4791,CLOSED\n",
       "62,2013-07-25 00:00:00.0,9111,CLOSED\n",
       "63,2013-07-25 00:00:00.0,1148,COMPLETE\n",
       "64,2013-07-25 00:00:00.0,5579,PENDING_PAYMENT\n",
       "65,2013-07-25 00:00:00.0,5903,COMPLETE\n",
       "66,2013-07-25 00:00:00.0,1792,ON_HOLD\n",
       "67,2013-07-25 00:00:00.0,1406,COMPLETE\n",
       "68,2013-07-25 00:00:00.0,4320,PENDING\n",
       "69,2013-07-25 00:00:00.0,2821,SUSPECTED_FRAUD\n",
       "70,2013-07-25 00:00:00.0,11809,PENDING_PAYMENT\n",
       "71,2013-07-25 00:00:00.0,8646,COMPLETE\n",
       "72,2013-07-25 00:00:00.0,4349,COMPLETE\n",
       "73,2013-07-25 00:00:00.0,8504,PENDING_PAYMENT\n",
       "74,2013-07-25 00:00:00.0,662,PENDING_PAYMENT\n",
       "75,2013-07-25 00:00:00.0,2505,PENDING_PAYMENT\n",
       "76,2013-07-25 00:00:00.0,6898,COMPLETE\n",
       "77,2013-07-25 00:00:00.0,7915,PENDING_PAYMENT\n",
       "78,2013-07-25 00:00:00.0,8619,PAYMENT_REVIEW\n",
       "79,2013-07-25 00:00:00.0,7327,PENDING_PAYMENT\n",
       "80,2013-07-25 00:00:00.0,3007,COMPLETE\n",
       "81,2013-07-25 00:00:00.0,674,PROCESSING\n",
       "82,2013-07-25 00:00:00.0,3566,PENDING_PAYMENT\n",
       "83,2013-07-25 00:00:00.0,1265,COMPLETE\n",
       "84,2013-07-25 00:00:00.0,6789,PROCESSING\n",
       "85,2013-07-25 00:00:00.0,1485,PENDING\n",
       "86,2013-07-25 00:00:00.0,6680,PENDING_PAYMENT\n",
       "87,2013-07-25 00:00:00.0,3065,CLOSED\n",
       "88,2013-07-25 00:00:00.0,3809,COMPLETE\n",
       "89,2013-07-25 00:00:00.0,824,ON_HOLD\n",
       "90,2013-07-25 00:00:00.0,9131,CLOSED\n",
       "91,2013-07-25 00:00:00.0,8912,COMPLETE\n",
       "92,2013-07-25 00:00:00.0,6932,COMPLETE\n",
       "93,2013-07-25 00:00:00.0,2256,PENDING_PAYMENT\n",
       "94,2013-07-25 00:00:00.0,11589,PROCESSING\n",
       "95,2013-07-25 00:00:00.0,9032,COMPLETE\n",
       "96,2013-07-25 00:00:00.0,8683,PENDING\n",
       "97,2013-07-25 00:00:00.0,10784,PENDING\n",
       "98,2013-07-25 00:00:00.0,5243,COMPLETE\n",
       "99,2013-07-25 00:00:00.0,11542,PENDING_PAYMENT\n",
       "100,2013-07-25 00:00:00.0,12131,PROCESSING\n",
       "101,2013-07-25 00:00:00.0,5116,CLOSED\n",
       "102,2013-07-25 00:00:00.0,8027,COMPLETE\n",
       "103,2013-07-25 00:00:00.0,12256,PROCESSING\n",
       "104,2013-07-25 00:00:00.0,7790,PENDING_PAYMENT\n",
       "105,2013-07-26 00:00:00.0,8220,COMPLETE\n",
       "106,2013-07-26 00:00:00.0,395,PROCESSING\n",
       "107,2013-07-26 00:00:00.0,1845,COMPLETE\n",
       "108,2013-07-26 00:00:00.0,12149,PROCESSING\n",
       "109,2013-07-26 00:00:00.0,9345,PENDING_PAYMENT\n",
       "110,2013-07-26 00:00:00.0,2746,COMPLETE\n",
       "111,2013-07-26 00:00:00.0,4271,PROCESSING\n",
       "112,2013-07-26 00:00:00.0,5375,CANCELED\n",
       "113,2013-07-26 00:00:00.0,10216,PENDING_PAYMENT\n",
       "114,2013-07-26 00:00:00.0,2091,COMPLETE\n",
       "115,2013-07-26 00:00:00.0,104,PROCESSING\n",
       "116,2013-07-26 00:00:00.0,8763,CLOSED\n",
       "117,2013-07-26 00:00:00.0,58,SUSPECTED_FRAUD\n",
       "118,2013-07-26 00:00:00.0,1737,COMPLETE\n",
       "119,2013-07-26 00:00:00.0,8124,PENDING_PAYMENT\n",
       "120,2013-07-26 00:00:00.0,356,PENDING_PAYMENT\n",
       "121,2013-07-26 00:00:00.0,2074,PENDING\n",
       "122,2013-07-26 00:00:00.0,2071,PROCESSING\n",
       "123,2013-07-26 00:00:00.0,3695,PENDING_PAYMENT\n",
       "124,2013-07-26 00:00:00.0,2374,COMPLETE\n",
       "125,2013-07-26 00:00:00.0,4611,PENDING_PAYMENT\n",
       "126,2013-07-26 00:00:00.0,610,COMPLETE\n",
       "127,2013-07-26 00:00:00.0,5261,PENDING_PAYMENT\n",
       "128,2013-07-26 00:00:00.0,2772,PENDING_PAYMENT\n",
       "129,2013-07-26 00:00:00.0,9937,CLOSED\n",
       "130,2013-07-26 00:00:00.0,7509,PENDING_PAYMENT\n",
       "131,2013-07-26 00:00:00.0,10072,PROCESSING\n",
       "132,2013-07-26 00:00:00.0,289,PENDING\n",
       "133,2013-07-26 00:00:00.0,10604,CLOSED\n",
       "134,2013-07-26 00:00:00.0,12081,PENDING_PAYMENT\n",
       "135,2013-07-26 00:00:00.0,7738,COMPLETE\n",
       "136,2013-07-26 00:00:00.0,9126,PENDING_PAYMENT\n",
       "137,2013-07-26 00:00:00.0,4211,COMPLETE\n",
       "138,2013-07-26 00:00:00.0,10904,PROCESSING\n",
       "139,2013-07-26 00:00:00.0,7933,COMPLETE\n",
       "140,2013-07-26 00:00:00.0,4257,PENDING_PAYMENT\n",
       "141,2013-07-26 00:00:00.0,12128,COMPLETE\n",
       "142,2013-07-26 00:00:00.0,5760,PENDING_PAYMENT\n",
       "143,2013-07-26 00:00:00.0,10495,COMPLETE\n",
       "144,2013-07-26 00:00:00.0,2158,PROCESSING\n",
       "145,2013-07-26 00:00:00.0,494,ON_HOLD\n",
       "146,2013-07-26 00:00:00.0,8177,COMPLETE\n",
       "147,2013-07-26 00:00:00.0,275,PENDING_PAYMENT\n",
       "148,2013-07-26 00:00:00.0,5383,PROCESSING\n",
       "149,2013-07-26 00:00:00.0,11431,COMPLETE\n",
       "150,2013-07-26 00:00:00.0,236,PROCESSING\n",
       "151,2013-07-26 00:00:00.0,2493,ON_HOLD\n",
       "152,2013-07-26 00:00:00.0,3611,COMPLETE\n",
       "153,2013-07-26 00:00:00.0,8876,COMPLETE\n",
       "154,2013-07-26 00:00:00.0,9993,ON_HOLD\n",
       "155,2013-07-26 00:00:00.0,9044,PENDING_PAYMENT\n",
       "156,2013-07-26 00:00:00.0,5200,ON_HOLD\n",
       "157,2013-07-26 00:00:00.0,8986,ON_HOLD\n",
       "158,2013-07-26 00:00:00.0,12345,PENDING\n",
       "159,2013-07-26 00:00:00.0,10974,PENDING_PAYMENT\n",
       "160,2013-07-26 00:00:00.0,6762,COMPLETE\n",
       "161,2013-07-26 00:00:00.0,4513,PENDING_PAYMENT\n",
       "162,2013-07-26 00:00:00.0,3304,PENDING_PAYMENT\n",
       "163,2013-07-26 00:00:00.0,3348,COMPLETE\n",
       "164,2013-07-26 00:00:00.0,2962,PROCESSING\n",
       "165,2013-07-26 00:00:00.0,1222,PENDING_PAYMENT\n",
       "166,2013-07-26 00:00:00.0,7834,PROCESSING\n",
       "167,2013-07-26 00:00:00.0,1347,PENDING\n",
       "168,2013-07-26 00:00:00.0,11794,PENDING_PAYMENT\n",
       "169,2013-07-26 00:00:00.0,2611,ON_HOLD\n",
       "170,2013-07-26 00:00:00.0,6295,PAYMENT_REVIEW\n",
       "171,2013-07-26 00:00:00.0,1980,COMPLETE\n",
       "172,2013-07-26 00:00:00.0,11382,COMPLETE\n",
       "173,2013-07-26 00:00:00.0,9027,ON_HOLD\n",
       "174,2013-07-26 00:00:00.0,3358,COMPLETE\n",
       "175,2013-07-26 00:00:00.0,384,COMPLETE\n",
       "176,2013-07-26 00:00:00.0,2897,PENDING_PAYMENT\n",
       "177,2013-07-26 00:00:00.0,9151,PENDING_PAYMENT\n",
       "178,2013-07-26 00:00:00.0,8503,COMPLETE\n",
       "179,2013-07-26 00:00:00.0,6506,COMPLETE\n",
       "180,2013-07-26 00:00:00.0,10215,ON_HOLD\n",
       "181,2013-07-26 00:00:00.0,7473,PENDING\n",
       "182,2013-07-26 00:00:00.0,10984,COMPLETE\n",
       "183,2013-07-26 00:00:00.0,12105,COMPLETE\n",
       "184,2013-07-26 00:00:00.0,210,COMPLETE\n",
       "185,2013-07-26 00:00:00.0,10966,PENDING_PAYMENT\n",
       "186,2013-07-26 00:00:00.0,1104,COMPLETE\n",
       "187,2013-07-26 00:00:00.0,1378,PAYMENT_REVIEW\n",
       "188,2013-07-26 00:00:00.0,2889,PENDING\n",
       "189,2013-07-26 00:00:00.0,10177,PENDING\n",
       "190,2013-07-26 00:00:00.0,11115,PENDING\n",
       "191,2013-07-26 00:00:00.0,16,CLOSED\n",
       "192,2013-07-26 00:00:00.0,5293,PROCESSING\n",
       "193,2013-07-26 00:00:00.0,6174,PROCESSING\n",
       "194,2013-07-26 00:00:00.0,2550,PENDING_PAYMENT\n",
       "195,2013-07-26 00:00:00.0,12096,PROCESSING\n",
       "196,2013-07-26 00:00:00.0,2765,PROCESSING\n",
       "197,2013-07-26 00:00:00.0,6370,PROCESSING\n",
       "198,2013-07-26 00:00:00.0,7436,PENDING_PAYMENT\n",
       "199,2013-07-26 00:00:00.0,4608,ON_HOLD\n",
       "200,2013-07-26 00:00:00.0,11116,PAYMENT_REVIEW\n",
       "201,2013-07-26 00:00:00.0,9055,CLOSED\n",
       "202,2013-07-26 00:00:00.0,8524,PENDING_PAYMENT\n",
       "203,2013-07-26 00:00:00.0,11791,PENDING_PAYMENT\n",
       "204,2013-07-26 00:00:00.0,7604,PENDING_PAYMENT\n",
       "205,2013-07-26 00:00:00.0,3109,PROCESSING\n",
       "206,2013-07-26 00:00:00.0,8994,PENDING\n",
       "207,2013-07-26 00:00:00.0,11643,COMPLETE\n",
       "208,2013-07-26 00:00:00.0,7923,PROCESSING\n",
       "209,2013-07-26 00:00:00.0,3627,PENDING\n",
       "210,2013-07-26 00:00:00.0,10102,COMPLETE\n",
       "211,2013-07-26 00:00:00.0,10372,CLOSED\n",
       "212,2013-07-26 00:00:00.0,3190,PENDING\n",
       "213,2013-07-26 00:00:00.0,11715,CLOSED\n",
       "214,2013-07-26 00:00:00.0,3925,COMPLETE\n",
       "215,2013-07-26 00:00:00.0,5925,CLOSED\n",
       "216,2013-07-26 00:00:00.0,7282,PENDING\n",
       "217,2013-07-26 00:00:00.0,5420,PROCESSING\n",
       "218,2013-07-26 00:00:00.0,3935,COMPLETE\n",
       "219,2013-07-26 00:00:00.0,10655,PROCESSING\n",
       "220,2013-07-26 00:00:00.0,1383,COMPLETE\n",
       "221,2013-07-26 00:00:00.0,11871,CLOSED\n",
       "222,2013-07-26 00:00:00.0,8309,CLOSED\n",
       "223,2013-07-26 00:00:00.0,9068,PENDING\n",
       "224,2013-07-26 00:00:00.0,11938,CLOSED\n",
       "225,2013-07-26 00:00:00.0,11275,COMPLETE\n",
       "226,2013-07-26 00:00:00.0,9356,PENDING_PAYMENT\n",
       "227,2013-07-26 00:00:00.0,7410,CLOSED\n",
       "228,2013-07-26 00:00:00.0,6070,ON_HOLD\n",
       "229,2013-07-26 00:00:00.0,618,PENDING\n",
       "230,2013-07-26 00:00:00.0,4921,PENDING_PAYMENT\n",
       "231,2013-07-26 00:00:00.0,3960,COMPLETE\n",
       "232,2013-07-26 00:00:00.0,1780,PENDING_PAYMENT\n",
       "233,2013-07-26 00:00:00.0,12316,COMPLETE\n",
       "234,2013-07-26 00:00:00.0,1010,ON_HOLD\n",
       "235,2013-07-26 00:00:00.0,4285,PENDING_PAYMENT\n",
       "236,2013-07-26 00:00:00.0,9785,COMPLETE\n",
       "237,2013-07-26 00:00:00.0,11438,PENDING_PAYMENT\n",
       "238,2013-07-26 00:00:00.0,4939,PENDING_PAYMENT\n",
       "239,2013-07-26 00:00:00.0,5058,COMPLETE\n",
       "240,2013-07-26 00:00:00.0,32,PENDING\n",
       "241,2013-07-26 00:00:00.0,948,CLOSED\n",
       "242,2013-07-26 00:00:00.0,3237,PAYMENT_REVIEW\n",
       "243,2013-07-26 00:00:00.0,32,ON_HOLD\n",
       "244,2013-07-26 00:00:00.0,6910,PENDING_PAYMENT\n",
       "245,2013-07-26 00:00:00.0,5191,CLOSED\n",
       "246,2013-07-26 00:00:00.0,9616,SUSPECTED_FRAUD\n",
       "247,2013-07-26 00:00:00.0,173,COMPLETE\n",
       "248,2013-07-26 00:00:00.0,11707,COMPLETE\n",
       "249,2013-07-26 00:00:00.0,7650,CLOSED\n",
       "250,2013-07-26 00:00:00.0,11668,COMPLETE\n",
       "251,2013-07-26 00:00:00.0,568,PENDING\n",
       "252,2013-07-26 00:00:00.0,9708,COMPLETE\n",
       "253,2013-07-26 00:00:00.0,45,COMPLETE\n",
       "254,2013-07-26 00:00:00.0,9395,COMPLETE\n",
       "255,2013-07-26 00:00:00.0,10346,COMPLETE\n",
       "256,2013-07-26 00:00:00.0,4199,CLOSED\n",
       "257,2013-07-26 00:00:00.0,3273,PROCESSING\n",
       "258,2013-07-26 00:00:00.0,1137,COMPLETE\n",
       "259,2013-07-26 00:00:00.0,3454,COMPLETE\n",
       "260,2013-07-26 00:00:00.0,5135,CLOSED\n",
       "261,2013-07-26 00:00:00.0,5128,COMPLETE\n",
       "262,2013-07-26 00:00:00.0,11475,CLOSED\n",
       "263,2013-07-26 00:00:00.0,8026,COMPLETE\n",
       "264,2013-07-26 00:00:00.0,230,COMPLETE\n",
       "265,2013-07-26 00:00:00.0,488,PENDING_PAYMENT\n",
       "266,2013-07-26 00:00:00.0,11085,COMPLETE\n",
       "267,2013-07-26 00:00:00.0,6989,CLOSED\n",
       "268,2013-07-26 00:00:00.0,5578,CLOSED\n",
       "269,2013-07-26 00:00:00.0,11887,PROCESSING\n",
       "270,2013-07-26 00:00:00.0,5689,COMPLETE\n",
       "271,2013-07-26 00:00:00.0,815,COMPLETE\n",
       "272,2013-07-26 00:00:00.0,428,CLOSED\n",
       "273,2013-07-26 00:00:00.0,10665,PENDING_PAYMENT\n",
       "274,2013-07-26 00:00:00.0,3365,PENDING\n",
       "275,2013-07-26 00:00:00.0,10942,PENDING_PAYMENT\n",
       "276,2013-07-26 00:00:00.0,2221,PENDING_PAYMENT\n",
       "277,2013-07-26 00:00:00.0,3732,PENDING\n",
       "278,2013-07-26 00:00:00.0,488,PAYMENT_REVIEW\n",
       "279,2013-07-26 00:00:00.0,10372,COMPLETE\n",
       "280,2013-07-26 00:00:00.0,11836,PENDING\n",
       "281,2013-07-26 00:00:00.0,827,PENDING_PAYMENT\n",
       "282,2013-07-26 00:00:00.0,3551,PENDING_PAYMENT\n",
       "283,2013-07-26 00:00:00.0,11466,COMPLETE\n",
       "284,2013-07-26 00:00:00.0,861,PROCESSING\n",
       "285,2013-07-26 00:00:00.0,5011,CLOSED\n",
       "286,2013-07-26 00:00:00.0,9824,ON_HOLD\n",
       "287,2013-07-26 00:00:00.0,8122,COMPLETE\n",
       "288,2013-07-26 00:00:00.0,8667,COMPLETE\n",
       "289,2013-07-26 00:00:00.0,1195,PENDING_PAYMENT\n",
       "290,2013-07-26 00:00:00.0,6446,COMPLETE\n",
       "291,2013-07-26 00:00:00.0,5506,PROCESSING\n",
       "292,2013-07-26 00:00:00.0,11971,PENDING_PAYMENT\n",
       "293,2013-07-26 00:00:00.0,4731,PROCESSING\n",
       "294,2013-07-26 00:00:00.0,11394,CLOSED\n",
       "295,2013-07-26 00:00:00.0,1937,PENDING\n",
       "296,2013-07-26 00:00:00.0,6665,COMPLETE\n",
       "297,2013-07-26 00:00:00.0,2281,PENDING\n",
       "298,2013-07-26 00:00:00.0,4967,COMPLETE\n",
       "299,2013-07-26 00:00:00.0,9202,PENDING_PAYMENT\n",
       "300,2013-07-26 00:00:00.0,11326,CLOSED\n",
       "301,2013-07-26 00:00:00.0,11999,COMPLETE\n",
       "302,2013-07-26 00:00:00.0,3577,COMPLETE\n",
       "303,2013-07-26 00:00:00.0,1682,PENDING_PAYMENT\n",
       "304,2013-07-26 00:00:00.0,1869,COMPLETE\n",
       "305,2013-07-26 00:00:00.0,5618,ON_HOLD\n",
       "306,2013-07-26 00:00:00.0,137,COMPLETE\n",
       "307,2013-07-26 00:00:00.0,8818,PENDING\n",
       "308,2013-07-26 00:00:00.0,6829,PENDING_PAYMENT\n",
       "309,2013-07-26 00:00:00.0,10396,COMPLETE\n",
       "310,2013-07-26 00:00:00.0,1256,COMPLETE\n",
       "311,2013-07-26 00:00:00.0,410,COMPLETE\n",
       "312,2013-07-26 00:00:00.0,1122,COMPLETE\n",
       "313,2013-07-26 00:00:00.0,7543,CLOSED\n",
       "314,2013-07-26 00:00:00.0,10033,PENDING_PAYMENT\n",
       "315,2013-07-26 00:00:00.0,4375,PENDING_PAYMENT\n",
       "316,2013-07-26 00:00:00.0,3870,PROCESSING\n",
       "317,2013-07-26 00:00:00.0,1450,COMPLETE\n",
       "318,2013-07-26 00:00:00.0,8829,PENDING_PAYMENT\n",
       "319,2013-07-26 00:00:00.0,10445,COMPLETE\n",
       "320,2013-07-26 00:00:00.0,10698,SUSPECTED_FRAUD\n",
       "321,2013-07-26 00:00:00.0,4282,ON_HOLD\n",
       "322,2013-07-26 00:00:00.0,2864,COMPLETE\n",
       "323,2013-07-26 00:00:00.0,3020,PENDING_PAYMENT\n",
       "324,2013-07-26 00:00:00.0,76,COMPLETE\n",
       "325,2013-07-26 00:00:00.0,4759,PENDING\n",
       "326,2013-07-26 00:00:00.0,1604,PENDING_PAYMENT\n",
       "327,2013-07-26 00:00:00.0,12107,PENDING\n",
       "328,2013-07-26 00:00:00.0,1149,COMPLETE\n",
       "329,2013-07-26 00:00:00.0,1944,SUSPECTED_FRAUD\n",
       "330,2013-07-26 00:00:00.0,5175,COMPLETE\n",
       "331,2013-07-26 00:00:00.0,4797,PENDING_PAYMENT\n",
       "332,2013-07-26 00:00:00.0,4171,COMPLETE\n",
       "333,2013-07-26 00:00:00.0,2071,PENDING_PAYMENT\n",
       "334,2013-07-26 00:00:00.0,3752,PENDING_PAYMENT\n",
       "335,2013-07-26 00:00:00.0,7710,PENDING\n",
       "336,2013-07-26 00:00:00.0,5479,PENDING\n",
       "337,2013-07-26 00:00:00.0,6747,COMPLETE\n",
       "338,2013-07-26 00:00:00.0,4666,COMPLETE\n",
       "339,2013-07-26 00:00:00.0,8326,PENDING\n",
       "340,2013-07-26 00:00:00.0,7995,PENDING_PAYMENT\n",
       "341,2013-07-26 00:00:00.0,10128,CLOSED\n",
       "342,2013-07-26 00:00:00.0,8809,ON_HOLD\n",
       "343,2013-07-26 00:00:00.0,10952,COMPLETE\n",
       "344,2013-07-26 00:00:00.0,2816,PENDING\n",
       "345,2013-07-26 00:00:00.0,11040,PROCESSING\n",
       "346,2013-07-26 00:00:00.0,3646,COMPLETE\n",
       "347,2013-07-27 00:00:00.0,11662,COMPLETE\n",
       "348,2013-07-27 00:00:00.0,12120,COMPLETE\n",
       "349,2013-07-27 00:00:00.0,9103,COMPLETE\n",
       "350,2013-07-27 00:00:00.0,10672,COMPLETE\n",
       "351,2013-07-27 00:00:00.0,12049,COMPLETE\n",
       "352,2013-07-27 00:00:00.0,1977,PENDING_PAYMENT\n",
       "353,2013-07-27 00:00:00.0,2234,PROCESSING\n",
       "354,2013-07-27 00:00:00.0,5862,PROCESSING\n",
       "355,2013-07-27 00:00:00.0,11682,PROCESSING\n",
       "356,2013-07-27 00:00:00.0,2209,PENDING\n",
       "357,2013-07-27 00:00:00.0,2685,COMPLETE\n",
       "358,2013-07-27 00:00:00.0,2979,PENDING\n",
       "359,2013-07-27 00:00:00.0,6020,PENDING_PAYMENT\n",
       "360,2013-07-27 00:00:00.0,8020,COMPLETE\n",
       "361,2013-07-27 00:00:00.0,8286,PROCESSING\n",
       "362,2013-07-27 00:00:00.0,10167,PROCESSING\n",
       "363,2013-07-27 00:00:00.0,3619,CLOSED\n",
       "364,2013-07-27 00:00:00.0,6035,PROCESSING\n",
       "365,2013-07-27 00:00:00.0,2400,PENDING_PAYMENT\n",
       "366,2013-07-27 00:00:00.0,4422,PENDING_PAYMENT\n",
       "367,2013-07-27 00:00:00.0,8730,PROCESSING\n",
       "368,2013-07-27 00:00:00.0,5783,COMPLETE\n",
       "369,2013-07-27 00:00:00.0,189,COMPLETE\n",
       "370,2013-07-27 00:00:00.0,4791,PENDING_PAYMENT\n",
       "371,2013-07-27 00:00:00.0,4428,PENDING_PAYMENT\n",
       "372,2013-07-27 00:00:00.0,776,COMPLETE\n",
       "373,2013-07-27 00:00:00.0,3630,PENDING\n",
       "374,2013-07-27 00:00:00.0,5906,PROCESSING\n",
       "375,2013-07-27 00:00:00.0,6561,PROCESSING\n",
       "376,2013-07-27 00:00:00.0,1369,PENDING\n",
       "377,2013-07-27 00:00:00.0,514,PROCESSING\n",
       "378,2013-07-27 00:00:00.0,10071,PENDING_PAYMENT\n",
       "379,2013-07-27 00:00:00.0,8735,PENDING_PAYMENT\n",
       "380,2013-07-27 00:00:00.0,9505,PENDING_PAYMENT\n",
       "381,2013-07-27 00:00:00.0,5756,ON_HOLD\n",
       "382,2013-07-27 00:00:00.0,8143,PROCESSING\n",
       "383,2013-07-27 00:00:00.0,10509,PENDING_PAYMENT\n",
       "384,2013-07-27 00:00:00.0,2610,CLOSED\n",
       "385,2013-07-27 00:00:00.0,10667,COMPLETE\n",
       "386,2013-07-27 00:00:00.0,3568,PENDING\n",
       "387,2013-07-27 00:00:00.0,7193,CLOSED\n",
       "388,2013-07-27 00:00:00.0,2790,COMPLETE\n",
       "389,2013-07-27 00:00:00.0,4435,COMPLETE\n",
       "390,2013-07-27 00:00:00.0,5590,PENDING\n",
       "391,2013-07-27 00:00:00.0,5816,PENDING_PAYMENT\n",
       "392,2013-07-27 00:00:00.0,3238,PENDING\n",
       "393,2013-07-27 00:00:00.0,1047,CLOSED\n",
       "394,2013-07-27 00:00:00.0,76,PENDING_PAYMENT\n",
       "395,2013-07-27 00:00:00.0,3934,COMPLETE\n",
       "396,2013-07-27 00:00:00.0,9078,PAYMENT_REVIEW\n",
       "397,2013-07-27 00:00:00.0,4476,CLOSED\n",
       "398,2013-07-27 00:00:00.0,1365,ON_HOLD\n",
       "399,2013-07-27 00:00:00.0,1473,PROCESSING\n",
       "400,2013-07-27 00:00:00.0,5626,PENDING\n",
       "401,2013-07-27 00:00:00.0,9692,PROCESSING\n",
       "402,2013-07-27 00:00:00.0,9547,PENDING_PAYMENT\n",
       "403,2013-07-27 00:00:00.0,4178,COMPLETE\n",
       "404,2013-07-27 00:00:00.0,1478,CLOSED\n",
       "405,2013-07-27 00:00:00.0,9498,COMPLETE\n",
       "406,2013-07-27 00:00:00.0,9023,COMPLETE\n",
       "407,2013-07-27 00:00:00.0,3333,PROCESSING\n",
       "408,2013-07-27 00:00:00.0,2252,PAYMENT_REVIEW\n",
       "409,2013-07-27 00:00:00.0,11102,PROCESSING\n",
       "410,2013-07-27 00:00:00.0,1288,PENDING\n",
       "411,2013-07-27 00:00:00.0,11164,SUSPECTED_FRAUD\n",
       "412,2013-07-27 00:00:00.0,9397,COMPLETE\n",
       "413,2013-07-27 00:00:00.0,7278,CLOSED\n",
       "414,2013-07-27 00:00:00.0,11776,PENDING\n",
       "415,2013-07-27 00:00:00.0,6110,CLOSED\n",
       "416,2013-07-27 00:00:00.0,1561,COMPLETE\n",
       "417,2013-07-27 00:00:00.0,11491,PENDING_PAYMENT\n",
       "418,2013-07-27 00:00:00.0,4269,COMPLETE\n",
       "419,2013-07-27 00:00:00.0,8987,PENDING_PAYMENT\n",
       "420,2013-07-27 00:00:00.0,4632,COMPLETE\n",
       "421,2013-07-27 00:00:00.0,7839,PENDING\n",
       "422,2013-07-27 00:00:00.0,9664,COMPLETE\n",
       "423,2013-07-27 00:00:00.0,9632,SUSPECTED_FRAUD\n",
       "424,2013-07-27 00:00:00.0,2457,PROCESSING\n",
       "425,2013-07-27 00:00:00.0,10481,PENDING_PAYMENT\n",
       "426,2013-07-27 00:00:00.0,10419,COMPLETE\n",
       "427,2013-07-27 00:00:00.0,6681,COMPLETE\n",
       "428,2013-07-27 00:00:00.0,3487,COMPLETE\n",
       "429,2013-07-27 00:00:00.0,8466,CLOSED\n",
       "430,2013-07-27 00:00:00.0,10779,PENDING_PAYMENT\n",
       "431,2013-07-27 00:00:00.0,4676,CLOSED\n",
       "432,2013-07-27 00:00:00.0,1197,COMPLETE\n",
       "433,2013-07-27 00:00:00.0,792,PROCESSING\n",
       "434,2013-07-27 00:00:00.0,11390,PENDING_PAYMENT\n",
       "435,2013-07-27 00:00:00.0,5719,CLOSED\n",
       "436,2013-07-27 00:00:00.0,7610,PROCESSING\n",
       "437,2013-07-27 00:00:00.0,5351,COMPLETE\n",
       "438,2013-07-27 00:00:00.0,8256,COMPLETE\n",
       "439,2013-07-27 00:00:00.0,9353,COMPLETE\n",
       "440,2013-07-27 00:00:00.0,7290,COMPLETE\n",
       "441,2013-07-27 00:00:00.0,5239,PENDING_PAYMENT\n",
       "442,2013-07-27 00:00:00.0,8098,COMPLETE\n",
       "443,2013-07-27 00:00:00.0,8499,CLOSED\n",
       "444,2013-07-27 00:00:00.0,10004,COMPLETE\n",
       "445,2013-07-27 00:00:00.0,3859,PENDING\n",
       "446,2013-07-27 00:00:00.0,7620,PENDING_PAYMENT\n",
       "447,2013-07-27 00:00:00.0,8737,CLOSED\n",
       "448,2013-07-27 00:00:00.0,7167,COMPLETE\n",
       "449,2013-07-27 00:00:00.0,409,CLOSED\n",
       "450,2013-07-27 00:00:00.0,5085,ON_HOLD\n",
       "451,2013-07-27 00:00:00.0,10104,PENDING\n",
       "452,2013-07-27 00:00:00.0,5128,COMPLETE\n",
       "453,2013-07-27 00:00:00.0,381,SUSPECTED_FRAUD\n",
       "454,2013-07-27 00:00:00.0,5933,PENDING_PAYMENT\n",
       "455,2013-07-27 00:00:00.0,6575,PENDING\n",
       "456,2013-07-27 00:00:00.0,11295,CLOSED\n",
       "457,2013-07-27 00:00:00.0,4036,PENDING_PAYMENT\n",
       "458,2013-07-27 00:00:00.0,5358,COMPLETE\n",
       "459,2013-07-27 00:00:00.0,3687,COMPLETE\n",
       "460,2013-07-27 00:00:00.0,2521,PENDING_PAYMENT\n",
       "461,2013-07-27 00:00:00.0,8398,CLOSED\n",
       "462,2013-07-27 00:00:00.0,5454,PROCESSING\n",
       "463,2013-07-27 00:00:00.0,8709,COMPLETE\n",
       "464,2013-07-27 00:00:00.0,7114,COMPLETE\n",
       "465,2013-07-27 00:00:00.0,1255,PENDING_PAYMENT\n",
       "466,2013-07-27 00:00:00.0,10943,CLOSED\n",
       "467,2013-07-27 00:00:00.0,1719,PENDING_PAYMENT\n",
       "468,2013-07-27 00:00:00.0,7305,COMPLETE\n",
       "469,2013-07-27 00:00:00.0,1731,PENDING\n",
       "470,2013-07-27 00:00:00.0,6410,PENDING_PAYMENT\n",
       "471,2013-07-27 00:00:00.0,10861,PENDING\n",
       "472,2013-07-27 00:00:00.0,8969,CLOSED\n",
       "473,2013-07-27 00:00:00.0,5359,COMPLETE\n",
       "474,2013-07-27 00:00:00.0,8349,PENDING_PAYMENT\n",
       "475,2013-07-27 00:00:00.0,4567,CLOSED\n",
       "476,2013-07-27 00:00:00.0,6020,PENDING_PAYMENT\n",
       "477,2013-07-27 00:00:00.0,8511,ON_HOLD\n",
       "478,2013-07-27 00:00:00.0,7657,COMPLETE\n",
       "479,2013-07-27 00:00:00.0,11138,COMPLETE\n",
       "480,2013-07-27 00:00:00.0,2902,PROCESSING\n",
       "481,2013-07-27 00:00:00.0,10633,PROCESSING\n",
       "482,2013-07-27 00:00:00.0,9156,ON_HOLD\n",
       "483,2013-07-27 00:00:00.0,12341,PROCESSING\n",
       "484,2013-07-27 00:00:00.0,2409,PENDING_PAYMENT\n",
       "485,2013-07-27 00:00:00.0,3976,PENDING_PAYMENT\n",
       "486,2013-07-27 00:00:00.0,1865,PROCESSING\n",
       "487,2013-07-27 00:00:00.0,5698,PROCESSING\n",
       "488,2013-07-27 00:00:00.0,10143,PENDING_PAYMENT\n",
       "489,2013-07-27 00:00:00.0,2030,PENDING_PAYMENT\n",
       "490,2013-07-27 00:00:00.0,9709,COMPLETE\n",
       "491,2013-07-27 00:00:00.0,3945,ON_HOLD\n",
       "492,2013-07-27 00:00:00.0,2499,PENDING_PAYMENT\n",
       "493,2013-07-27 00:00:00.0,1180,COMPLETE\n",
       "494,2013-07-27 00:00:00.0,8121,PENDING_PAYMENT\n",
       "495,2013-07-27 00:00:00.0,7242,COMPLETE\n",
       "496,2013-07-27 00:00:00.0,615,COMPLETE\n",
       "497,2013-07-27 00:00:00.0,846,COMPLETE\n",
       "498,2013-07-27 00:00:00.0,6828,PENDING_PAYMENT\n",
       "499,2013-07-27 00:00:00.0,8920,COMPLETE\n",
       "500,2013-07-27 00:00:00.0,2129,CLOSED\n",
       "501,2013-07-27 00:00:00.0,1987,CLOSED\n",
       "502,2013-07-27 00:00:00.0,7196,COMPLETE\n",
       "503,2013-07-27 00:00:00.0,6377,PENDING_PAYMENT\n",
       "504,2013-07-27 00:00:00.0,6288,COMPLETE\n",
       "505,2013-07-27 00:00:00.0,11952,PROCESSING\n",
       "506,2013-07-27 00:00:00.0,3509,PENDING\n",
       "507,2013-07-27 00:00:00.0,4730,PENDING_PAYMENT\n",
       "508,2013-07-27 00:00:00.0,6970,COMPLETE\n",
       "509,2013-07-27 00:00:00.0,10739,COMPLETE\n",
       "510,2013-07-28 00:00:00.0,7533,PENDING_PAYMENT\n",
       "511,2013-07-28 00:00:00.0,486,PROCESSING\n",
       "512,2013-07-28 00:00:00.0,12000,COMPLETE\n",
       "513,2013-07-28 00:00:00.0,10479,COMPLETE\n",
       "514,2013-07-28 00:00:00.0,10962,PENDING_PAYMENT\n",
       "515,2013-07-28 00:00:00.0,5921,PENDING_PAYMENT\n",
       "516,2013-07-28 00:00:00.0,9204,COMPLETE\n",
       "517,2013-07-28 00:00:00.0,1578,PROCESSING\n",
       "518,2013-07-28 00:00:00.0,5257,COMPLETE\n",
       "519,2013-07-28 00:00:00.0,4780,COMPLETE\n",
       "520,2013-07-28 00:00:00.0,8074,COMPLETE\n",
       "521,2013-07-28 00:00:00.0,6497,COMPLETE\n",
       "522,2013-07-28 00:00:00.0,12300,COMPLETE\n",
       "523,2013-07-28 00:00:00.0,4477,COMPLETE\n",
       "524,2013-07-28 00:00:00.0,7622,COMPLETE\n",
       "525,2013-07-28 00:00:00.0,10830,PENDING\n",
       "526,2013-07-28 00:00:00.0,7259,COMPLETE\n",
       "527,2013-07-28 00:00:00.0,5426,CANCELED\n",
       "528,2013-07-28 00:00:00.0,6147,PROCESSING\n",
       "529,2013-07-28 00:00:00.0,844,ON_HOLD\n",
       "530,2013-07-28 00:00:00.0,6224,PROCESSING\n",
       "531,2013-07-28 00:00:00.0,1950,PENDING_PAYMENT\n",
       "532,2013-07-28 00:00:00.0,6498,PENDING\n",
       "533,2013-07-28 00:00:00.0,6770,COMPLETE\n",
       "534,2013-07-28 00:00:00.0,6896,COMPLETE\n",
       "535,2013-07-28 00:00:00.0,66,COMPLETE\n",
       "536,2013-07-28 00:00:00.0,9981,ON_HOLD\n",
       "537,2013-07-28 00:00:00.0,10437,COMPLETE\n",
       "538,2013-07-28 00:00:00.0,4871,PROCESSING\n",
       "539,2013-07-28 00:00:00.0,7673,PENDING_PAYMENT\n",
       "540,2013-07-28 00:00:00.0,121,COMPLETE\n",
       "541,2013-07-28 00:00:00.0,4985,COMPLETE\n",
       "542,2013-07-28 00:00:00.0,597,CLOSED\n",
       "543,2013-07-28 00:00:00.0,7351,PENDING\n",
       "544,2013-07-28 00:00:00.0,281,PENDING_PAYMENT\n",
       "545,2013-07-28 00:00:00.0,11642,COMPLETE\n",
       "546,2013-07-28 00:00:00.0,7604,PROCESSING\n",
       "547,2013-07-28 00:00:00.0,7220,COMPLETE\n",
       "548,2013-07-28 00:00:00.0,6889,SUSPECTED_FRAUD\n",
       "549,2013-07-28 00:00:00.0,3834,PENDING\n",
       "550,2013-07-28 00:00:00.0,9666,PENDING_PAYMENT\n",
       "551,2013-07-28 00:00:00.0,2867,COMPLETE\n",
       "552,2013-07-28 00:00:00.0,1445,CANCELED\n",
       "553,2013-07-28 00:00:00.0,7307,COMPLETE\n",
       "554,2013-07-28 00:00:00.0,10980,PROCESSING\n",
       "555,2013-07-28 00:00:00.0,976,PENDING_PAYMENT\n",
       "556,2013-07-28 00:00:00.0,7838,COMPLETE\n",
       "557,2013-07-28 00:00:00.0,4855,COMPLETE\n",
       "558,2013-07-28 00:00:00.0,4562,COMPLETE\n",
       "559,2013-07-28 00:00:00.0,1944,ON_HOLD\n",
       "560,2013-07-28 00:00:00.0,744,ON_HOLD\n",
       "561,2013-07-28 00:00:00.0,6059,PENDING\n",
       "562,2013-07-28 00:00:00.0,5017,PENDING\n",
       "563,2013-07-28 00:00:00.0,3514,CLOSED\n",
       "564,2013-07-28 00:00:00.0,2216,CANCELED\n",
       "565,2013-07-28 00:00:00.0,3850,PENDING_PAYMENT\n",
       "566,2013-07-28 00:00:00.0,6335,CLOSED\n",
       "567,2013-07-28 00:00:00.0,9527,CLOSED\n",
       "568,2013-07-28 00:00:00.0,11790,PENDING\n",
       "569,2013-07-28 00:00:00.0,8532,CLOSED\n",
       "570,2013-07-28 00:00:00.0,4622,PENDING\n",
       "571,2013-07-28 00:00:00.0,5006,PENDING\n",
       "572,2013-07-28 00:00:00.0,6691,PENDING\n",
       "573,2013-07-28 00:00:00.0,5964,COMPLETE\n",
       "574,2013-07-28 00:00:00.0,7145,PROCESSING\n",
       "575,2013-07-28 00:00:00.0,2873,PROCESSING\n",
       "576,2013-07-28 00:00:00.0,7191,COMPLETE\n",
       "577,2013-07-28 00:00:00.0,457,CLOSED\n",
       "578,2013-07-28 00:00:00.0,2529,PENDING_PAYMENT\n",
       "579,2013-07-28 00:00:00.0,4137,PROCESSING\n",
       "580,2013-07-28 00:00:00.0,8677,SUSPECTED_FRAUD\n",
       "581,2013-07-28 00:00:00.0,3222,PROCESSING\n",
       "582,2013-07-28 00:00:00.0,6220,CLOSED\n",
       "583,2013-07-28 00:00:00.0,4695,PENDING\n",
       "584,2013-07-28 00:00:00.0,1263,PENDING_PAYMENT\n",
       "585,2013-07-28 00:00:00.0,8399,PENDING_PAYMENT\n",
       "586,2013-07-28 00:00:00.0,10225,PROCESSING\n",
       "587,2013-07-28 00:00:00.0,6008,SUSPECTED_FRAUD\n",
       "588,2013-07-28 00:00:00.0,6348,COMPLETE\n",
       "589,2013-07-28 00:00:00.0,5609,COMPLETE\n",
       "590,2013-07-28 00:00:00.0,132,PROCESSING\n",
       "591,2013-07-28 00:00:00.0,6431,COMPLETE\n",
       "592,2013-07-28 00:00:00.0,10862,CLOSED\n",
       "593,2013-07-28 00:00:00.0,6667,PENDING\n",
       "594,2013-07-28 00:00:00.0,1946,PENDING_PAYMENT\n",
       "595,2013-07-28 00:00:00.0,3531,PAYMENT_REVIEW\n",
       "596,2013-07-28 00:00:00.0,8352,PENDING_PAYMENT\n",
       "597,2013-07-28 00:00:00.0,11558,PENDING_PAYMENT\n",
       "598,2013-07-28 00:00:00.0,11344,PENDING_PAYMENT\n",
       "599,2013-07-28 00:00:00.0,8005,COMPLETE\n",
       "\n",
       "*** WARNING: skipped 15611 bytes of output ***\n",
       "\n",
       "974,2013-07-30 00:00:00.0,6413,CLOSED\n",
       "975,2013-07-30 00:00:00.0,638,PENDING_PAYMENT\n",
       "976,2013-07-30 00:00:00.0,1088,PENDING_PAYMENT\n",
       "977,2013-07-30 00:00:00.0,7817,COMPLETE\n",
       "978,2013-07-30 00:00:00.0,4130,PROCESSING\n",
       "979,2013-07-30 00:00:00.0,11323,COMPLETE\n",
       "980,2013-07-30 00:00:00.0,7473,PROCESSING\n",
       "981,2013-07-30 00:00:00.0,5411,COMPLETE\n",
       "982,2013-07-30 00:00:00.0,2873,SUSPECTED_FRAUD\n",
       "983,2013-07-30 00:00:00.0,9514,CLOSED\n",
       "984,2013-07-30 00:00:00.0,12350,ON_HOLD\n",
       "985,2013-07-30 00:00:00.0,5389,COMPLETE\n",
       "986,2013-07-30 00:00:00.0,7820,PROCESSING\n",
       "987,2013-07-30 00:00:00.0,7418,COMPLETE\n",
       "988,2013-07-30 00:00:00.0,2491,COMPLETE\n",
       "989,2013-07-30 00:00:00.0,370,PENDING\n",
       "990,2013-07-30 00:00:00.0,7254,COMPLETE\n",
       "991,2013-07-30 00:00:00.0,7317,PENDING_PAYMENT\n",
       "992,2013-07-30 00:00:00.0,7107,COMPLETE\n",
       "993,2013-07-30 00:00:00.0,5122,SUSPECTED_FRAUD\n",
       "994,2013-07-30 00:00:00.0,4979,PROCESSING\n",
       "995,2013-07-30 00:00:00.0,10907,COMPLETE\n",
       "996,2013-07-30 00:00:00.0,12221,CLOSED\n",
       "997,2013-07-30 00:00:00.0,8786,COMPLETE\n",
       "998,2013-07-30 00:00:00.0,1739,PENDING_PAYMENT\n",
       "999,2013-07-30 00:00:00.0,9358,PROCESSING\n",
       "1000,2013-07-30 00:00:00.0,2321,CLOSED\n",
       "1001,2013-07-30 00:00:00.0,6650,COMPLETE\n",
       "1002,2013-07-30 00:00:00.0,5170,SUSPECTED_FRAUD\n",
       "1003,2013-07-30 00:00:00.0,7438,COMPLETE\n",
       "1004,2013-07-30 00:00:00.0,10701,COMPLETE\n",
       "1005,2013-07-30 00:00:00.0,7958,PROCESSING\n",
       "1006,2013-07-30 00:00:00.0,9028,COMPLETE\n",
       "1007,2013-07-30 00:00:00.0,1417,PENDING_PAYMENT\n",
       "1008,2013-07-30 00:00:00.0,4331,CLOSED\n",
       "1009,2013-07-30 00:00:00.0,7886,COMPLETE\n",
       "1010,2013-07-30 00:00:00.0,2512,COMPLETE\n",
       "1011,2013-07-30 00:00:00.0,7214,COMPLETE\n",
       "1012,2013-07-30 00:00:00.0,3245,CLOSED\n",
       "1013,2013-07-30 00:00:00.0,1903,CANCELED\n",
       "1014,2013-07-30 00:00:00.0,12077,PROCESSING\n",
       "1015,2013-07-30 00:00:00.0,1136,PENDING_PAYMENT\n",
       "1016,2013-07-30 00:00:00.0,5231,PENDING_PAYMENT\n",
       "1017,2013-07-30 00:00:00.0,3781,PROCESSING\n",
       "1018,2013-07-30 00:00:00.0,19,COMPLETE\n",
       "1019,2013-07-30 00:00:00.0,4475,PENDING_PAYMENT\n",
       "1020,2013-07-30 00:00:00.0,4815,PENDING_PAYMENT\n",
       "1021,2013-07-30 00:00:00.0,10118,COMPLETE\n",
       "1022,2013-07-30 00:00:00.0,6491,CLOSED\n",
       "1023,2013-07-30 00:00:00.0,3817,PENDING\n",
       "1024,2013-07-30 00:00:00.0,3751,COMPLETE\n",
       "1025,2013-07-30 00:00:00.0,9474,PROCESSING\n",
       "1026,2013-07-30 00:00:00.0,800,COMPLETE\n",
       "1027,2013-07-30 00:00:00.0,11873,PROCESSING\n",
       "1028,2013-07-30 00:00:00.0,11150,PENDING\n",
       "1029,2013-07-30 00:00:00.0,2800,PENDING_PAYMENT\n",
       "1030,2013-07-30 00:00:00.0,11178,COMPLETE\n",
       "1031,2013-07-30 00:00:00.0,633,COMPLETE\n",
       "1032,2013-07-30 00:00:00.0,7246,COMPLETE\n",
       "1033,2013-07-30 00:00:00.0,6339,CLOSED\n",
       "1034,2013-07-30 00:00:00.0,4990,COMPLETE\n",
       "1035,2013-07-30 00:00:00.0,9117,COMPLETE\n",
       "1036,2013-07-30 00:00:00.0,2001,CLOSED\n",
       "1037,2013-07-30 00:00:00.0,1757,PENDING_PAYMENT\n",
       "1038,2013-07-30 00:00:00.0,5418,COMPLETE\n",
       "1039,2013-07-30 00:00:00.0,1558,COMPLETE\n",
       "1040,2013-07-30 00:00:00.0,5787,COMPLETE\n",
       "1041,2013-07-30 00:00:00.0,4975,CLOSED\n",
       "1042,2013-07-30 00:00:00.0,6041,PROCESSING\n",
       "1043,2013-07-30 00:00:00.0,9955,PENDING_PAYMENT\n",
       "1044,2013-07-30 00:00:00.0,2444,PENDING_PAYMENT\n",
       "1045,2013-07-30 00:00:00.0,9990,PENDING_PAYMENT\n",
       "1046,2013-07-30 00:00:00.0,11047,PENDING_PAYMENT\n",
       "1047,2013-07-30 00:00:00.0,2775,PENDING\n",
       "1048,2013-07-30 00:00:00.0,11869,PENDING_PAYMENT\n",
       "1049,2013-07-30 00:00:00.0,10742,PROCESSING\n",
       "1050,2013-07-30 00:00:00.0,3401,PENDING_PAYMENT\n",
       "1051,2013-07-30 00:00:00.0,6397,COMPLETE\n",
       "1052,2013-07-30 00:00:00.0,464,PROCESSING\n",
       "1053,2013-07-30 00:00:00.0,6393,PENDING_PAYMENT\n",
       "1054,2013-07-30 00:00:00.0,2795,PENDING_PAYMENT\n",
       "1055,2013-07-30 00:00:00.0,8971,COMPLETE\n",
       "1056,2013-07-30 00:00:00.0,11006,COMPLETE\n",
       "1057,2013-07-30 00:00:00.0,8378,PENDING\n",
       "1058,2013-07-30 00:00:00.0,1981,PENDING\n",
       "1059,2013-07-30 00:00:00.0,12148,PROCESSING\n",
       "1060,2013-07-30 00:00:00.0,12390,PENDING_PAYMENT\n",
       "1061,2013-07-30 00:00:00.0,1538,PENDING_PAYMENT\n",
       "1062,2013-07-30 00:00:00.0,9488,PROCESSING\n",
       "1063,2013-07-30 00:00:00.0,4868,SUSPECTED_FRAUD\n",
       "1064,2013-07-30 00:00:00.0,11267,CLOSED\n",
       "1065,2013-07-30 00:00:00.0,5774,PROCESSING\n",
       "1066,2013-07-30 00:00:00.0,11037,PENDING_PAYMENT\n",
       "1067,2013-07-30 00:00:00.0,5130,CLOSED\n",
       "1068,2013-07-30 00:00:00.0,12178,PENDING\n",
       "1069,2013-07-30 00:00:00.0,4683,SUSPECTED_FRAUD\n",
       "1070,2013-07-30 00:00:00.0,3888,PENDING\n",
       "1071,2013-07-30 00:00:00.0,8202,CLOSED\n",
       "1072,2013-07-30 00:00:00.0,11480,ON_HOLD\n",
       "1073,2013-07-30 00:00:00.0,780,PROCESSING\n",
       "1074,2013-07-30 00:00:00.0,3900,SUSPECTED_FRAUD\n",
       "1075,2013-07-30 00:00:00.0,2735,COMPLETE\n",
       "1076,2013-07-30 00:00:00.0,7320,COMPLETE\n",
       "1077,2013-07-31 00:00:00.0,8103,COMPLETE\n",
       "1078,2013-07-31 00:00:00.0,9303,CLOSED\n",
       "1079,2013-07-31 00:00:00.0,10348,PENDING_PAYMENT\n",
       "1080,2013-07-31 00:00:00.0,8212,PENDING\n",
       "1081,2013-07-31 00:00:00.0,2932,COMPLETE\n",
       "1082,2013-07-31 00:00:00.0,6078,PENDING_PAYMENT\n",
       "1083,2013-07-31 00:00:00.0,3957,SUSPECTED_FRAUD\n",
       "1084,2013-07-31 00:00:00.0,6607,PENDING_PAYMENT\n",
       "1085,2013-07-31 00:00:00.0,6318,PROCESSING\n",
       "1086,2013-07-31 00:00:00.0,7236,PROCESSING\n",
       "1087,2013-07-31 00:00:00.0,2613,CLOSED\n",
       "1088,2013-07-31 00:00:00.0,11139,PENDING_PAYMENT\n",
       "1089,2013-07-31 00:00:00.0,2298,PENDING_PAYMENT\n",
       "1090,2013-07-31 00:00:00.0,9940,PROCESSING\n",
       "1091,2013-07-31 00:00:00.0,7042,COMPLETE\n",
       "1092,2013-07-31 00:00:00.0,1372,PROCESSING\n",
       "1093,2013-07-31 00:00:00.0,9763,PENDING_PAYMENT\n",
       "1094,2013-07-31 00:00:00.0,6443,PENDING\n",
       "1095,2013-07-31 00:00:00.0,6590,PENDING_PAYMENT\n",
       "1096,2013-07-31 00:00:00.0,458,COMPLETE\n",
       "1097,2013-07-31 00:00:00.0,1030,COMPLETE\n",
       "1098,2013-07-31 00:00:00.0,11983,COMPLETE\n",
       "1099,2013-07-31 00:00:00.0,2653,COMPLETE\n",
       "1100,2013-07-31 00:00:00.0,2850,SUSPECTED_FRAUD\n",
       "1101,2013-07-31 00:00:00.0,11858,PENDING_PAYMENT\n",
       "1102,2013-07-31 00:00:00.0,1279,PROCESSING\n",
       "1103,2013-07-31 00:00:00.0,10519,PROCESSING\n",
       "1104,2013-07-31 00:00:00.0,10883,PENDING_PAYMENT\n",
       "1105,2013-07-31 00:00:00.0,9760,PROCESSING\n",
       "1106,2013-07-31 00:00:00.0,2106,COMPLETE\n",
       "1107,2013-07-31 00:00:00.0,3083,PROCESSING\n",
       "1108,2013-07-31 00:00:00.0,7700,PROCESSING\n",
       "1109,2013-07-31 00:00:00.0,10029,PENDING_PAYMENT\n",
       "1110,2013-07-31 00:00:00.0,4786,PENDING\n",
       "1111,2013-07-31 00:00:00.0,225,COMPLETE\n",
       "1112,2013-07-31 00:00:00.0,7877,COMPLETE\n",
       "1113,2013-07-31 00:00:00.0,6237,CLOSED\n",
       "1114,2013-07-31 00:00:00.0,1228,PENDING\n",
       "1115,2013-07-31 00:00:00.0,12113,PENDING_PAYMENT\n",
       "1116,2013-07-31 00:00:00.0,4383,PENDING_PAYMENT\n",
       "1117,2013-07-31 00:00:00.0,11352,SUSPECTED_FRAUD\n",
       "1118,2013-07-31 00:00:00.0,7903,PENDING_PAYMENT\n",
       "1119,2013-07-31 00:00:00.0,2267,COMPLETE\n",
       "1120,2013-07-31 00:00:00.0,6515,PENDING_PAYMENT\n",
       "1121,2013-07-31 00:00:00.0,423,PENDING_PAYMENT\n",
       "1122,2013-07-31 00:00:00.0,10235,PENDING\n",
       "1123,2013-07-31 00:00:00.0,2311,PENDING_PAYMENT\n",
       "1124,2013-07-31 00:00:00.0,3703,ON_HOLD\n",
       "1125,2013-07-31 00:00:00.0,7287,COMPLETE\n",
       "1126,2013-07-31 00:00:00.0,6649,COMPLETE\n",
       "1127,2013-07-31 00:00:00.0,1069,ON_HOLD\n",
       "1128,2013-07-31 00:00:00.0,1498,COMPLETE\n",
       "1129,2013-07-31 00:00:00.0,5367,PENDING_PAYMENT\n",
       "1130,2013-07-31 00:00:00.0,6983,PENDING\n",
       "1131,2013-07-31 00:00:00.0,5533,PROCESSING\n",
       "1132,2013-07-31 00:00:00.0,8386,COMPLETE\n",
       "1133,2013-07-31 00:00:00.0,5937,PROCESSING\n",
       "1134,2013-07-31 00:00:00.0,4181,COMPLETE\n",
       "1135,2013-07-31 00:00:00.0,5359,COMPLETE\n",
       "1136,2013-07-31 00:00:00.0,808,CLOSED\n",
       "1137,2013-07-31 00:00:00.0,9735,PROCESSING\n",
       "1138,2013-07-31 00:00:00.0,10777,COMPLETE\n",
       "1139,2013-07-31 00:00:00.0,3786,CLOSED\n",
       "1140,2013-07-31 00:00:00.0,1073,CLOSED\n",
       "1141,2013-07-31 00:00:00.0,11825,CLOSED\n",
       "1142,2013-07-31 00:00:00.0,10885,PENDING_PAYMENT\n",
       "1143,2013-07-31 00:00:00.0,9715,COMPLETE\n",
       "1144,2013-07-31 00:00:00.0,61,SUSPECTED_FRAUD\n",
       "1145,2013-07-31 00:00:00.0,3381,PENDING\n",
       "1146,2013-07-31 00:00:00.0,4044,COMPLETE\n",
       "1147,2013-07-31 00:00:00.0,5182,CLOSED\n",
       "1148,2013-07-31 00:00:00.0,6596,COMPLETE\n",
       "1149,2013-07-31 00:00:00.0,8767,COMPLETE\n",
       "1150,2013-07-31 00:00:00.0,2826,PENDING\n",
       "1151,2013-07-31 00:00:00.0,6022,PENDING_PAYMENT\n",
       "1152,2013-07-31 00:00:00.0,11725,PENDING_PAYMENT\n",
       "1153,2013-07-31 00:00:00.0,712,PENDING\n",
       "1154,2013-07-31 00:00:00.0,3554,COMPLETE\n",
       "1155,2013-07-31 00:00:00.0,12066,PENDING_PAYMENT\n",
       "1156,2013-07-31 00:00:00.0,4725,CLOSED\n",
       "1157,2013-07-31 00:00:00.0,7952,PENDING_PAYMENT\n",
       "1158,2013-07-31 00:00:00.0,7762,PAYMENT_REVIEW\n",
       "1159,2013-07-31 00:00:00.0,9619,ON_HOLD\n",
       "1160,2013-07-31 00:00:00.0,1498,CLOSED\n",
       "1161,2013-07-31 00:00:00.0,1657,PENDING_PAYMENT\n",
       "1162,2013-07-31 00:00:00.0,5195,COMPLETE\n",
       "1163,2013-07-31 00:00:00.0,965,COMPLETE\n",
       "1164,2013-07-31 00:00:00.0,7009,COMPLETE\n",
       "1165,2013-07-31 00:00:00.0,5885,COMPLETE\n",
       "1166,2013-07-31 00:00:00.0,8936,CLOSED\n",
       "1167,2013-07-31 00:00:00.0,1204,ON_HOLD\n",
       "1168,2013-07-31 00:00:00.0,61,PENDING_PAYMENT\n",
       "1169,2013-07-31 00:00:00.0,3971,CANCELED\n",
       "1170,2013-07-31 00:00:00.0,593,PENDING\n",
       "1171,2013-07-31 00:00:00.0,6798,PENDING_PAYMENT\n",
       "1172,2013-07-31 00:00:00.0,3137,PENDING\n",
       "1173,2013-07-31 00:00:00.0,5645,COMPLETE\n",
       "1174,2013-07-31 00:00:00.0,8290,COMPLETE\n",
       "1175,2013-07-31 00:00:00.0,1330,COMPLETE\n",
       "1176,2013-07-31 00:00:00.0,10952,COMPLETE\n",
       "1177,2013-07-31 00:00:00.0,9712,CLOSED\n",
       "1178,2013-07-31 00:00:00.0,10513,CLOSED\n",
       "1179,2013-07-31 00:00:00.0,3326,PENDING_PAYMENT\n",
       "1180,2013-07-31 00:00:00.0,7061,CLOSED\n",
       "1181,2013-07-31 00:00:00.0,5491,PENDING_PAYMENT\n",
       "1182,2013-07-31 00:00:00.0,6438,COMPLETE\n",
       "1183,2013-07-31 00:00:00.0,11732,PROCESSING\n",
       "1184,2013-07-31 00:00:00.0,5580,PENDING\n",
       "1185,2013-07-31 00:00:00.0,6153,CLOSED\n",
       "1186,2013-07-31 00:00:00.0,11947,CANCELED\n",
       "1187,2013-07-31 00:00:00.0,5813,ON_HOLD\n",
       "1188,2013-07-31 00:00:00.0,8957,COMPLETE\n",
       "1189,2013-07-31 00:00:00.0,10333,PENDING_PAYMENT\n",
       "1190,2013-07-31 00:00:00.0,12360,CANCELED\n",
       "1191,2013-07-31 00:00:00.0,3254,PENDING\n",
       "1192,2013-07-31 00:00:00.0,1402,PROCESSING\n",
       "1193,2013-07-31 00:00:00.0,10106,PENDING_PAYMENT\n",
       "1194,2013-07-31 00:00:00.0,12161,ON_HOLD\n",
       "1195,2013-07-31 00:00:00.0,7703,PENDING_PAYMENT\n",
       "1196,2013-07-31 00:00:00.0,2737,COMPLETE\n",
       "1197,2013-07-31 00:00:00.0,5003,COMPLETE\n",
       "1198,2013-07-31 00:00:00.0,182,PENDING\n",
       "1199,2013-07-31 00:00:00.0,244,PENDING_PAYMENT\n",
       "1200,2013-07-31 00:00:00.0,11994,COMPLETE\n",
       "1201,2013-07-31 00:00:00.0,6343,SUSPECTED_FRAUD\n",
       "1202,2013-07-31 00:00:00.0,883,CLOSED\n",
       "1203,2013-07-31 00:00:00.0,2447,COMPLETE\n",
       "1204,2013-07-31 00:00:00.0,731,PENDING_PAYMENT\n",
       "1205,2013-07-31 00:00:00.0,11907,COMPLETE\n",
       "1206,2013-07-31 00:00:00.0,6083,COMPLETE\n",
       "1207,2013-07-31 00:00:00.0,54,SUSPECTED_FRAUD\n",
       "1208,2013-07-31 00:00:00.0,12117,CLOSED\n",
       "1209,2013-07-31 00:00:00.0,2398,PENDING_PAYMENT\n",
       "1210,2013-07-31 00:00:00.0,6014,CLOSED\n",
       "1211,2013-07-31 00:00:00.0,10929,PENDING\n",
       "1212,2013-07-31 00:00:00.0,4100,PENDING\n",
       "1213,2013-07-31 00:00:00.0,9250,CLOSED\n",
       "1214,2013-07-31 00:00:00.0,7892,ON_HOLD\n",
       "1215,2013-07-31 00:00:00.0,2660,COMPLETE\n",
       "1216,2013-07-31 00:00:00.0,2846,ON_HOLD\n",
       "1217,2013-07-31 00:00:00.0,5328,COMPLETE\n",
       "1218,2013-07-31 00:00:00.0,4469,PENDING\n",
       "1219,2013-07-31 00:00:00.0,6728,PENDING_PAYMENT\n",
       "1220,2013-07-31 00:00:00.0,2944,ON_HOLD\n",
       "1221,2013-07-31 00:00:00.0,12032,PROCESSING\n",
       "1222,2013-07-31 00:00:00.0,6617,PENDING_PAYMENT\n",
       "1223,2013-07-31 00:00:00.0,7981,COMPLETE\n",
       "1224,2013-07-31 00:00:00.0,8781,PENDING_PAYMENT\n",
       "1225,2013-07-31 00:00:00.0,665,COMPLETE\n",
       "1226,2013-07-31 00:00:00.0,9643,COMPLETE\n",
       "1227,2013-07-31 00:00:00.0,8836,PENDING_PAYMENT\n",
       "1228,2013-07-31 00:00:00.0,10103,PENDING\n",
       "1229,2013-07-31 00:00:00.0,7822,PENDING_PAYMENT\n",
       "1230,2013-07-31 00:00:00.0,11855,COMPLETE\n",
       "1231,2013-07-31 00:00:00.0,987,PROCESSING\n",
       "1232,2013-07-31 00:00:00.0,11433,PENDING\n",
       "1233,2013-07-31 00:00:00.0,3184,ON_HOLD\n",
       "1234,2013-07-31 00:00:00.0,7639,PENDING\n",
       "1235,2013-07-31 00:00:00.0,11033,PENDING\n",
       "1236,2013-07-31 00:00:00.0,1835,CLOSED\n",
       "1237,2013-07-31 00:00:00.0,71,PENDING_PAYMENT\n",
       "1238,2013-07-31 00:00:00.0,2610,COMPLETE\n",
       "1239,2013-07-31 00:00:00.0,5397,PROCESSING\n",
       "1240,2013-07-31 00:00:00.0,749,COMPLETE\n",
       "1241,2013-07-31 00:00:00.0,7430,COMPLETE\n",
       "1242,2013-07-31 00:00:00.0,9807,PENDING_PAYMENT\n",
       "1243,2013-07-31 00:00:00.0,4434,PROCESSING\n",
       "1244,2013-07-31 00:00:00.0,10480,COMPLETE\n",
       "1245,2013-07-31 00:00:00.0,2686,PENDING_PAYMENT\n",
       "1246,2013-07-31 00:00:00.0,9098,COMPLETE\n",
       "1247,2013-07-31 00:00:00.0,10436,COMPLETE\n",
       "1248,2013-07-31 00:00:00.0,6952,PENDING_PAYMENT\n",
       "1249,2013-07-31 00:00:00.0,4014,PENDING_PAYMENT\n",
       "1250,2013-07-31 00:00:00.0,6845,COMPLETE\n",
       "1251,2013-07-31 00:00:00.0,11689,COMPLETE\n",
       "1252,2013-07-31 00:00:00.0,10504,PENDING\n",
       "1253,2013-07-31 00:00:00.0,5633,COMPLETE\n",
       "1254,2013-07-31 00:00:00.0,1729,COMPLETE\n",
       "1255,2013-07-31 00:00:00.0,8929,COMPLETE\n",
       "1256,2013-07-31 00:00:00.0,1834,PENDING_PAYMENT\n",
       "1257,2013-07-31 00:00:00.0,2255,PENDING\n",
       "1258,2013-07-31 00:00:00.0,7958,ON_HOLD\n",
       "1259,2013-07-31 00:00:00.0,2414,PENDING\n",
       "1260,2013-07-31 00:00:00.0,9123,PENDING\n",
       "1261,2013-07-31 00:00:00.0,11960,PROCESSING\n",
       "1262,2013-07-31 00:00:00.0,2972,COMPLETE\n",
       "1263,2013-07-31 00:00:00.0,1174,PROCESSING\n",
       "1264,2013-07-31 00:00:00.0,6474,PENDING_PAYMENT\n",
       "1265,2013-07-31 00:00:00.0,8982,COMPLETE\n",
       "1266,2013-07-31 00:00:00.0,10850,ON_HOLD\n",
       "1267,2013-07-31 00:00:00.0,1147,COMPLETE\n",
       "1268,2013-07-31 00:00:00.0,12018,ON_HOLD\n",
       "1269,2013-07-31 00:00:00.0,8069,COMPLETE\n",
       "1270,2013-07-31 00:00:00.0,6909,ON_HOLD\n",
       "1271,2013-07-31 00:00:00.0,10095,PROCESSING\n",
       "1272,2013-07-31 00:00:00.0,3127,PENDING_PAYMENT\n",
       "1273,2013-07-31 00:00:00.0,3322,COMPLETE\n",
       "1274,2013-07-31 00:00:00.0,5511,COMPLETE\n",
       "1275,2013-07-31 00:00:00.0,8091,CLOSED\n",
       "1276,2013-07-31 00:00:00.0,4202,PENDING_PAYMENT\n",
       "1277,2013-07-31 00:00:00.0,1939,COMPLETE\n",
       "1278,2013-07-31 00:00:00.0,3753,PENDING_PAYMENT\n",
       "1279,2013-07-31 00:00:00.0,4303,CLOSED\n",
       "1280,2013-07-31 00:00:00.0,5712,CLOSED\n",
       "1281,2013-07-31 00:00:00.0,10431,COMPLETE\n",
       "1282,2013-07-31 00:00:00.0,9392,PENDING_PAYMENT\n",
       "1283,2013-07-31 00:00:00.0,3951,CLOSED\n",
       "1284,2013-07-31 00:00:00.0,1750,ON_HOLD\n",
       "1285,2013-07-31 00:00:00.0,2543,PROCESSING\n",
       "1286,2013-07-31 00:00:00.0,8389,PENDING_PAYMENT\n",
       "1287,2013-07-31 00:00:00.0,2597,COMPLETE\n",
       "1288,2013-07-31 00:00:00.0,8482,PROCESSING\n",
       "1289,2013-07-31 00:00:00.0,11414,PROCESSING\n",
       "1290,2013-07-31 00:00:00.0,6742,PROCESSING\n",
       "1291,2013-07-31 00:00:00.0,704,COMPLETE\n",
       "1292,2013-07-31 00:00:00.0,11460,COMPLETE\n",
       "1293,2013-07-31 00:00:00.0,8351,PROCESSING\n",
       "1294,2013-07-31 00:00:00.0,7121,PENDING_PAYMENT\n",
       "1295,2013-07-31 00:00:00.0,611,CLOSED\n",
       "1296,2013-07-31 00:00:00.0,589,CLOSED\n",
       "1297,2013-08-01 00:00:00.0,11607,COMPLETE\n",
       "1298,2013-08-01 00:00:00.0,5105,CLOSED\n",
       "1299,2013-08-01 00:00:00.0,7802,COMPLETE\n",
       "1300,2013-08-01 00:00:00.0,553,PENDING_PAYMENT\n",
       "1301,2013-08-01 00:00:00.0,1604,PENDING_PAYMENT\n",
       "1302,2013-08-01 00:00:00.0,1695,COMPLETE\n",
       "1303,2013-08-01 00:00:00.0,7018,PROCESSING\n",
       "1304,2013-08-01 00:00:00.0,2059,COMPLETE\n",
       "1305,2013-08-01 00:00:00.0,3844,COMPLETE\n",
       "1306,2013-08-01 00:00:00.0,11672,PENDING_PAYMENT\n",
       "1307,2013-08-01 00:00:00.0,4474,COMPLETE\n",
       "1308,2013-08-01 00:00:00.0,11645,PENDING\n",
       "1309,2013-08-01 00:00:00.0,2367,CLOSED\n",
       "1310,2013-08-01 00:00:00.0,5602,PENDING\n",
       "1311,2013-08-01 00:00:00.0,5396,PENDING_PAYMENT\n",
       "1312,2013-08-01 00:00:00.0,12291,COMPLETE\n",
       "1313,2013-08-01 00:00:00.0,3471,CANCELED\n",
       "1314,2013-08-01 00:00:00.0,10993,COMPLETE\n",
       "1315,2013-08-01 00:00:00.0,5660,COMPLETE\n",
       "1316,2013-08-01 00:00:00.0,6376,PENDING_PAYMENT\n",
       "1317,2013-08-01 00:00:00.0,5467,PENDING\n",
       "1318,2013-08-01 00:00:00.0,4212,COMPLETE\n",
       "1319,2013-08-01 00:00:00.0,3966,COMPLETE\n",
       "1320,2013-08-01 00:00:00.0,12270,COMPLETE\n",
       "1321,2013-08-01 00:00:00.0,800,COMPLETE\n",
       "1322,2013-08-01 00:00:00.0,9264,COMPLETE\n",
       "1323,2013-08-01 00:00:00.0,7422,COMPLETE\n",
       "1324,2013-08-01 00:00:00.0,4600,COMPLETE\n",
       "1325,2013-08-01 00:00:00.0,10425,PENDING\n",
       "1326,2013-08-01 00:00:00.0,10811,PENDING_PAYMENT\n",
       "1327,2013-08-01 00:00:00.0,9526,COMPLETE\n",
       "1328,2013-08-01 00:00:00.0,2844,PENDING\n",
       "1329,2013-08-01 00:00:00.0,6070,CLOSED\n",
       "1330,2013-08-01 00:00:00.0,4624,COMPLETE\n",
       "1331,2013-08-01 00:00:00.0,1426,PENDING_PAYMENT\n",
       "1332,2013-08-01 00:00:00.0,2715,PROCESSING\n",
       "1333,2013-08-01 00:00:00.0,905,COMPLETE\n",
       "1334,2013-08-01 00:00:00.0,4016,PENDING\n",
       "1335,2013-08-01 00:00:00.0,5762,COMPLETE\n",
       "1336,2013-08-01 00:00:00.0,5627,SUSPECTED_FRAUD\n",
       "1337,2013-08-01 00:00:00.0,3561,COMPLETE\n",
       "1338,2013-08-01 00:00:00.0,2094,COMPLETE\n",
       "1339,2013-08-01 00:00:00.0,2696,PENDING\n",
       "1340,2013-08-01 00:00:00.0,5148,PENDING_PAYMENT\n",
       "1341,2013-08-01 00:00:00.0,3119,COMPLETE\n",
       "1342,2013-08-01 00:00:00.0,8350,COMPLETE\n",
       "1343,2013-08-01 00:00:00.0,8470,PENDING\n",
       "1344,2013-08-01 00:00:00.0,1867,PAYMENT_REVIEW\n",
       "1345,2013-08-01 00:00:00.0,7729,COMPLETE\n",
       "1346,2013-08-01 00:00:00.0,2090,PENDING_PAYMENT\n",
       "1347,2013-08-01 00:00:00.0,10007,PROCESSING\n",
       "1348,2013-08-01 00:00:00.0,2359,PENDING_PAYMENT\n",
       "1349,2013-08-01 00:00:00.0,11918,PENDING\n",
       "1350,2013-08-01 00:00:00.0,7006,COMPLETE\n",
       "1351,2013-08-01 00:00:00.0,9452,PROCESSING\n",
       "1352,2013-08-01 00:00:00.0,4473,PENDING\n",
       "1353,2013-08-01 00:00:00.0,1727,COMPLETE\n",
       "1354,2013-08-01 00:00:00.0,8294,PENDING_PAYMENT\n",
       "1355,2013-08-01 00:00:00.0,11218,PENDING\n",
       "1356,2013-08-01 00:00:00.0,8984,PENDING_PAYMENT\n",
       "1357,2013-08-01 00:00:00.0,5088,COMPLETE\n",
       "1358,2013-08-01 00:00:00.0,4041,ON_HOLD\n",
       "1359,2013-08-01 00:00:00.0,4435,CLOSED\n",
       "1360,2013-08-01 00:00:00.0,9009,PENDING_PAYMENT\n",
       "1361,2013-08-01 00:00:00.0,12308,PENDING_PAYMENT\n",
       "1362,2013-08-01 00:00:00.0,5661,COMPLETE\n",
       "1363,2013-08-01 00:00:00.0,12251,PENDING\n",
       "1364,2013-08-01 00:00:00.0,3192,PENDING_PAYMENT\n",
       "1365,2013-08-01 00:00:00.0,8567,CANCELED\n",
       "1366,2013-08-01 00:00:00.0,1115,PENDING\n",
       "1367,2013-08-01 00:00:00.0,2703,COMPLETE\n",
       "1368,2013-08-01 00:00:00.0,1269,PENDING\n",
       "1369,2013-08-01 00:00:00.0,9729,PROCESSING\n",
       "1370,2013-08-01 00:00:00.0,9223,COMPLETE\n",
       "1371,2013-08-01 00:00:00.0,4799,CLOSED\n",
       "1372,2013-08-01 00:00:00.0,5821,PENDING\n",
       "1373,2013-08-01 00:00:00.0,10611,PROCESSING\n",
       "1374,2013-08-01 00:00:00.0,2484,CLOSED\n",
       "1375,2013-08-01 00:00:00.0,4914,PROCESSING\n",
       "1376,2013-08-01 00:00:00.0,11063,PENDING_PAYMENT\n",
       "1377,2013-08-01 00:00:00.0,5418,COMPLETE\n",
       "1378,2013-08-01 00:00:00.0,3410,PROCESSING\n",
       "1379,2013-08-01 00:00:00.0,696,CLOSED\n",
       "1380,2013-08-01 00:00:00.0,11195,PROCESSING\n",
       "1381,2013-08-01 00:00:00.0,6643,PENDING_PAYMENT\n",
       "1382,2013-08-01 00:00:00.0,9151,COMPLETE\n",
       "1383,2013-08-01 00:00:00.0,1753,CANCELED\n",
       "1384,2013-08-01 00:00:00.0,10281,PENDING\n",
       "1385,2013-08-01 00:00:00.0,12198,PENDING_PAYMENT\n",
       "1386,2013-08-01 00:00:00.0,11310,PROCESSING\n",
       "1387,2013-08-01 00:00:00.0,7547,PENDING_PAYMENT\n",
       "1388,2013-08-01 00:00:00.0,12046,PENDING\n",
       "1389,2013-08-01 00:00:00.0,10371,CLOSED\n",
       "1390,2013-08-01 00:00:00.0,8964,COMPLETE\n",
       "1391,2013-08-01 00:00:00.0,5994,PENDING_PAYMENT\n",
       "1392,2013-08-01 00:00:00.0,7102,COMPLETE\n",
       "1393,2013-08-01 00:00:00.0,3420,PENDING\n",
       "1394,2013-08-01 00:00:00.0,6857,PENDING_PAYMENT\n",
       "1395,2013-08-01 00:00:00.0,3147,ON_HOLD\n",
       "1396,2013-08-01 00:00:00.0,8915,PENDING_PAYMENT\n",
       "1397,2013-08-01 00:00:00.0,11571,ON_HOLD\n",
       "1398,2013-08-01 00:00:00.0,1523,SUSPECTED_FRAUD\n",
       "1399,2013-08-01 00:00:00.0,9691,PENDING\n",
       "1400,2013-08-01 00:00:00.0,478,COMPLETE\n",
       "1401,2013-08-01 00:00:00.0,267,CLOSED\n",
       "1402,2013-08-01 00:00:00.0,5394,PENDING_PAYMENT\n",
       "1403,2013-08-01 00:00:00.0,12379,ON_HOLD\n",
       "1404,2013-08-01 00:00:00.0,8986,PENDING\n",
       "1405,2013-08-01 00:00:00.0,8627,COMPLETE\n",
       "1406,2013-08-01 00:00:00.0,2370,PENDING\n",
       "1407,2013-08-01 00:00:00.0,4900,COMPLETE\n",
       "1408,2013-08-01 00:00:00.0,6819,CLOSED\n",
       "1409,2013-08-01 00:00:00.0,1905,PENDING_PAYMENT\n",
       "1410,2013-08-01 00:00:00.0,5928,COMPLETE\n",
       "1411,2013-08-01 00:00:00.0,1383,PENDING\n",
       "1412,2013-08-01 00:00:00.0,3656,SUSPECTED_FRAUD\n",
       "1413,2013-08-01 00:00:00.0,10678,PENDING\n",
       "1414,2013-08-01 00:00:00.0,9072,PENDING\n",
       "1415,2013-08-01 00:00:00.0,109,SUSPECTED_FRAUD\n",
       "1416,2013-08-01 00:00:00.0,5806,PENDING_PAYMENT\n",
       "1417,2013-08-01 00:00:00.0,5676,PENDING\n",
       "1418,2013-08-01 00:00:00.0,7595,CLOSED\n",
       "1419,2013-08-01 00:00:00.0,6779,PROCESSING\n",
       "1420,2013-08-01 00:00:00.0,7013,PENDING\n",
       "1421,2013-08-01 00:00:00.0,5358,PENDING\n",
       "1422,2013-08-01 00:00:00.0,8406,COMPLETE\n",
       "1423,2013-08-01 00:00:00.0,12116,PROCESSING\n",
       "1424,2013-08-01 00:00:00.0,5763,COMPLETE\n",
       "1425,2013-08-01 00:00:00.0,9259,PENDING\n",
       "1426,2013-08-01 00:00:00.0,4200,PENDING\n",
       "1427,2013-08-01 00:00:00.0,4795,COMPLETE\n",
       "1428,2013-08-01 00:00:00.0,1932,PROCESSING\n",
       "1429,2013-08-01 00:00:00.0,5109,ON_HOLD\n",
       "1430,2013-08-01 00:00:00.0,5241,COMPLETE\n",
       "1431,2013-08-01 00:00:00.0,11358,CLOSED\n",
       "1432,2013-08-01 00:00:00.0,3730,COMPLETE\n",
       "1433,2013-08-01 00:00:00.0,174,PENDING\n",
       "1434,2013-08-01 00:00:00.0,6607,COMPLETE\n",
       "1435,2013-08-01 00:00:00.0,1879,CANCELED\n",
       "1436,2013-08-01 00:00:00.0,10608,PENDING_PAYMENT\n",
       "1437,2013-08-01 00:00:00.0,9507,PENDING\n",
       "1438,2013-08-01 00:00:00.0,1523,PROCESSING\n",
       "1439,2013-08-01 00:00:00.0,11719,COMPLETE\n",
       "1440,2013-08-01 00:00:00.0,9310,COMPLETE\n",
       "1441,2013-08-01 00:00:00.0,9350,PENDING_PAYMENT\n",
       "1442,2013-08-01 00:00:00.0,7646,PENDING_PAYMENT\n",
       "1443,2013-08-01 00:00:00.0,9490,PENDING\n",
       "1444,2013-08-01 00:00:00.0,8302,COMPLETE\n",
       "1445,2013-08-01 00:00:00.0,2182,COMPLETE\n",
       "1446,2013-08-01 00:00:00.0,9102,COMPLETE\n",
       "1447,2013-08-01 00:00:00.0,10324,PENDING\n",
       "1448,2013-08-01 00:00:00.0,1454,PENDING\n",
       "1449,2013-08-01 00:00:00.0,10783,COMPLETE\n",
       "1450,2013-08-01 00:00:00.0,9151,PENDING_PAYMENT\n",
       "1451,2013-08-01 00:00:00.0,2798,PENDING_PAYMENT\n",
       "1452,2013-08-01 00:00:00.0,4953,COMPLETE\n",
       "1453,2013-08-01 00:00:00.0,4040,CLOSED\n",
       "1454,2013-08-01 00:00:00.0,1108,CLOSED\n",
       "1455,2013-08-01 00:00:00.0,4875,ON_HOLD\n",
       "1456,2013-08-01 00:00:00.0,10194,PENDING_PAYMENT\n",
       "1457,2013-08-01 00:00:00.0,9657,PENDING\n",
       "1458,2013-08-01 00:00:00.0,3890,PENDING_PAYMENT\n",
       "1459,2013-08-01 00:00:00.0,6756,PENDING_PAYMENT\n",
       "1460,2013-08-01 00:00:00.0,1089,PENDING\n",
       "1461,2013-08-01 00:00:00.0,9702,CLOSED\n",
       "1462,2013-08-01 00:00:00.0,3592,COMPLETE\n",
       "1463,2013-08-01 00:00:00.0,9735,ON_HOLD\n",
       "1464,2013-08-01 00:00:00.0,7510,COMPLETE\n",
       "1465,2013-08-01 00:00:00.0,7634,PROCESSING\n",
       "1466,2013-08-01 00:00:00.0,7054,COMPLETE\n",
       "1467,2013-08-01 00:00:00.0,1449,CLOSED\n",
       "1468,2013-08-01 00:00:00.0,6622,CLOSED\n",
       "1469,2013-08-01 00:00:00.0,6087,PENDING_PAYMENT\n",
       "1470,2013-08-01 00:00:00.0,2802,CLOSED\n",
       "1471,2013-08-01 00:00:00.0,6418,PENDING\n",
       "1472,2013-08-01 00:00:00.0,2394,COMPLETE\n",
       "1473,2013-08-01 00:00:00.0,10933,PENDING\n",
       "1474,2013-08-01 00:00:00.0,10365,COMPLETE\n",
       "1475,2013-08-01 00:00:00.0,5235,PENDING_PAYMENT\n",
       "1476,2013-08-01 00:00:00.0,8560,PENDING_PAYMENT\n",
       "1477,2013-08-01 00:00:00.0,12101,CLOSED\n",
       "1478,2013-08-01 00:00:00.0,12136,PENDING_PAYMENT\n",
       "1479,2013-08-01 00:00:00.0,3752,PENDING\n",
       "1480,2013-08-01 00:00:00.0,3159,PROCESSING\n",
       "1481,2013-08-01 00:00:00.0,5953,COMPLETE\n",
       "1482,2013-08-01 00:00:00.0,8110,PENDING\n",
       "1483,2013-08-01 00:00:00.0,9307,COMPLETE\n",
       "1484,2013-08-01 00:00:00.0,10601,COMPLETE\n",
       "1485,2013-08-01 00:00:00.0,10870,PENDING_PAYMENT\n",
       "1486,2013-08-01 00:00:00.0,11106,PENDING_PAYMENT\n",
       "1487,2013-08-01 00:00:00.0,3880,PENDING_PAYMENT\n",
       "1488,2013-08-01 00:00:00.0,12000,PENDING_PAYMENT\n",
       "1489,2013-08-01 00:00:00.0,2550,COMPLETE\n",
       "1490,2013-08-01 00:00:00.0,5067,COMPLETE\n",
       "1491,2013-08-01 00:00:00.0,10029,COMPLETE\n",
       "1492,2013-08-01 00:00:00.0,6847,SUSPECTED_FRAUD\n",
       "1493,2013-08-01 00:00:00.0,11956,PROCESSING\n",
       "1494,2013-08-01 00:00:00.0,6458,PENDING_PAYMENT\n",
       "1495,2013-08-01 00:00:00.0,847,SUSPECTED_FRAUD\n",
       "1496,2013-08-01 00:00:00.0,5858,PENDING_PAYMENT\n",
       "1497,2013-08-01 00:00:00.0,7193,CANCELED\n",
       "1498,2013-08-01 00:00:00.0,9093,PENDING_PAYMENT\n",
       "1499,2013-08-01 00:00:00.0,8330,PENDING\n",
       "1500,2013-08-01 00:00:00.0,692,CLOSED\n",
       "1501,2013-08-01 00:00:00.0,4787,COMPLETE\n",
       "1502,2013-08-01 00:00:00.0,6236,PENDING_PAYMENT\n",
       "1503,2013-08-01 00:00:00.0,3309,PENDING\n",
       "1504,2013-08-01 00:00:00.0,8961,CLOSED\n",
       "1505,2013-08-01 00:00:00.0,7795,COMPLETE\n",
       "1506,2013-08-01 00:00:00.0,8566,PROCESSING\n",
       "1507,2013-08-01 00:00:00.0,4062,PROCESSING\n",
       "1508,2013-08-01 00:00:00.0,6622,ON_HOLD\n",
       "1509,2013-08-01 00:00:00.0,11060,SUSPECTED_FRAUD\n",
       "1510,2013-08-01 00:00:00.0,12249,PENDING_PAYMENT\n",
       "1511,2013-08-01 00:00:00.0,9326,PENDING_PAYMENT\n",
       "1512,2013-08-01 00:00:00.0,11560,PROCESSING\n",
       "1513,2013-08-01 00:00:00.0,11399,PENDING_PAYMENT\n",
       "1514,2013-08-01 00:00:00.0,7273,PENDING_PAYMENT\n",
       "1515,2013-08-01 00:00:00.0,12346,COMPLETE\n",
       "1516,2013-08-01 00:00:00.0,8604,PENDING_PAYMENT\n",
       "1517,2013-08-01 00:00:00.0,10515,PROCESSING\n",
       "1518,2013-08-01 00:00:00.0,4739,ON_HOLD\n",
       "1519,2013-08-01 00:00:00.0,5190,COMPLETE\n",
       "1520,2013-08-01 00:00:00.0,12309,COMPLETE\n",
       "1521,2013-08-01 00:00:00.0,11622,COMPLETE\n",
       "1522,2013-08-01 00:00:00.0,5713,COMPLETE\n",
       "1523,2013-08-01 00:00:00.0,8256,PROCESSING\n",
       "1524,2013-08-01 00:00:00.0,1507,COMPLETE\n",
       "1525,2013-08-01 00:00:00.0,6592,COMPLETE\n",
       "1526,2013-08-01 00:00:00.0,1908,PENDING_PAYMENT\n",
       "1527,2013-08-01 00:00:00.0,7668,PENDING_PAYMENT\n",
       "1528,2013-08-01 00:00:00.0,8949,PENDING\n",
       "1529,2013-08-01 00:00:00.0,34,ON_HOLD\n",
       "1530,2013-08-01 00:00:00.0,1032,COMPLETE\n",
       "1531,2013-08-02 00:00:00.0,8731,COMPLETE\n",
       "1532,2013-08-02 00:00:00.0,4646,COMPLETE\n",
       "1533,2013-08-02 00:00:00.0,7249,PENDING_PAYMENT\n",
       "1534,2013-08-02 00:00:00.0,10942,PAYMENT_REVIEW\n",
       "1535,2013-08-02 00:00:00.0,2129,COMPLETE\n",
       "1536,2013-08-02 00:00:00.0,4384,PENDING_PAYMENT\n",
       "1537,2013-08-02 00:00:00.0,8013,COMPLETE\n",
       "1538,2013-08-02 00:00:00.0,4172,SUSPECTED_FRAUD\n",
       "1539,2013-08-02 00:00:00.0,10719,PENDING\n",
       "1540,2013-08-02 00:00:00.0,3244,PAYMENT_REVIEW\n",
       "1541,2013-08-02 00:00:00.0,8024,COMPLETE\n",
       "1542,2013-08-02 00:00:00.0,7260,PENDING\n",
       "1543,2013-08-02 00:00:00.0,12171,PENDING\n",
       "1544,2013-08-02 00:00:00.0,9220,PROCESSING\n",
       "1545,2013-08-02 00:00:00.0,5657,PENDING_PAYMENT\n",
       "1546,2013-08-02 00:00:00.0,797,PENDING_PAYMENT\n",
       "1547,2013-08-02 00:00:00.0,9462,COMPLETE\n",
       "1548,2013-08-02 00:00:00.0,1556,CLOSED\n",
       "1549,2013-08-02 00:00:00.0,12142,COMPLETE\n",
       "1550,2013-08-02 00:00:00.0,3043,PENDING_PAYMENT\n",
       "1551,2013-08-02 00:00:00.0,7264,PENDING_PAYMENT\n",
       "1552,2013-08-02 00:00:00.0,7614,PENDING\n",
       "1553,2013-08-02 00:00:00.0,10491,PENDING_PAYMENT\n",
       "1554,2013-08-02 00:00:00.0,11728,PENDING_PAYMENT\n",
       "1555,2013-08-02 00:00:00.0,1831,COMPLETE\n",
       "1556,2013-08-02 00:00:00.0,6739,PENDING_PAYMENT\n",
       "1557,2013-08-02 00:00:00.0,18\n",
       "</div>"
      ]
     },
     "metadata": {
      "application/vnd.databricks.v1+output": {
       "addedWidgets": {},
       "arguments": {},
       "data": "<div class=\"ansiout\">[Truncated to first 65536 bytes]\n1,2013-07-25 00:00:00.0,11599,CLOSED\n2,2013-07-25 00:00:00.0,256,PENDING_PAYMENT\n3,2013-07-25 00:00:00.0,12111,COMPLETE\n4,2013-07-25 00:00:00.0,8827,CLOSED\n5,2013-07-25 00:00:00.0,11318,COMPLETE\n6,2013-07-25 00:00:00.0,7130,COMPLETE\n7,2013-07-25 00:00:00.0,4530,COMPLETE\n8,2013-07-25 00:00:00.0,2911,PROCESSING\n9,2013-07-25 00:00:00.0,5657,PENDING_PAYMENT\n10,2013-07-25 00:00:00.0,5648,PENDING_PAYMENT\n11,2013-07-25 00:00:00.0,918,PAYMENT_REVIEW\n12,2013-07-25 00:00:00.0,1837,CLOSED\n13,2013-07-25 00:00:00.0,9149,PENDING_PAYMENT\n14,2013-07-25 00:00:00.0,9842,PROCESSING\n15,2013-07-25 00:00:00.0,2568,COMPLETE\n16,2013-07-25 00:00:00.0,7276,PENDING_PAYMENT\n17,2013-07-25 00:00:00.0,2667,COMPLETE\n18,2013-07-25 00:00:00.0,1205,CLOSED\n19,2013-07-25 00:00:00.0,9488,PENDING_PAYMENT\n20,2013-07-25 00:00:00.0,9198,PROCESSING\n21,2013-07-25 00:00:00.0,2711,PENDING\n22,2013-07-25 00:00:00.0,333,COMPLETE\n23,2013-07-25 00:00:00.0,4367,PENDING_PAYMENT\n24,2013-07-25 00:00:00.0,11441,CLOSED\n25,2013-07-25 00:00:00.0,9503,CLOSED\n26,2013-07-25 00:00:00.0,7562,COMPLETE\n27,2013-07-25 00:00:00.0,3241,PENDING_PAYMENT\n28,2013-07-25 00:00:00.0,656,COMPLETE\n29,2013-07-25 00:00:00.0,196,PROCESSING\n30,2013-07-25 00:00:00.0,10039,PENDING_PAYMENT\n31,2013-07-25 00:00:00.0,6983,PAYMENT_REVIEW\n32,2013-07-25 00:00:00.0,3960,COMPLETE\n33,2013-07-25 00:00:00.0,5793,PENDING_PAYMENT\n34,2013-07-25 00:00:00.0,4189,PROCESSING\n35,2013-07-25 00:00:00.0,4840,COMPLETE\n36,2013-07-25 00:00:00.0,5649,PENDING\n37,2013-07-25 00:00:00.0,5863,CLOSED\n38,2013-07-25 00:00:00.0,11586,PROCESSING\n39,2013-07-25 00:00:00.0,8214,PENDING\n40,2013-07-25 00:00:00.0,12092,PENDING_PAYMENT\n41,2013-07-25 00:00:00.0,8136,PENDING_PAYMENT\n42,2013-07-25 00:00:00.0,9776,PENDING\n43,2013-07-25 00:00:00.0,7776,PENDING_PAYMENT\n44,2013-07-25 00:00:00.0,10500,PENDING\n45,2013-07-25 00:00:00.0,2636,COMPLETE\n46,2013-07-25 00:00:00.0,1549,ON_HOLD\n47,2013-07-25 00:00:00.0,8487,PENDING_PAYMENT\n48,2013-07-25 00:00:00.0,12186,PROCESSING\n49,2013-07-25 00:00:00.0,1871,PENDING\n50,2013-07-25 00:00:00.0,5225,CANCELED\n51,2013-07-25 00:00:00.0,12271,CLOSED\n52,2013-07-25 00:00:00.0,5126,PENDING_PAYMENT\n53,2013-07-25 00:00:00.0,4701,PROCESSING\n54,2013-07-25 00:00:00.0,10628,PENDING_PAYMENT\n55,2013-07-25 00:00:00.0,2052,PENDING\n56,2013-07-25 00:00:00.0,10519,COMPLETE\n57,2013-07-25 00:00:00.0,7073,CLOSED\n58,2013-07-25 00:00:00.0,9213,PENDING_PAYMENT\n59,2013-07-25 00:00:00.0,11644,PENDING_PAYMENT\n60,2013-07-25 00:00:00.0,8365,PENDING_PAYMENT\n61,2013-07-25 00:00:00.0,4791,CLOSED\n62,2013-07-25 00:00:00.0,9111,CLOSED\n63,2013-07-25 00:00:00.0,1148,COMPLETE\n64,2013-07-25 00:00:00.0,5579,PENDING_PAYMENT\n65,2013-07-25 00:00:00.0,5903,COMPLETE\n66,2013-07-25 00:00:00.0,1792,ON_HOLD\n67,2013-07-25 00:00:00.0,1406,COMPLETE\n68,2013-07-25 00:00:00.0,4320,PENDING\n69,2013-07-25 00:00:00.0,2821,SUSPECTED_FRAUD\n70,2013-07-25 00:00:00.0,11809,PENDING_PAYMENT\n71,2013-07-25 00:00:00.0,8646,COMPLETE\n72,2013-07-25 00:00:00.0,4349,COMPLETE\n73,2013-07-25 00:00:00.0,8504,PENDING_PAYMENT\n74,2013-07-25 00:00:00.0,662,PENDING_PAYMENT\n75,2013-07-25 00:00:00.0,2505,PENDING_PAYMENT\n76,2013-07-25 00:00:00.0,6898,COMPLETE\n77,2013-07-25 00:00:00.0,7915,PENDING_PAYMENT\n78,2013-07-25 00:00:00.0,8619,PAYMENT_REVIEW\n79,2013-07-25 00:00:00.0,7327,PENDING_PAYMENT\n80,2013-07-25 00:00:00.0,3007,COMPLETE\n81,2013-07-25 00:00:00.0,674,PROCESSING\n82,2013-07-25 00:00:00.0,3566,PENDING_PAYMENT\n83,2013-07-25 00:00:00.0,1265,COMPLETE\n84,2013-07-25 00:00:00.0,6789,PROCESSING\n85,2013-07-25 00:00:00.0,1485,PENDING\n86,2013-07-25 00:00:00.0,6680,PENDING_PAYMENT\n87,2013-07-25 00:00:00.0,3065,CLOSED\n88,2013-07-25 00:00:00.0,3809,COMPLETE\n89,2013-07-25 00:00:00.0,824,ON_HOLD\n90,2013-07-25 00:00:00.0,9131,CLOSED\n91,2013-07-25 00:00:00.0,8912,COMPLETE\n92,2013-07-25 00:00:00.0,6932,COMPLETE\n93,2013-07-25 00:00:00.0,2256,PENDING_PAYMENT\n94,2013-07-25 00:00:00.0,11589,PROCESSING\n95,2013-07-25 00:00:00.0,9032,COMPLETE\n96,2013-07-25 00:00:00.0,8683,PENDING\n97,2013-07-25 00:00:00.0,10784,PENDING\n98,2013-07-25 00:00:00.0,5243,COMPLETE\n99,2013-07-25 00:00:00.0,11542,PENDING_PAYMENT\n100,2013-07-25 00:00:00.0,12131,PROCESSING\n101,2013-07-25 00:00:00.0,5116,CLOSED\n102,2013-07-25 00:00:00.0,8027,COMPLETE\n103,2013-07-25 00:00:00.0,12256,PROCESSING\n104,2013-07-25 00:00:00.0,7790,PENDING_PAYMENT\n105,2013-07-26 00:00:00.0,8220,COMPLETE\n106,2013-07-26 00:00:00.0,395,PROCESSING\n107,2013-07-26 00:00:00.0,1845,COMPLETE\n108,2013-07-26 00:00:00.0,12149,PROCESSING\n109,2013-07-26 00:00:00.0,9345,PENDING_PAYMENT\n110,2013-07-26 00:00:00.0,2746,COMPLETE\n111,2013-07-26 00:00:00.0,4271,PROCESSING\n112,2013-07-26 00:00:00.0,5375,CANCELED\n113,2013-07-26 00:00:00.0,10216,PENDING_PAYMENT\n114,2013-07-26 00:00:00.0,2091,COMPLETE\n115,2013-07-26 00:00:00.0,104,PROCESSING\n116,2013-07-26 00:00:00.0,8763,CLOSED\n117,2013-07-26 00:00:00.0,58,SUSPECTED_FRAUD\n118,2013-07-26 00:00:00.0,1737,COMPLETE\n119,2013-07-26 00:00:00.0,8124,PENDING_PAYMENT\n120,2013-07-26 00:00:00.0,356,PENDING_PAYMENT\n121,2013-07-26 00:00:00.0,2074,PENDING\n122,2013-07-26 00:00:00.0,2071,PROCESSING\n123,2013-07-26 00:00:00.0,3695,PENDING_PAYMENT\n124,2013-07-26 00:00:00.0,2374,COMPLETE\n125,2013-07-26 00:00:00.0,4611,PENDING_PAYMENT\n126,2013-07-26 00:00:00.0,610,COMPLETE\n127,2013-07-26 00:00:00.0,5261,PENDING_PAYMENT\n128,2013-07-26 00:00:00.0,2772,PENDING_PAYMENT\n129,2013-07-26 00:00:00.0,9937,CLOSED\n130,2013-07-26 00:00:00.0,7509,PENDING_PAYMENT\n131,2013-07-26 00:00:00.0,10072,PROCESSING\n132,2013-07-26 00:00:00.0,289,PENDING\n133,2013-07-26 00:00:00.0,10604,CLOSED\n134,2013-07-26 00:00:00.0,12081,PENDING_PAYMENT\n135,2013-07-26 00:00:00.0,7738,COMPLETE\n136,2013-07-26 00:00:00.0,9126,PENDING_PAYMENT\n137,2013-07-26 00:00:00.0,4211,COMPLETE\n138,2013-07-26 00:00:00.0,10904,PROCESSING\n139,2013-07-26 00:00:00.0,7933,COMPLETE\n140,2013-07-26 00:00:00.0,4257,PENDING_PAYMENT\n141,2013-07-26 00:00:00.0,12128,COMPLETE\n142,2013-07-26 00:00:00.0,5760,PENDING_PAYMENT\n143,2013-07-26 00:00:00.0,10495,COMPLETE\n144,2013-07-26 00:00:00.0,2158,PROCESSING\n145,2013-07-26 00:00:00.0,494,ON_HOLD\n146,2013-07-26 00:00:00.0,8177,COMPLETE\n147,2013-07-26 00:00:00.0,275,PENDING_PAYMENT\n148,2013-07-26 00:00:00.0,5383,PROCESSING\n149,2013-07-26 00:00:00.0,11431,COMPLETE\n150,2013-07-26 00:00:00.0,236,PROCESSING\n151,2013-07-26 00:00:00.0,2493,ON_HOLD\n152,2013-07-26 00:00:00.0,3611,COMPLETE\n153,2013-07-26 00:00:00.0,8876,COMPLETE\n154,2013-07-26 00:00:00.0,9993,ON_HOLD\n155,2013-07-26 00:00:00.0,9044,PENDING_PAYMENT\n156,2013-07-26 00:00:00.0,5200,ON_HOLD\n157,2013-07-26 00:00:00.0,8986,ON_HOLD\n158,2013-07-26 00:00:00.0,12345,PENDING\n159,2013-07-26 00:00:00.0,10974,PENDING_PAYMENT\n160,2013-07-26 00:00:00.0,6762,COMPLETE\n161,2013-07-26 00:00:00.0,4513,PENDING_PAYMENT\n162,2013-07-26 00:00:00.0,3304,PENDING_PAYMENT\n163,2013-07-26 00:00:00.0,3348,COMPLETE\n164,2013-07-26 00:00:00.0,2962,PROCESSING\n165,2013-07-26 00:00:00.0,1222,PENDING_PAYMENT\n166,2013-07-26 00:00:00.0,7834,PROCESSING\n167,2013-07-26 00:00:00.0,1347,PENDING\n168,2013-07-26 00:00:00.0,11794,PENDING_PAYMENT\n169,2013-07-26 00:00:00.0,2611,ON_HOLD\n170,2013-07-26 00:00:00.0,6295,PAYMENT_REVIEW\n171,2013-07-26 00:00:00.0,1980,COMPLETE\n172,2013-07-26 00:00:00.0,11382,COMPLETE\n173,2013-07-26 00:00:00.0,9027,ON_HOLD\n174,2013-07-26 00:00:00.0,3358,COMPLETE\n175,2013-07-26 00:00:00.0,384,COMPLETE\n176,2013-07-26 00:00:00.0,2897,PENDING_PAYMENT\n177,2013-07-26 00:00:00.0,9151,PENDING_PAYMENT\n178,2013-07-26 00:00:00.0,8503,COMPLETE\n179,2013-07-26 00:00:00.0,6506,COMPLETE\n180,2013-07-26 00:00:00.0,10215,ON_HOLD\n181,2013-07-26 00:00:00.0,7473,PENDING\n182,2013-07-26 00:00:00.0,10984,COMPLETE\n183,2013-07-26 00:00:00.0,12105,COMPLETE\n184,2013-07-26 00:00:00.0,210,COMPLETE\n185,2013-07-26 00:00:00.0,10966,PENDING_PAYMENT\n186,2013-07-26 00:00:00.0,1104,COMPLETE\n187,2013-07-26 00:00:00.0,1378,PAYMENT_REVIEW\n188,2013-07-26 00:00:00.0,2889,PENDING\n189,2013-07-26 00:00:00.0,10177,PENDING\n190,2013-07-26 00:00:00.0,11115,PENDING\n191,2013-07-26 00:00:00.0,16,CLOSED\n192,2013-07-26 00:00:00.0,5293,PROCESSING\n193,2013-07-26 00:00:00.0,6174,PROCESSING\n194,2013-07-26 00:00:00.0,2550,PENDING_PAYMENT\n195,2013-07-26 00:00:00.0,12096,PROCESSING\n196,2013-07-26 00:00:00.0,2765,PROCESSING\n197,2013-07-26 00:00:00.0,6370,PROCESSING\n198,2013-07-26 00:00:00.0,7436,PENDING_PAYMENT\n199,2013-07-26 00:00:00.0,4608,ON_HOLD\n200,2013-07-26 00:00:00.0,11116,PAYMENT_REVIEW\n201,2013-07-26 00:00:00.0,9055,CLOSED\n202,2013-07-26 00:00:00.0,8524,PENDING_PAYMENT\n203,2013-07-26 00:00:00.0,11791,PENDING_PAYMENT\n204,2013-07-26 00:00:00.0,7604,PENDING_PAYMENT\n205,2013-07-26 00:00:00.0,3109,PROCESSING\n206,2013-07-26 00:00:00.0,8994,PENDING\n207,2013-07-26 00:00:00.0,11643,COMPLETE\n208,2013-07-26 00:00:00.0,7923,PROCESSING\n209,2013-07-26 00:00:00.0,3627,PENDING\n210,2013-07-26 00:00:00.0,10102,COMPLETE\n211,2013-07-26 00:00:00.0,10372,CLOSED\n212,2013-07-26 00:00:00.0,3190,PENDING\n213,2013-07-26 00:00:00.0,11715,CLOSED\n214,2013-07-26 00:00:00.0,3925,COMPLETE\n215,2013-07-26 00:00:00.0,5925,CLOSED\n216,2013-07-26 00:00:00.0,7282,PENDING\n217,2013-07-26 00:00:00.0,5420,PROCESSING\n218,2013-07-26 00:00:00.0,3935,COMPLETE\n219,2013-07-26 00:00:00.0,10655,PROCESSING\n220,2013-07-26 00:00:00.0,1383,COMPLETE\n221,2013-07-26 00:00:00.0,11871,CLOSED\n222,2013-07-26 00:00:00.0,8309,CLOSED\n223,2013-07-26 00:00:00.0,9068,PENDING\n224,2013-07-26 00:00:00.0,11938,CLOSED\n225,2013-07-26 00:00:00.0,11275,COMPLETE\n226,2013-07-26 00:00:00.0,9356,PENDING_PAYMENT\n227,2013-07-26 00:00:00.0,7410,CLOSED\n228,2013-07-26 00:00:00.0,6070,ON_HOLD\n229,2013-07-26 00:00:00.0,618,PENDING\n230,2013-07-26 00:00:00.0,4921,PENDING_PAYMENT\n231,2013-07-26 00:00:00.0,3960,COMPLETE\n232,2013-07-26 00:00:00.0,1780,PENDING_PAYMENT\n233,2013-07-26 00:00:00.0,12316,COMPLETE\n234,2013-07-26 00:00:00.0,1010,ON_HOLD\n235,2013-07-26 00:00:00.0,4285,PENDING_PAYMENT\n236,2013-07-26 00:00:00.0,9785,COMPLETE\n237,2013-07-26 00:00:00.0,11438,PENDING_PAYMENT\n238,2013-07-26 00:00:00.0,4939,PENDING_PAYMENT\n239,2013-07-26 00:00:00.0,5058,COMPLETE\n240,2013-07-26 00:00:00.0,32,PENDING\n241,2013-07-26 00:00:00.0,948,CLOSED\n242,2013-07-26 00:00:00.0,3237,PAYMENT_REVIEW\n243,2013-07-26 00:00:00.0,32,ON_HOLD\n244,2013-07-26 00:00:00.0,6910,PENDING_PAYMENT\n245,2013-07-26 00:00:00.0,5191,CLOSED\n246,2013-07-26 00:00:00.0,9616,SUSPECTED_FRAUD\n247,2013-07-26 00:00:00.0,173,COMPLETE\n248,2013-07-26 00:00:00.0,11707,COMPLETE\n249,2013-07-26 00:00:00.0,7650,CLOSED\n250,2013-07-26 00:00:00.0,11668,COMPLETE\n251,2013-07-26 00:00:00.0,568,PENDING\n252,2013-07-26 00:00:00.0,9708,COMPLETE\n253,2013-07-26 00:00:00.0,45,COMPLETE\n254,2013-07-26 00:00:00.0,9395,COMPLETE\n255,2013-07-26 00:00:00.0,10346,COMPLETE\n256,2013-07-26 00:00:00.0,4199,CLOSED\n257,2013-07-26 00:00:00.0,3273,PROCESSING\n258,2013-07-26 00:00:00.0,1137,COMPLETE\n259,2013-07-26 00:00:00.0,3454,COMPLETE\n260,2013-07-26 00:00:00.0,5135,CLOSED\n261,2013-07-26 00:00:00.0,5128,COMPLETE\n262,2013-07-26 00:00:00.0,11475,CLOSED\n263,2013-07-26 00:00:00.0,8026,COMPLETE\n264,2013-07-26 00:00:00.0,230,COMPLETE\n265,2013-07-26 00:00:00.0,488,PENDING_PAYMENT\n266,2013-07-26 00:00:00.0,11085,COMPLETE\n267,2013-07-26 00:00:00.0,6989,CLOSED\n268,2013-07-26 00:00:00.0,5578,CLOSED\n269,2013-07-26 00:00:00.0,11887,PROCESSING\n270,2013-07-26 00:00:00.0,5689,COMPLETE\n271,2013-07-26 00:00:00.0,815,COMPLETE\n272,2013-07-26 00:00:00.0,428,CLOSED\n273,2013-07-26 00:00:00.0,10665,PENDING_PAYMENT\n274,2013-07-26 00:00:00.0,3365,PENDING\n275,2013-07-26 00:00:00.0,10942,PENDING_PAYMENT\n276,2013-07-26 00:00:00.0,2221,PENDING_PAYMENT\n277,2013-07-26 00:00:00.0,3732,PENDING\n278,2013-07-26 00:00:00.0,488,PAYMENT_REVIEW\n279,2013-07-26 00:00:00.0,10372,COMPLETE\n280,2013-07-26 00:00:00.0,11836,PENDING\n281,2013-07-26 00:00:00.0,827,PENDING_PAYMENT\n282,2013-07-26 00:00:00.0,3551,PENDING_PAYMENT\n283,2013-07-26 00:00:00.0,11466,COMPLETE\n284,2013-07-26 00:00:00.0,861,PROCESSING\n285,2013-07-26 00:00:00.0,5011,CLOSED\n286,2013-07-26 00:00:00.0,9824,ON_HOLD\n287,2013-07-26 00:00:00.0,8122,COMPLETE\n288,2013-07-26 00:00:00.0,8667,COMPLETE\n289,2013-07-26 00:00:00.0,1195,PENDING_PAYMENT\n290,2013-07-26 00:00:00.0,6446,COMPLETE\n291,2013-07-26 00:00:00.0,5506,PROCESSING\n292,2013-07-26 00:00:00.0,11971,PENDING_PAYMENT\n293,2013-07-26 00:00:00.0,4731,PROCESSING\n294,2013-07-26 00:00:00.0,11394,CLOSED\n295,2013-07-26 00:00:00.0,1937,PENDING\n296,2013-07-26 00:00:00.0,6665,COMPLETE\n297,2013-07-26 00:00:00.0,2281,PENDING\n298,2013-07-26 00:00:00.0,4967,COMPLETE\n299,2013-07-26 00:00:00.0,9202,PENDING_PAYMENT\n300,2013-07-26 00:00:00.0,11326,CLOSED\n301,2013-07-26 00:00:00.0,11999,COMPLETE\n302,2013-07-26 00:00:00.0,3577,COMPLETE\n303,2013-07-26 00:00:00.0,1682,PENDING_PAYMENT\n304,2013-07-26 00:00:00.0,1869,COMPLETE\n305,2013-07-26 00:00:00.0,5618,ON_HOLD\n306,2013-07-26 00:00:00.0,137,COMPLETE\n307,2013-07-26 00:00:00.0,8818,PENDING\n308,2013-07-26 00:00:00.0,6829,PENDING_PAYMENT\n309,2013-07-26 00:00:00.0,10396,COMPLETE\n310,2013-07-26 00:00:00.0,1256,COMPLETE\n311,2013-07-26 00:00:00.0,410,COMPLETE\n312,2013-07-26 00:00:00.0,1122,COMPLETE\n313,2013-07-26 00:00:00.0,7543,CLOSED\n314,2013-07-26 00:00:00.0,10033,PENDING_PAYMENT\n315,2013-07-26 00:00:00.0,4375,PENDING_PAYMENT\n316,2013-07-26 00:00:00.0,3870,PROCESSING\n317,2013-07-26 00:00:00.0,1450,COMPLETE\n318,2013-07-26 00:00:00.0,8829,PENDING_PAYMENT\n319,2013-07-26 00:00:00.0,10445,COMPLETE\n320,2013-07-26 00:00:00.0,10698,SUSPECTED_FRAUD\n321,2013-07-26 00:00:00.0,4282,ON_HOLD\n322,2013-07-26 00:00:00.0,2864,COMPLETE\n323,2013-07-26 00:00:00.0,3020,PENDING_PAYMENT\n324,2013-07-26 00:00:00.0,76,COMPLETE\n325,2013-07-26 00:00:00.0,4759,PENDING\n326,2013-07-26 00:00:00.0,1604,PENDING_PAYMENT\n327,2013-07-26 00:00:00.0,12107,PENDING\n328,2013-07-26 00:00:00.0,1149,COMPLETE\n329,2013-07-26 00:00:00.0,1944,SUSPECTED_FRAUD\n330,2013-07-26 00:00:00.0,5175,COMPLETE\n331,2013-07-26 00:00:00.0,4797,PENDING_PAYMENT\n332,2013-07-26 00:00:00.0,4171,COMPLETE\n333,2013-07-26 00:00:00.0,2071,PENDING_PAYMENT\n334,2013-07-26 00:00:00.0,3752,PENDING_PAYMENT\n335,2013-07-26 00:00:00.0,7710,PENDING\n336,2013-07-26 00:00:00.0,5479,PENDING\n337,2013-07-26 00:00:00.0,6747,COMPLETE\n338,2013-07-26 00:00:00.0,4666,COMPLETE\n339,2013-07-26 00:00:00.0,8326,PENDING\n340,2013-07-26 00:00:00.0,7995,PENDING_PAYMENT\n341,2013-07-26 00:00:00.0,10128,CLOSED\n342,2013-07-26 00:00:00.0,8809,ON_HOLD\n343,2013-07-26 00:00:00.0,10952,COMPLETE\n344,2013-07-26 00:00:00.0,2816,PENDING\n345,2013-07-26 00:00:00.0,11040,PROCESSING\n346,2013-07-26 00:00:00.0,3646,COMPLETE\n347,2013-07-27 00:00:00.0,11662,COMPLETE\n348,2013-07-27 00:00:00.0,12120,COMPLETE\n349,2013-07-27 00:00:00.0,9103,COMPLETE\n350,2013-07-27 00:00:00.0,10672,COMPLETE\n351,2013-07-27 00:00:00.0,12049,COMPLETE\n352,2013-07-27 00:00:00.0,1977,PENDING_PAYMENT\n353,2013-07-27 00:00:00.0,2234,PROCESSING\n354,2013-07-27 00:00:00.0,5862,PROCESSING\n355,2013-07-27 00:00:00.0,11682,PROCESSING\n356,2013-07-27 00:00:00.0,2209,PENDING\n357,2013-07-27 00:00:00.0,2685,COMPLETE\n358,2013-07-27 00:00:00.0,2979,PENDING\n359,2013-07-27 00:00:00.0,6020,PENDING_PAYMENT\n360,2013-07-27 00:00:00.0,8020,COMPLETE\n361,2013-07-27 00:00:00.0,8286,PROCESSING\n362,2013-07-27 00:00:00.0,10167,PROCESSING\n363,2013-07-27 00:00:00.0,3619,CLOSED\n364,2013-07-27 00:00:00.0,6035,PROCESSING\n365,2013-07-27 00:00:00.0,2400,PENDING_PAYMENT\n366,2013-07-27 00:00:00.0,4422,PENDING_PAYMENT\n367,2013-07-27 00:00:00.0,8730,PROCESSING\n368,2013-07-27 00:00:00.0,5783,COMPLETE\n369,2013-07-27 00:00:00.0,189,COMPLETE\n370,2013-07-27 00:00:00.0,4791,PENDING_PAYMENT\n371,2013-07-27 00:00:00.0,4428,PENDING_PAYMENT\n372,2013-07-27 00:00:00.0,776,COMPLETE\n373,2013-07-27 00:00:00.0,3630,PENDING\n374,2013-07-27 00:00:00.0,5906,PROCESSING\n375,2013-07-27 00:00:00.0,6561,PROCESSING\n376,2013-07-27 00:00:00.0,1369,PENDING\n377,2013-07-27 00:00:00.0,514,PROCESSING\n378,2013-07-27 00:00:00.0,10071,PENDING_PAYMENT\n379,2013-07-27 00:00:00.0,8735,PENDING_PAYMENT\n380,2013-07-27 00:00:00.0,9505,PENDING_PAYMENT\n381,2013-07-27 00:00:00.0,5756,ON_HOLD\n382,2013-07-27 00:00:00.0,8143,PROCESSING\n383,2013-07-27 00:00:00.0,10509,PENDING_PAYMENT\n384,2013-07-27 00:00:00.0,2610,CLOSED\n385,2013-07-27 00:00:00.0,10667,COMPLETE\n386,2013-07-27 00:00:00.0,3568,PENDING\n387,2013-07-27 00:00:00.0,7193,CLOSED\n388,2013-07-27 00:00:00.0,2790,COMPLETE\n389,2013-07-27 00:00:00.0,4435,COMPLETE\n390,2013-07-27 00:00:00.0,5590,PENDING\n391,2013-07-27 00:00:00.0,5816,PENDING_PAYMENT\n392,2013-07-27 00:00:00.0,3238,PENDING\n393,2013-07-27 00:00:00.0,1047,CLOSED\n394,2013-07-27 00:00:00.0,76,PENDING_PAYMENT\n395,2013-07-27 00:00:00.0,3934,COMPLETE\n396,2013-07-27 00:00:00.0,9078,PAYMENT_REVIEW\n397,2013-07-27 00:00:00.0,4476,CLOSED\n398,2013-07-27 00:00:00.0,1365,ON_HOLD\n399,2013-07-27 00:00:00.0,1473,PROCESSING\n400,2013-07-27 00:00:00.0,5626,PENDING\n401,2013-07-27 00:00:00.0,9692,PROCESSING\n402,2013-07-27 00:00:00.0,9547,PENDING_PAYMENT\n403,2013-07-27 00:00:00.0,4178,COMPLETE\n404,2013-07-27 00:00:00.0,1478,CLOSED\n405,2013-07-27 00:00:00.0,9498,COMPLETE\n406,2013-07-27 00:00:00.0,9023,COMPLETE\n407,2013-07-27 00:00:00.0,3333,PROCESSING\n408,2013-07-27 00:00:00.0,2252,PAYMENT_REVIEW\n409,2013-07-27 00:00:00.0,11102,PROCESSING\n410,2013-07-27 00:00:00.0,1288,PENDING\n411,2013-07-27 00:00:00.0,11164,SUSPECTED_FRAUD\n412,2013-07-27 00:00:00.0,9397,COMPLETE\n413,2013-07-27 00:00:00.0,7278,CLOSED\n414,2013-07-27 00:00:00.0,11776,PENDING\n415,2013-07-27 00:00:00.0,6110,CLOSED\n416,2013-07-27 00:00:00.0,1561,COMPLETE\n417,2013-07-27 00:00:00.0,11491,PENDING_PAYMENT\n418,2013-07-27 00:00:00.0,4269,COMPLETE\n419,2013-07-27 00:00:00.0,8987,PENDING_PAYMENT\n420,2013-07-27 00:00:00.0,4632,COMPLETE\n421,2013-07-27 00:00:00.0,7839,PENDING\n422,2013-07-27 00:00:00.0,9664,COMPLETE\n423,2013-07-27 00:00:00.0,9632,SUSPECTED_FRAUD\n424,2013-07-27 00:00:00.0,2457,PROCESSING\n425,2013-07-27 00:00:00.0,10481,PENDING_PAYMENT\n426,2013-07-27 00:00:00.0,10419,COMPLETE\n427,2013-07-27 00:00:00.0,6681,COMPLETE\n428,2013-07-27 00:00:00.0,3487,COMPLETE\n429,2013-07-27 00:00:00.0,8466,CLOSED\n430,2013-07-27 00:00:00.0,10779,PENDING_PAYMENT\n431,2013-07-27 00:00:00.0,4676,CLOSED\n432,2013-07-27 00:00:00.0,1197,COMPLETE\n433,2013-07-27 00:00:00.0,792,PROCESSING\n434,2013-07-27 00:00:00.0,11390,PENDING_PAYMENT\n435,2013-07-27 00:00:00.0,5719,CLOSED\n436,2013-07-27 00:00:00.0,7610,PROCESSING\n437,2013-07-27 00:00:00.0,5351,COMPLETE\n438,2013-07-27 00:00:00.0,8256,COMPLETE\n439,2013-07-27 00:00:00.0,9353,COMPLETE\n440,2013-07-27 00:00:00.0,7290,COMPLETE\n441,2013-07-27 00:00:00.0,5239,PENDING_PAYMENT\n442,2013-07-27 00:00:00.0,8098,COMPLETE\n443,2013-07-27 00:00:00.0,8499,CLOSED\n444,2013-07-27 00:00:00.0,10004,COMPLETE\n445,2013-07-27 00:00:00.0,3859,PENDING\n446,2013-07-27 00:00:00.0,7620,PENDING_PAYMENT\n447,2013-07-27 00:00:00.0,8737,CLOSED\n448,2013-07-27 00:00:00.0,7167,COMPLETE\n449,2013-07-27 00:00:00.0,409,CLOSED\n450,2013-07-27 00:00:00.0,5085,ON_HOLD\n451,2013-07-27 00:00:00.0,10104,PENDING\n452,2013-07-27 00:00:00.0,5128,COMPLETE\n453,2013-07-27 00:00:00.0,381,SUSPECTED_FRAUD\n454,2013-07-27 00:00:00.0,5933,PENDING_PAYMENT\n455,2013-07-27 00:00:00.0,6575,PENDING\n456,2013-07-27 00:00:00.0,11295,CLOSED\n457,2013-07-27 00:00:00.0,4036,PENDING_PAYMENT\n458,2013-07-27 00:00:00.0,5358,COMPLETE\n459,2013-07-27 00:00:00.0,3687,COMPLETE\n460,2013-07-27 00:00:00.0,2521,PENDING_PAYMENT\n461,2013-07-27 00:00:00.0,8398,CLOSED\n462,2013-07-27 00:00:00.0,5454,PROCESSING\n463,2013-07-27 00:00:00.0,8709,COMPLETE\n464,2013-07-27 00:00:00.0,7114,COMPLETE\n465,2013-07-27 00:00:00.0,1255,PENDING_PAYMENT\n466,2013-07-27 00:00:00.0,10943,CLOSED\n467,2013-07-27 00:00:00.0,1719,PENDING_PAYMENT\n468,2013-07-27 00:00:00.0,7305,COMPLETE\n469,2013-07-27 00:00:00.0,1731,PENDING\n470,2013-07-27 00:00:00.0,6410,PENDING_PAYMENT\n471,2013-07-27 00:00:00.0,10861,PENDING\n472,2013-07-27 00:00:00.0,8969,CLOSED\n473,2013-07-27 00:00:00.0,5359,COMPLETE\n474,2013-07-27 00:00:00.0,8349,PENDING_PAYMENT\n475,2013-07-27 00:00:00.0,4567,CLOSED\n476,2013-07-27 00:00:00.0,6020,PENDING_PAYMENT\n477,2013-07-27 00:00:00.0,8511,ON_HOLD\n478,2013-07-27 00:00:00.0,7657,COMPLETE\n479,2013-07-27 00:00:00.0,11138,COMPLETE\n480,2013-07-27 00:00:00.0,2902,PROCESSING\n481,2013-07-27 00:00:00.0,10633,PROCESSING\n482,2013-07-27 00:00:00.0,9156,ON_HOLD\n483,2013-07-27 00:00:00.0,12341,PROCESSING\n484,2013-07-27 00:00:00.0,2409,PENDING_PAYMENT\n485,2013-07-27 00:00:00.0,3976,PENDING_PAYMENT\n486,2013-07-27 00:00:00.0,1865,PROCESSING\n487,2013-07-27 00:00:00.0,5698,PROCESSING\n488,2013-07-27 00:00:00.0,10143,PENDING_PAYMENT\n489,2013-07-27 00:00:00.0,2030,PENDING_PAYMENT\n490,2013-07-27 00:00:00.0,9709,COMPLETE\n491,2013-07-27 00:00:00.0,3945,ON_HOLD\n492,2013-07-27 00:00:00.0,2499,PENDING_PAYMENT\n493,2013-07-27 00:00:00.0,1180,COMPLETE\n494,2013-07-27 00:00:00.0,8121,PENDING_PAYMENT\n495,2013-07-27 00:00:00.0,7242,COMPLETE\n496,2013-07-27 00:00:00.0,615,COMPLETE\n497,2013-07-27 00:00:00.0,846,COMPLETE\n498,2013-07-27 00:00:00.0,6828,PENDING_PAYMENT\n499,2013-07-27 00:00:00.0,8920,COMPLETE\n500,2013-07-27 00:00:00.0,2129,CLOSED\n501,2013-07-27 00:00:00.0,1987,CLOSED\n502,2013-07-27 00:00:00.0,7196,COMPLETE\n503,2013-07-27 00:00:00.0,6377,PENDING_PAYMENT\n504,2013-07-27 00:00:00.0,6288,COMPLETE\n505,2013-07-27 00:00:00.0,11952,PROCESSING\n506,2013-07-27 00:00:00.0,3509,PENDING\n507,2013-07-27 00:00:00.0,4730,PENDING_PAYMENT\n508,2013-07-27 00:00:00.0,6970,COMPLETE\n509,2013-07-27 00:00:00.0,10739,COMPLETE\n510,2013-07-28 00:00:00.0,7533,PENDING_PAYMENT\n511,2013-07-28 00:00:00.0,486,PROCESSING\n512,2013-07-28 00:00:00.0,12000,COMPLETE\n513,2013-07-28 00:00:00.0,10479,COMPLETE\n514,2013-07-28 00:00:00.0,10962,PENDING_PAYMENT\n515,2013-07-28 00:00:00.0,5921,PENDING_PAYMENT\n516,2013-07-28 00:00:00.0,9204,COMPLETE\n517,2013-07-28 00:00:00.0,1578,PROCESSING\n518,2013-07-28 00:00:00.0,5257,COMPLETE\n519,2013-07-28 00:00:00.0,4780,COMPLETE\n520,2013-07-28 00:00:00.0,8074,COMPLETE\n521,2013-07-28 00:00:00.0,6497,COMPLETE\n522,2013-07-28 00:00:00.0,12300,COMPLETE\n523,2013-07-28 00:00:00.0,4477,COMPLETE\n524,2013-07-28 00:00:00.0,7622,COMPLETE\n525,2013-07-28 00:00:00.0,10830,PENDING\n526,2013-07-28 00:00:00.0,7259,COMPLETE\n527,2013-07-28 00:00:00.0,5426,CANCELED\n528,2013-07-28 00:00:00.0,6147,PROCESSING\n529,2013-07-28 00:00:00.0,844,ON_HOLD\n530,2013-07-28 00:00:00.0,6224,PROCESSING\n531,2013-07-28 00:00:00.0,1950,PENDING_PAYMENT\n532,2013-07-28 00:00:00.0,6498,PENDING\n533,2013-07-28 00:00:00.0,6770,COMPLETE\n534,2013-07-28 00:00:00.0,6896,COMPLETE\n535,2013-07-28 00:00:00.0,66,COMPLETE\n536,2013-07-28 00:00:00.0,9981,ON_HOLD\n537,2013-07-28 00:00:00.0,10437,COMPLETE\n538,2013-07-28 00:00:00.0,4871,PROCESSING\n539,2013-07-28 00:00:00.0,7673,PENDING_PAYMENT\n540,2013-07-28 00:00:00.0,121,COMPLETE\n541,2013-07-28 00:00:00.0,4985,COMPLETE\n542,2013-07-28 00:00:00.0,597,CLOSED\n543,2013-07-28 00:00:00.0,7351,PENDING\n544,2013-07-28 00:00:00.0,281,PENDING_PAYMENT\n545,2013-07-28 00:00:00.0,11642,COMPLETE\n546,2013-07-28 00:00:00.0,7604,PROCESSING\n547,2013-07-28 00:00:00.0,7220,COMPLETE\n548,2013-07-28 00:00:00.0,6889,SUSPECTED_FRAUD\n549,2013-07-28 00:00:00.0,3834,PENDING\n550,2013-07-28 00:00:00.0,9666,PENDING_PAYMENT\n551,2013-07-28 00:00:00.0,2867,COMPLETE\n552,2013-07-28 00:00:00.0,1445,CANCELED\n553,2013-07-28 00:00:00.0,7307,COMPLETE\n554,2013-07-28 00:00:00.0,10980,PROCESSING\n555,2013-07-28 00:00:00.0,976,PENDING_PAYMENT\n556,2013-07-28 00:00:00.0,7838,COMPLETE\n557,2013-07-28 00:00:00.0,4855,COMPLETE\n558,2013-07-28 00:00:00.0,4562,COMPLETE\n559,2013-07-28 00:00:00.0,1944,ON_HOLD\n560,2013-07-28 00:00:00.0,744,ON_HOLD\n561,2013-07-28 00:00:00.0,6059,PENDING\n562,2013-07-28 00:00:00.0,5017,PENDING\n563,2013-07-28 00:00:00.0,3514,CLOSED\n564,2013-07-28 00:00:00.0,2216,CANCELED\n565,2013-07-28 00:00:00.0,3850,PENDING_PAYMENT\n566,2013-07-28 00:00:00.0,6335,CLOSED\n567,2013-07-28 00:00:00.0,9527,CLOSED\n568,2013-07-28 00:00:00.0,11790,PENDING\n569,2013-07-28 00:00:00.0,8532,CLOSED\n570,2013-07-28 00:00:00.0,4622,PENDING\n571,2013-07-28 00:00:00.0,5006,PENDING\n572,2013-07-28 00:00:00.0,6691,PENDING\n573,2013-07-28 00:00:00.0,5964,COMPLETE\n574,2013-07-28 00:00:00.0,7145,PROCESSING\n575,2013-07-28 00:00:00.0,2873,PROCESSING\n576,2013-07-28 00:00:00.0,7191,COMPLETE\n577,2013-07-28 00:00:00.0,457,CLOSED\n578,2013-07-28 00:00:00.0,2529,PENDING_PAYMENT\n579,2013-07-28 00:00:00.0,4137,PROCESSING\n580,2013-07-28 00:00:00.0,8677,SUSPECTED_FRAUD\n581,2013-07-28 00:00:00.0,3222,PROCESSING\n582,2013-07-28 00:00:00.0,6220,CLOSED\n583,2013-07-28 00:00:00.0,4695,PENDING\n584,2013-07-28 00:00:00.0,1263,PENDING_PAYMENT\n585,2013-07-28 00:00:00.0,8399,PENDING_PAYMENT\n586,2013-07-28 00:00:00.0,10225,PROCESSING\n587,2013-07-28 00:00:00.0,6008,SUSPECTED_FRAUD\n588,2013-07-28 00:00:00.0,6348,COMPLETE\n589,2013-07-28 00:00:00.0,5609,COMPLETE\n590,2013-07-28 00:00:00.0,132,PROCESSING\n591,2013-07-28 00:00:00.0,6431,COMPLETE\n592,2013-07-28 00:00:00.0,10862,CLOSED\n593,2013-07-28 00:00:00.0,6667,PENDING\n594,2013-07-28 00:00:00.0,1946,PENDING_PAYMENT\n595,2013-07-28 00:00:00.0,3531,PAYMENT_REVIEW\n596,2013-07-28 00:00:00.0,8352,PENDING_PAYMENT\n597,2013-07-28 00:00:00.0,11558,PENDING_PAYMENT\n598,2013-07-28 00:00:00.0,11344,PENDING_PAYMENT\n599,2013-07-28 00:00:00.0,8005,COMPLETE\n\n*** WARNING: skipped 15611 bytes of output ***\n\n974,2013-07-30 00:00:00.0,6413,CLOSED\n975,2013-07-30 00:00:00.0,638,PENDING_PAYMENT\n976,2013-07-30 00:00:00.0,1088,PENDING_PAYMENT\n977,2013-07-30 00:00:00.0,7817,COMPLETE\n978,2013-07-30 00:00:00.0,4130,PROCESSING\n979,2013-07-30 00:00:00.0,11323,COMPLETE\n980,2013-07-30 00:00:00.0,7473,PROCESSING\n981,2013-07-30 00:00:00.0,5411,COMPLETE\n982,2013-07-30 00:00:00.0,2873,SUSPECTED_FRAUD\n983,2013-07-30 00:00:00.0,9514,CLOSED\n984,2013-07-30 00:00:00.0,12350,ON_HOLD\n985,2013-07-30 00:00:00.0,5389,COMPLETE\n986,2013-07-30 00:00:00.0,7820,PROCESSING\n987,2013-07-30 00:00:00.0,7418,COMPLETE\n988,2013-07-30 00:00:00.0,2491,COMPLETE\n989,2013-07-30 00:00:00.0,370,PENDING\n990,2013-07-30 00:00:00.0,7254,COMPLETE\n991,2013-07-30 00:00:00.0,7317,PENDING_PAYMENT\n992,2013-07-30 00:00:00.0,7107,COMPLETE\n993,2013-07-30 00:00:00.0,5122,SUSPECTED_FRAUD\n994,2013-07-30 00:00:00.0,4979,PROCESSING\n995,2013-07-30 00:00:00.0,10907,COMPLETE\n996,2013-07-30 00:00:00.0,12221,CLOSED\n997,2013-07-30 00:00:00.0,8786,COMPLETE\n998,2013-07-30 00:00:00.0,1739,PENDING_PAYMENT\n999,2013-07-30 00:00:00.0,9358,PROCESSING\n1000,2013-07-30 00:00:00.0,2321,CLOSED\n1001,2013-07-30 00:00:00.0,6650,COMPLETE\n1002,2013-07-30 00:00:00.0,5170,SUSPECTED_FRAUD\n1003,2013-07-30 00:00:00.0,7438,COMPLETE\n1004,2013-07-30 00:00:00.0,10701,COMPLETE\n1005,2013-07-30 00:00:00.0,7958,PROCESSING\n1006,2013-07-30 00:00:00.0,9028,COMPLETE\n1007,2013-07-30 00:00:00.0,1417,PENDING_PAYMENT\n1008,2013-07-30 00:00:00.0,4331,CLOSED\n1009,2013-07-30 00:00:00.0,7886,COMPLETE\n1010,2013-07-30 00:00:00.0,2512,COMPLETE\n1011,2013-07-30 00:00:00.0,7214,COMPLETE\n1012,2013-07-30 00:00:00.0,3245,CLOSED\n1013,2013-07-30 00:00:00.0,1903,CANCELED\n1014,2013-07-30 00:00:00.0,12077,PROCESSING\n1015,2013-07-30 00:00:00.0,1136,PENDING_PAYMENT\n1016,2013-07-30 00:00:00.0,5231,PENDING_PAYMENT\n1017,2013-07-30 00:00:00.0,3781,PROCESSING\n1018,2013-07-30 00:00:00.0,19,COMPLETE\n1019,2013-07-30 00:00:00.0,4475,PENDING_PAYMENT\n1020,2013-07-30 00:00:00.0,4815,PENDING_PAYMENT\n1021,2013-07-30 00:00:00.0,10118,COMPLETE\n1022,2013-07-30 00:00:00.0,6491,CLOSED\n1023,2013-07-30 00:00:00.0,3817,PENDING\n1024,2013-07-30 00:00:00.0,3751,COMPLETE\n1025,2013-07-30 00:00:00.0,9474,PROCESSING\n1026,2013-07-30 00:00:00.0,800,COMPLETE\n1027,2013-07-30 00:00:00.0,11873,PROCESSING\n1028,2013-07-30 00:00:00.0,11150,PENDING\n1029,2013-07-30 00:00:00.0,2800,PENDING_PAYMENT\n1030,2013-07-30 00:00:00.0,11178,COMPLETE\n1031,2013-07-30 00:00:00.0,633,COMPLETE\n1032,2013-07-30 00:00:00.0,7246,COMPLETE\n1033,2013-07-30 00:00:00.0,6339,CLOSED\n1034,2013-07-30 00:00:00.0,4990,COMPLETE\n1035,2013-07-30 00:00:00.0,9117,COMPLETE\n1036,2013-07-30 00:00:00.0,2001,CLOSED\n1037,2013-07-30 00:00:00.0,1757,PENDING_PAYMENT\n1038,2013-07-30 00:00:00.0,5418,COMPLETE\n1039,2013-07-30 00:00:00.0,1558,COMPLETE\n1040,2013-07-30 00:00:00.0,5787,COMPLETE\n1041,2013-07-30 00:00:00.0,4975,CLOSED\n1042,2013-07-30 00:00:00.0,6041,PROCESSING\n1043,2013-07-30 00:00:00.0,9955,PENDING_PAYMENT\n1044,2013-07-30 00:00:00.0,2444,PENDING_PAYMENT\n1045,2013-07-30 00:00:00.0,9990,PENDING_PAYMENT\n1046,2013-07-30 00:00:00.0,11047,PENDING_PAYMENT\n1047,2013-07-30 00:00:00.0,2775,PENDING\n1048,2013-07-30 00:00:00.0,11869,PENDING_PAYMENT\n1049,2013-07-30 00:00:00.0,10742,PROCESSING\n1050,2013-07-30 00:00:00.0,3401,PENDING_PAYMENT\n1051,2013-07-30 00:00:00.0,6397,COMPLETE\n1052,2013-07-30 00:00:00.0,464,PROCESSING\n1053,2013-07-30 00:00:00.0,6393,PENDING_PAYMENT\n1054,2013-07-30 00:00:00.0,2795,PENDING_PAYMENT\n1055,2013-07-30 00:00:00.0,8971,COMPLETE\n1056,2013-07-30 00:00:00.0,11006,COMPLETE\n1057,2013-07-30 00:00:00.0,8378,PENDING\n1058,2013-07-30 00:00:00.0,1981,PENDING\n1059,2013-07-30 00:00:00.0,12148,PROCESSING\n1060,2013-07-30 00:00:00.0,12390,PENDING_PAYMENT\n1061,2013-07-30 00:00:00.0,1538,PENDING_PAYMENT\n1062,2013-07-30 00:00:00.0,9488,PROCESSING\n1063,2013-07-30 00:00:00.0,4868,SUSPECTED_FRAUD\n1064,2013-07-30 00:00:00.0,11267,CLOSED\n1065,2013-07-30 00:00:00.0,5774,PROCESSING\n1066,2013-07-30 00:00:00.0,11037,PENDING_PAYMENT\n1067,2013-07-30 00:00:00.0,5130,CLOSED\n1068,2013-07-30 00:00:00.0,12178,PENDING\n1069,2013-07-30 00:00:00.0,4683,SUSPECTED_FRAUD\n1070,2013-07-30 00:00:00.0,3888,PENDING\n1071,2013-07-30 00:00:00.0,8202,CLOSED\n1072,2013-07-30 00:00:00.0,11480,ON_HOLD\n1073,2013-07-30 00:00:00.0,780,PROCESSING\n1074,2013-07-30 00:00:00.0,3900,SUSPECTED_FRAUD\n1075,2013-07-30 00:00:00.0,2735,COMPLETE\n1076,2013-07-30 00:00:00.0,7320,COMPLETE\n1077,2013-07-31 00:00:00.0,8103,COMPLETE\n1078,2013-07-31 00:00:00.0,9303,CLOSED\n1079,2013-07-31 00:00:00.0,10348,PENDING_PAYMENT\n1080,2013-07-31 00:00:00.0,8212,PENDING\n1081,2013-07-31 00:00:00.0,2932,COMPLETE\n1082,2013-07-31 00:00:00.0,6078,PENDING_PAYMENT\n1083,2013-07-31 00:00:00.0,3957,SUSPECTED_FRAUD\n1084,2013-07-31 00:00:00.0,6607,PENDING_PAYMENT\n1085,2013-07-31 00:00:00.0,6318,PROCESSING\n1086,2013-07-31 00:00:00.0,7236,PROCESSING\n1087,2013-07-31 00:00:00.0,2613,CLOSED\n1088,2013-07-31 00:00:00.0,11139,PENDING_PAYMENT\n1089,2013-07-31 00:00:00.0,2298,PENDING_PAYMENT\n1090,2013-07-31 00:00:00.0,9940,PROCESSING\n1091,2013-07-31 00:00:00.0,7042,COMPLETE\n1092,2013-07-31 00:00:00.0,1372,PROCESSING\n1093,2013-07-31 00:00:00.0,9763,PENDING_PAYMENT\n1094,2013-07-31 00:00:00.0,6443,PENDING\n1095,2013-07-31 00:00:00.0,6590,PENDING_PAYMENT\n1096,2013-07-31 00:00:00.0,458,COMPLETE\n1097,2013-07-31 00:00:00.0,1030,COMPLETE\n1098,2013-07-31 00:00:00.0,11983,COMPLETE\n1099,2013-07-31 00:00:00.0,2653,COMPLETE\n1100,2013-07-31 00:00:00.0,2850,SUSPECTED_FRAUD\n1101,2013-07-31 00:00:00.0,11858,PENDING_PAYMENT\n1102,2013-07-31 00:00:00.0,1279,PROCESSING\n1103,2013-07-31 00:00:00.0,10519,PROCESSING\n1104,2013-07-31 00:00:00.0,10883,PENDING_PAYMENT\n1105,2013-07-31 00:00:00.0,9760,PROCESSING\n1106,2013-07-31 00:00:00.0,2106,COMPLETE\n1107,2013-07-31 00:00:00.0,3083,PROCESSING\n1108,2013-07-31 00:00:00.0,7700,PROCESSING\n1109,2013-07-31 00:00:00.0,10029,PENDING_PAYMENT\n1110,2013-07-31 00:00:00.0,4786,PENDING\n1111,2013-07-31 00:00:00.0,225,COMPLETE\n1112,2013-07-31 00:00:00.0,7877,COMPLETE\n1113,2013-07-31 00:00:00.0,6237,CLOSED\n1114,2013-07-31 00:00:00.0,1228,PENDING\n1115,2013-07-31 00:00:00.0,12113,PENDING_PAYMENT\n1116,2013-07-31 00:00:00.0,4383,PENDING_PAYMENT\n1117,2013-07-31 00:00:00.0,11352,SUSPECTED_FRAUD\n1118,2013-07-31 00:00:00.0,7903,PENDING_PAYMENT\n1119,2013-07-31 00:00:00.0,2267,COMPLETE\n1120,2013-07-31 00:00:00.0,6515,PENDING_PAYMENT\n1121,2013-07-31 00:00:00.0,423,PENDING_PAYMENT\n1122,2013-07-31 00:00:00.0,10235,PENDING\n1123,2013-07-31 00:00:00.0,2311,PENDING_PAYMENT\n1124,2013-07-31 00:00:00.0,3703,ON_HOLD\n1125,2013-07-31 00:00:00.0,7287,COMPLETE\n1126,2013-07-31 00:00:00.0,6649,COMPLETE\n1127,2013-07-31 00:00:00.0,1069,ON_HOLD\n1128,2013-07-31 00:00:00.0,1498,COMPLETE\n1129,2013-07-31 00:00:00.0,5367,PENDING_PAYMENT\n1130,2013-07-31 00:00:00.0,6983,PENDING\n1131,2013-07-31 00:00:00.0,5533,PROCESSING\n1132,2013-07-31 00:00:00.0,8386,COMPLETE\n1133,2013-07-31 00:00:00.0,5937,PROCESSING\n1134,2013-07-31 00:00:00.0,4181,COMPLETE\n1135,2013-07-31 00:00:00.0,5359,COMPLETE\n1136,2013-07-31 00:00:00.0,808,CLOSED\n1137,2013-07-31 00:00:00.0,9735,PROCESSING\n1138,2013-07-31 00:00:00.0,10777,COMPLETE\n1139,2013-07-31 00:00:00.0,3786,CLOSED\n1140,2013-07-31 00:00:00.0,1073,CLOSED\n1141,2013-07-31 00:00:00.0,11825,CLOSED\n1142,2013-07-31 00:00:00.0,10885,PENDING_PAYMENT\n1143,2013-07-31 00:00:00.0,9715,COMPLETE\n1144,2013-07-31 00:00:00.0,61,SUSPECTED_FRAUD\n1145,2013-07-31 00:00:00.0,3381,PENDING\n1146,2013-07-31 00:00:00.0,4044,COMPLETE\n1147,2013-07-31 00:00:00.0,5182,CLOSED\n1148,2013-07-31 00:00:00.0,6596,COMPLETE\n1149,2013-07-31 00:00:00.0,8767,COMPLETE\n1150,2013-07-31 00:00:00.0,2826,PENDING\n1151,2013-07-31 00:00:00.0,6022,PENDING_PAYMENT\n1152,2013-07-31 00:00:00.0,11725,PENDING_PAYMENT\n1153,2013-07-31 00:00:00.0,712,PENDING\n1154,2013-07-31 00:00:00.0,3554,COMPLETE\n1155,2013-07-31 00:00:00.0,12066,PENDING_PAYMENT\n1156,2013-07-31 00:00:00.0,4725,CLOSED\n1157,2013-07-31 00:00:00.0,7952,PENDING_PAYMENT\n1158,2013-07-31 00:00:00.0,7762,PAYMENT_REVIEW\n1159,2013-07-31 00:00:00.0,9619,ON_HOLD\n1160,2013-07-31 00:00:00.0,1498,CLOSED\n1161,2013-07-31 00:00:00.0,1657,PENDING_PAYMENT\n1162,2013-07-31 00:00:00.0,5195,COMPLETE\n1163,2013-07-31 00:00:00.0,965,COMPLETE\n1164,2013-07-31 00:00:00.0,7009,COMPLETE\n1165,2013-07-31 00:00:00.0,5885,COMPLETE\n1166,2013-07-31 00:00:00.0,8936,CLOSED\n1167,2013-07-31 00:00:00.0,1204,ON_HOLD\n1168,2013-07-31 00:00:00.0,61,PENDING_PAYMENT\n1169,2013-07-31 00:00:00.0,3971,CANCELED\n1170,2013-07-31 00:00:00.0,593,PENDING\n1171,2013-07-31 00:00:00.0,6798,PENDING_PAYMENT\n1172,2013-07-31 00:00:00.0,3137,PENDING\n1173,2013-07-31 00:00:00.0,5645,COMPLETE\n1174,2013-07-31 00:00:00.0,8290,COMPLETE\n1175,2013-07-31 00:00:00.0,1330,COMPLETE\n1176,2013-07-31 00:00:00.0,10952,COMPLETE\n1177,2013-07-31 00:00:00.0,9712,CLOSED\n1178,2013-07-31 00:00:00.0,10513,CLOSED\n1179,2013-07-31 00:00:00.0,3326,PENDING_PAYMENT\n1180,2013-07-31 00:00:00.0,7061,CLOSED\n1181,2013-07-31 00:00:00.0,5491,PENDING_PAYMENT\n1182,2013-07-31 00:00:00.0,6438,COMPLETE\n1183,2013-07-31 00:00:00.0,11732,PROCESSING\n1184,2013-07-31 00:00:00.0,5580,PENDING\n1185,2013-07-31 00:00:00.0,6153,CLOSED\n1186,2013-07-31 00:00:00.0,11947,CANCELED\n1187,2013-07-31 00:00:00.0,5813,ON_HOLD\n1188,2013-07-31 00:00:00.0,8957,COMPLETE\n1189,2013-07-31 00:00:00.0,10333,PENDING_PAYMENT\n1190,2013-07-31 00:00:00.0,12360,CANCELED\n1191,2013-07-31 00:00:00.0,3254,PENDING\n1192,2013-07-31 00:00:00.0,1402,PROCESSING\n1193,2013-07-31 00:00:00.0,10106,PENDING_PAYMENT\n1194,2013-07-31 00:00:00.0,12161,ON_HOLD\n1195,2013-07-31 00:00:00.0,7703,PENDING_PAYMENT\n1196,2013-07-31 00:00:00.0,2737,COMPLETE\n1197,2013-07-31 00:00:00.0,5003,COMPLETE\n1198,2013-07-31 00:00:00.0,182,PENDING\n1199,2013-07-31 00:00:00.0,244,PENDING_PAYMENT\n1200,2013-07-31 00:00:00.0,11994,COMPLETE\n1201,2013-07-31 00:00:00.0,6343,SUSPECTED_FRAUD\n1202,2013-07-31 00:00:00.0,883,CLOSED\n1203,2013-07-31 00:00:00.0,2447,COMPLETE\n1204,2013-07-31 00:00:00.0,731,PENDING_PAYMENT\n1205,2013-07-31 00:00:00.0,11907,COMPLETE\n1206,2013-07-31 00:00:00.0,6083,COMPLETE\n1207,2013-07-31 00:00:00.0,54,SUSPECTED_FRAUD\n1208,2013-07-31 00:00:00.0,12117,CLOSED\n1209,2013-07-31 00:00:00.0,2398,PENDING_PAYMENT\n1210,2013-07-31 00:00:00.0,6014,CLOSED\n1211,2013-07-31 00:00:00.0,10929,PENDING\n1212,2013-07-31 00:00:00.0,4100,PENDING\n1213,2013-07-31 00:00:00.0,9250,CLOSED\n1214,2013-07-31 00:00:00.0,7892,ON_HOLD\n1215,2013-07-31 00:00:00.0,2660,COMPLETE\n1216,2013-07-31 00:00:00.0,2846,ON_HOLD\n1217,2013-07-31 00:00:00.0,5328,COMPLETE\n1218,2013-07-31 00:00:00.0,4469,PENDING\n1219,2013-07-31 00:00:00.0,6728,PENDING_PAYMENT\n1220,2013-07-31 00:00:00.0,2944,ON_HOLD\n1221,2013-07-31 00:00:00.0,12032,PROCESSING\n1222,2013-07-31 00:00:00.0,6617,PENDING_PAYMENT\n1223,2013-07-31 00:00:00.0,7981,COMPLETE\n1224,2013-07-31 00:00:00.0,8781,PENDING_PAYMENT\n1225,2013-07-31 00:00:00.0,665,COMPLETE\n1226,2013-07-31 00:00:00.0,9643,COMPLETE\n1227,2013-07-31 00:00:00.0,8836,PENDING_PAYMENT\n1228,2013-07-31 00:00:00.0,10103,PENDING\n1229,2013-07-31 00:00:00.0,7822,PENDING_PAYMENT\n1230,2013-07-31 00:00:00.0,11855,COMPLETE\n1231,2013-07-31 00:00:00.0,987,PROCESSING\n1232,2013-07-31 00:00:00.0,11433,PENDING\n1233,2013-07-31 00:00:00.0,3184,ON_HOLD\n1234,2013-07-31 00:00:00.0,7639,PENDING\n1235,2013-07-31 00:00:00.0,11033,PENDING\n1236,2013-07-31 00:00:00.0,1835,CLOSED\n1237,2013-07-31 00:00:00.0,71,PENDING_PAYMENT\n1238,2013-07-31 00:00:00.0,2610,COMPLETE\n1239,2013-07-31 00:00:00.0,5397,PROCESSING\n1240,2013-07-31 00:00:00.0,749,COMPLETE\n1241,2013-07-31 00:00:00.0,7430,COMPLETE\n1242,2013-07-31 00:00:00.0,9807,PENDING_PAYMENT\n1243,2013-07-31 00:00:00.0,4434,PROCESSING\n1244,2013-07-31 00:00:00.0,10480,COMPLETE\n1245,2013-07-31 00:00:00.0,2686,PENDING_PAYMENT\n1246,2013-07-31 00:00:00.0,9098,COMPLETE\n1247,2013-07-31 00:00:00.0,10436,COMPLETE\n1248,2013-07-31 00:00:00.0,6952,PENDING_PAYMENT\n1249,2013-07-31 00:00:00.0,4014,PENDING_PAYMENT\n1250,2013-07-31 00:00:00.0,6845,COMPLETE\n1251,2013-07-31 00:00:00.0,11689,COMPLETE\n1252,2013-07-31 00:00:00.0,10504,PENDING\n1253,2013-07-31 00:00:00.0,5633,COMPLETE\n1254,2013-07-31 00:00:00.0,1729,COMPLETE\n1255,2013-07-31 00:00:00.0,8929,COMPLETE\n1256,2013-07-31 00:00:00.0,1834,PENDING_PAYMENT\n1257,2013-07-31 00:00:00.0,2255,PENDING\n1258,2013-07-31 00:00:00.0,7958,ON_HOLD\n1259,2013-07-31 00:00:00.0,2414,PENDING\n1260,2013-07-31 00:00:00.0,9123,PENDING\n1261,2013-07-31 00:00:00.0,11960,PROCESSING\n1262,2013-07-31 00:00:00.0,2972,COMPLETE\n1263,2013-07-31 00:00:00.0,1174,PROCESSING\n1264,2013-07-31 00:00:00.0,6474,PENDING_PAYMENT\n1265,2013-07-31 00:00:00.0,8982,COMPLETE\n1266,2013-07-31 00:00:00.0,10850,ON_HOLD\n1267,2013-07-31 00:00:00.0,1147,COMPLETE\n1268,2013-07-31 00:00:00.0,12018,ON_HOLD\n1269,2013-07-31 00:00:00.0,8069,COMPLETE\n1270,2013-07-31 00:00:00.0,6909,ON_HOLD\n1271,2013-07-31 00:00:00.0,10095,PROCESSING\n1272,2013-07-31 00:00:00.0,3127,PENDING_PAYMENT\n1273,2013-07-31 00:00:00.0,3322,COMPLETE\n1274,2013-07-31 00:00:00.0,5511,COMPLETE\n1275,2013-07-31 00:00:00.0,8091,CLOSED\n1276,2013-07-31 00:00:00.0,4202,PENDING_PAYMENT\n1277,2013-07-31 00:00:00.0,1939,COMPLETE\n1278,2013-07-31 00:00:00.0,3753,PENDING_PAYMENT\n1279,2013-07-31 00:00:00.0,4303,CLOSED\n1280,2013-07-31 00:00:00.0,5712,CLOSED\n1281,2013-07-31 00:00:00.0,10431,COMPLETE\n1282,2013-07-31 00:00:00.0,9392,PENDING_PAYMENT\n1283,2013-07-31 00:00:00.0,3951,CLOSED\n1284,2013-07-31 00:00:00.0,1750,ON_HOLD\n1285,2013-07-31 00:00:00.0,2543,PROCESSING\n1286,2013-07-31 00:00:00.0,8389,PENDING_PAYMENT\n1287,2013-07-31 00:00:00.0,2597,COMPLETE\n1288,2013-07-31 00:00:00.0,8482,PROCESSING\n1289,2013-07-31 00:00:00.0,11414,PROCESSING\n1290,2013-07-31 00:00:00.0,6742,PROCESSING\n1291,2013-07-31 00:00:00.0,704,COMPLETE\n1292,2013-07-31 00:00:00.0,11460,COMPLETE\n1293,2013-07-31 00:00:00.0,8351,PROCESSING\n1294,2013-07-31 00:00:00.0,7121,PENDING_PAYMENT\n1295,2013-07-31 00:00:00.0,611,CLOSED\n1296,2013-07-31 00:00:00.0,589,CLOSED\n1297,2013-08-01 00:00:00.0,11607,COMPLETE\n1298,2013-08-01 00:00:00.0,5105,CLOSED\n1299,2013-08-01 00:00:00.0,7802,COMPLETE\n1300,2013-08-01 00:00:00.0,553,PENDING_PAYMENT\n1301,2013-08-01 00:00:00.0,1604,PENDING_PAYMENT\n1302,2013-08-01 00:00:00.0,1695,COMPLETE\n1303,2013-08-01 00:00:00.0,7018,PROCESSING\n1304,2013-08-01 00:00:00.0,2059,COMPLETE\n1305,2013-08-01 00:00:00.0,3844,COMPLETE\n1306,2013-08-01 00:00:00.0,11672,PENDING_PAYMENT\n1307,2013-08-01 00:00:00.0,4474,COMPLETE\n1308,2013-08-01 00:00:00.0,11645,PENDING\n1309,2013-08-01 00:00:00.0,2367,CLOSED\n1310,2013-08-01 00:00:00.0,5602,PENDING\n1311,2013-08-01 00:00:00.0,5396,PENDING_PAYMENT\n1312,2013-08-01 00:00:00.0,12291,COMPLETE\n1313,2013-08-01 00:00:00.0,3471,CANCELED\n1314,2013-08-01 00:00:00.0,10993,COMPLETE\n1315,2013-08-01 00:00:00.0,5660,COMPLETE\n1316,2013-08-01 00:00:00.0,6376,PENDING_PAYMENT\n1317,2013-08-01 00:00:00.0,5467,PENDING\n1318,2013-08-01 00:00:00.0,4212,COMPLETE\n1319,2013-08-01 00:00:00.0,3966,COMPLETE\n1320,2013-08-01 00:00:00.0,12270,COMPLETE\n1321,2013-08-01 00:00:00.0,800,COMPLETE\n1322,2013-08-01 00:00:00.0,9264,COMPLETE\n1323,2013-08-01 00:00:00.0,7422,COMPLETE\n1324,2013-08-01 00:00:00.0,4600,COMPLETE\n1325,2013-08-01 00:00:00.0,10425,PENDING\n1326,2013-08-01 00:00:00.0,10811,PENDING_PAYMENT\n1327,2013-08-01 00:00:00.0,9526,COMPLETE\n1328,2013-08-01 00:00:00.0,2844,PENDING\n1329,2013-08-01 00:00:00.0,6070,CLOSED\n1330,2013-08-01 00:00:00.0,4624,COMPLETE\n1331,2013-08-01 00:00:00.0,1426,PENDING_PAYMENT\n1332,2013-08-01 00:00:00.0,2715,PROCESSING\n1333,2013-08-01 00:00:00.0,905,COMPLETE\n1334,2013-08-01 00:00:00.0,4016,PENDING\n1335,2013-08-01 00:00:00.0,5762,COMPLETE\n1336,2013-08-01 00:00:00.0,5627,SUSPECTED_FRAUD\n1337,2013-08-01 00:00:00.0,3561,COMPLETE\n1338,2013-08-01 00:00:00.0,2094,COMPLETE\n1339,2013-08-01 00:00:00.0,2696,PENDING\n1340,2013-08-01 00:00:00.0,5148,PENDING_PAYMENT\n1341,2013-08-01 00:00:00.0,3119,COMPLETE\n1342,2013-08-01 00:00:00.0,8350,COMPLETE\n1343,2013-08-01 00:00:00.0,8470,PENDING\n1344,2013-08-01 00:00:00.0,1867,PAYMENT_REVIEW\n1345,2013-08-01 00:00:00.0,7729,COMPLETE\n1346,2013-08-01 00:00:00.0,2090,PENDING_PAYMENT\n1347,2013-08-01 00:00:00.0,10007,PROCESSING\n1348,2013-08-01 00:00:00.0,2359,PENDING_PAYMENT\n1349,2013-08-01 00:00:00.0,11918,PENDING\n1350,2013-08-01 00:00:00.0,7006,COMPLETE\n1351,2013-08-01 00:00:00.0,9452,PROCESSING\n1352,2013-08-01 00:00:00.0,4473,PENDING\n1353,2013-08-01 00:00:00.0,1727,COMPLETE\n1354,2013-08-01 00:00:00.0,8294,PENDING_PAYMENT\n1355,2013-08-01 00:00:00.0,11218,PENDING\n1356,2013-08-01 00:00:00.0,8984,PENDING_PAYMENT\n1357,2013-08-01 00:00:00.0,5088,COMPLETE\n1358,2013-08-01 00:00:00.0,4041,ON_HOLD\n1359,2013-08-01 00:00:00.0,4435,CLOSED\n1360,2013-08-01 00:00:00.0,9009,PENDING_PAYMENT\n1361,2013-08-01 00:00:00.0,12308,PENDING_PAYMENT\n1362,2013-08-01 00:00:00.0,5661,COMPLETE\n1363,2013-08-01 00:00:00.0,12251,PENDING\n1364,2013-08-01 00:00:00.0,3192,PENDING_PAYMENT\n1365,2013-08-01 00:00:00.0,8567,CANCELED\n1366,2013-08-01 00:00:00.0,1115,PENDING\n1367,2013-08-01 00:00:00.0,2703,COMPLETE\n1368,2013-08-01 00:00:00.0,1269,PENDING\n1369,2013-08-01 00:00:00.0,9729,PROCESSING\n1370,2013-08-01 00:00:00.0,9223,COMPLETE\n1371,2013-08-01 00:00:00.0,4799,CLOSED\n1372,2013-08-01 00:00:00.0,5821,PENDING\n1373,2013-08-01 00:00:00.0,10611,PROCESSING\n1374,2013-08-01 00:00:00.0,2484,CLOSED\n1375,2013-08-01 00:00:00.0,4914,PROCESSING\n1376,2013-08-01 00:00:00.0,11063,PENDING_PAYMENT\n1377,2013-08-01 00:00:00.0,5418,COMPLETE\n1378,2013-08-01 00:00:00.0,3410,PROCESSING\n1379,2013-08-01 00:00:00.0,696,CLOSED\n1380,2013-08-01 00:00:00.0,11195,PROCESSING\n1381,2013-08-01 00:00:00.0,6643,PENDING_PAYMENT\n1382,2013-08-01 00:00:00.0,9151,COMPLETE\n1383,2013-08-01 00:00:00.0,1753,CANCELED\n1384,2013-08-01 00:00:00.0,10281,PENDING\n1385,2013-08-01 00:00:00.0,12198,PENDING_PAYMENT\n1386,2013-08-01 00:00:00.0,11310,PROCESSING\n1387,2013-08-01 00:00:00.0,7547,PENDING_PAYMENT\n1388,2013-08-01 00:00:00.0,12046,PENDING\n1389,2013-08-01 00:00:00.0,10371,CLOSED\n1390,2013-08-01 00:00:00.0,8964,COMPLETE\n1391,2013-08-01 00:00:00.0,5994,PENDING_PAYMENT\n1392,2013-08-01 00:00:00.0,7102,COMPLETE\n1393,2013-08-01 00:00:00.0,3420,PENDING\n1394,2013-08-01 00:00:00.0,6857,PENDING_PAYMENT\n1395,2013-08-01 00:00:00.0,3147,ON_HOLD\n1396,2013-08-01 00:00:00.0,8915,PENDING_PAYMENT\n1397,2013-08-01 00:00:00.0,11571,ON_HOLD\n1398,2013-08-01 00:00:00.0,1523,SUSPECTED_FRAUD\n1399,2013-08-01 00:00:00.0,9691,PENDING\n1400,2013-08-01 00:00:00.0,478,COMPLETE\n1401,2013-08-01 00:00:00.0,267,CLOSED\n1402,2013-08-01 00:00:00.0,5394,PENDING_PAYMENT\n1403,2013-08-01 00:00:00.0,12379,ON_HOLD\n1404,2013-08-01 00:00:00.0,8986,PENDING\n1405,2013-08-01 00:00:00.0,8627,COMPLETE\n1406,2013-08-01 00:00:00.0,2370,PENDING\n1407,2013-08-01 00:00:00.0,4900,COMPLETE\n1408,2013-08-01 00:00:00.0,6819,CLOSED\n1409,2013-08-01 00:00:00.0,1905,PENDING_PAYMENT\n1410,2013-08-01 00:00:00.0,5928,COMPLETE\n1411,2013-08-01 00:00:00.0,1383,PENDING\n1412,2013-08-01 00:00:00.0,3656,SUSPECTED_FRAUD\n1413,2013-08-01 00:00:00.0,10678,PENDING\n1414,2013-08-01 00:00:00.0,9072,PENDING\n1415,2013-08-01 00:00:00.0,109,SUSPECTED_FRAUD\n1416,2013-08-01 00:00:00.0,5806,PENDING_PAYMENT\n1417,2013-08-01 00:00:00.0,5676,PENDING\n1418,2013-08-01 00:00:00.0,7595,CLOSED\n1419,2013-08-01 00:00:00.0,6779,PROCESSING\n1420,2013-08-01 00:00:00.0,7013,PENDING\n1421,2013-08-01 00:00:00.0,5358,PENDING\n1422,2013-08-01 00:00:00.0,8406,COMPLETE\n1423,2013-08-01 00:00:00.0,12116,PROCESSING\n1424,2013-08-01 00:00:00.0,5763,COMPLETE\n1425,2013-08-01 00:00:00.0,9259,PENDING\n1426,2013-08-01 00:00:00.0,4200,PENDING\n1427,2013-08-01 00:00:00.0,4795,COMPLETE\n1428,2013-08-01 00:00:00.0,1932,PROCESSING\n1429,2013-08-01 00:00:00.0,5109,ON_HOLD\n1430,2013-08-01 00:00:00.0,5241,COMPLETE\n1431,2013-08-01 00:00:00.0,11358,CLOSED\n1432,2013-08-01 00:00:00.0,3730,COMPLETE\n1433,2013-08-01 00:00:00.0,174,PENDING\n1434,2013-08-01 00:00:00.0,6607,COMPLETE\n1435,2013-08-01 00:00:00.0,1879,CANCELED\n1436,2013-08-01 00:00:00.0,10608,PENDING_PAYMENT\n1437,2013-08-01 00:00:00.0,9507,PENDING\n1438,2013-08-01 00:00:00.0,1523,PROCESSING\n1439,2013-08-01 00:00:00.0,11719,COMPLETE\n1440,2013-08-01 00:00:00.0,9310,COMPLETE\n1441,2013-08-01 00:00:00.0,9350,PENDING_PAYMENT\n1442,2013-08-01 00:00:00.0,7646,PENDING_PAYMENT\n1443,2013-08-01 00:00:00.0,9490,PENDING\n1444,2013-08-01 00:00:00.0,8302,COMPLETE\n1445,2013-08-01 00:00:00.0,2182,COMPLETE\n1446,2013-08-01 00:00:00.0,9102,COMPLETE\n1447,2013-08-01 00:00:00.0,10324,PENDING\n1448,2013-08-01 00:00:00.0,1454,PENDING\n1449,2013-08-01 00:00:00.0,10783,COMPLETE\n1450,2013-08-01 00:00:00.0,9151,PENDING_PAYMENT\n1451,2013-08-01 00:00:00.0,2798,PENDING_PAYMENT\n1452,2013-08-01 00:00:00.0,4953,COMPLETE\n1453,2013-08-01 00:00:00.0,4040,CLOSED\n1454,2013-08-01 00:00:00.0,1108,CLOSED\n1455,2013-08-01 00:00:00.0,4875,ON_HOLD\n1456,2013-08-01 00:00:00.0,10194,PENDING_PAYMENT\n1457,2013-08-01 00:00:00.0,9657,PENDING\n1458,2013-08-01 00:00:00.0,3890,PENDING_PAYMENT\n1459,2013-08-01 00:00:00.0,6756,PENDING_PAYMENT\n1460,2013-08-01 00:00:00.0,1089,PENDING\n1461,2013-08-01 00:00:00.0,9702,CLOSED\n1462,2013-08-01 00:00:00.0,3592,COMPLETE\n1463,2013-08-01 00:00:00.0,9735,ON_HOLD\n1464,2013-08-01 00:00:00.0,7510,COMPLETE\n1465,2013-08-01 00:00:00.0,7634,PROCESSING\n1466,2013-08-01 00:00:00.0,7054,COMPLETE\n1467,2013-08-01 00:00:00.0,1449,CLOSED\n1468,2013-08-01 00:00:00.0,6622,CLOSED\n1469,2013-08-01 00:00:00.0,6087,PENDING_PAYMENT\n1470,2013-08-01 00:00:00.0,2802,CLOSED\n1471,2013-08-01 00:00:00.0,6418,PENDING\n1472,2013-08-01 00:00:00.0,2394,COMPLETE\n1473,2013-08-01 00:00:00.0,10933,PENDING\n1474,2013-08-01 00:00:00.0,10365,COMPLETE\n1475,2013-08-01 00:00:00.0,5235,PENDING_PAYMENT\n1476,2013-08-01 00:00:00.0,8560,PENDING_PAYMENT\n1477,2013-08-01 00:00:00.0,12101,CLOSED\n1478,2013-08-01 00:00:00.0,12136,PENDING_PAYMENT\n1479,2013-08-01 00:00:00.0,3752,PENDING\n1480,2013-08-01 00:00:00.0,3159,PROCESSING\n1481,2013-08-01 00:00:00.0,5953,COMPLETE\n1482,2013-08-01 00:00:00.0,8110,PENDING\n1483,2013-08-01 00:00:00.0,9307,COMPLETE\n1484,2013-08-01 00:00:00.0,10601,COMPLETE\n1485,2013-08-01 00:00:00.0,10870,PENDING_PAYMENT\n1486,2013-08-01 00:00:00.0,11106,PENDING_PAYMENT\n1487,2013-08-01 00:00:00.0,3880,PENDING_PAYMENT\n1488,2013-08-01 00:00:00.0,12000,PENDING_PAYMENT\n1489,2013-08-01 00:00:00.0,2550,COMPLETE\n1490,2013-08-01 00:00:00.0,5067,COMPLETE\n1491,2013-08-01 00:00:00.0,10029,COMPLETE\n1492,2013-08-01 00:00:00.0,6847,SUSPECTED_FRAUD\n1493,2013-08-01 00:00:00.0,11956,PROCESSING\n1494,2013-08-01 00:00:00.0,6458,PENDING_PAYMENT\n1495,2013-08-01 00:00:00.0,847,SUSPECTED_FRAUD\n1496,2013-08-01 00:00:00.0,5858,PENDING_PAYMENT\n1497,2013-08-01 00:00:00.0,7193,CANCELED\n1498,2013-08-01 00:00:00.0,9093,PENDING_PAYMENT\n1499,2013-08-01 00:00:00.0,8330,PENDING\n1500,2013-08-01 00:00:00.0,692,CLOSED\n1501,2013-08-01 00:00:00.0,4787,COMPLETE\n1502,2013-08-01 00:00:00.0,6236,PENDING_PAYMENT\n1503,2013-08-01 00:00:00.0,3309,PENDING\n1504,2013-08-01 00:00:00.0,8961,CLOSED\n1505,2013-08-01 00:00:00.0,7795,COMPLETE\n1506,2013-08-01 00:00:00.0,8566,PROCESSING\n1507,2013-08-01 00:00:00.0,4062,PROCESSING\n1508,2013-08-01 00:00:00.0,6622,ON_HOLD\n1509,2013-08-01 00:00:00.0,11060,SUSPECTED_FRAUD\n1510,2013-08-01 00:00:00.0,12249,PENDING_PAYMENT\n1511,2013-08-01 00:00:00.0,9326,PENDING_PAYMENT\n1512,2013-08-01 00:00:00.0,11560,PROCESSING\n1513,2013-08-01 00:00:00.0,11399,PENDING_PAYMENT\n1514,2013-08-01 00:00:00.0,7273,PENDING_PAYMENT\n1515,2013-08-01 00:00:00.0,12346,COMPLETE\n1516,2013-08-01 00:00:00.0,8604,PENDING_PAYMENT\n1517,2013-08-01 00:00:00.0,10515,PROCESSING\n1518,2013-08-01 00:00:00.0,4739,ON_HOLD\n1519,2013-08-01 00:00:00.0,5190,COMPLETE\n1520,2013-08-01 00:00:00.0,12309,COMPLETE\n1521,2013-08-01 00:00:00.0,11622,COMPLETE\n1522,2013-08-01 00:00:00.0,5713,COMPLETE\n1523,2013-08-01 00:00:00.0,8256,PROCESSING\n1524,2013-08-01 00:00:00.0,1507,COMPLETE\n1525,2013-08-01 00:00:00.0,6592,COMPLETE\n1526,2013-08-01 00:00:00.0,1908,PENDING_PAYMENT\n1527,2013-08-01 00:00:00.0,7668,PENDING_PAYMENT\n1528,2013-08-01 00:00:00.0,8949,PENDING\n1529,2013-08-01 00:00:00.0,34,ON_HOLD\n1530,2013-08-01 00:00:00.0,1032,COMPLETE\n1531,2013-08-02 00:00:00.0,8731,COMPLETE\n1532,2013-08-02 00:00:00.0,4646,COMPLETE\n1533,2013-08-02 00:00:00.0,7249,PENDING_PAYMENT\n1534,2013-08-02 00:00:00.0,10942,PAYMENT_REVIEW\n1535,2013-08-02 00:00:00.0,2129,COMPLETE\n1536,2013-08-02 00:00:00.0,4384,PENDING_PAYMENT\n1537,2013-08-02 00:00:00.0,8013,COMPLETE\n1538,2013-08-02 00:00:00.0,4172,SUSPECTED_FRAUD\n1539,2013-08-02 00:00:00.0,10719,PENDING\n1540,2013-08-02 00:00:00.0,3244,PAYMENT_REVIEW\n1541,2013-08-02 00:00:00.0,8024,COMPLETE\n1542,2013-08-02 00:00:00.0,7260,PENDING\n1543,2013-08-02 00:00:00.0,12171,PENDING\n1544,2013-08-02 00:00:00.0,9220,PROCESSING\n1545,2013-08-02 00:00:00.0,5657,PENDING_PAYMENT\n1546,2013-08-02 00:00:00.0,797,PENDING_PAYMENT\n1547,2013-08-02 00:00:00.0,9462,COMPLETE\n1548,2013-08-02 00:00:00.0,1556,CLOSED\n1549,2013-08-02 00:00:00.0,12142,COMPLETE\n1550,2013-08-02 00:00:00.0,3043,PENDING_PAYMENT\n1551,2013-08-02 00:00:00.0,7264,PENDING_PAYMENT\n1552,2013-08-02 00:00:00.0,7614,PENDING\n1553,2013-08-02 00:00:00.0,10491,PENDING_PAYMENT\n1554,2013-08-02 00:00:00.0,11728,PENDING_PAYMENT\n1555,2013-08-02 00:00:00.0,1831,COMPLETE\n1556,2013-08-02 00:00:00.0,6739,PENDING_PAYMENT\n1557,2013-08-02 00:00:00.0,18\n</div>",
       "datasetInfos": [],
       "metadata": {},
       "removedWidgets": [],
       "type": "html"
      }
     },
     "output_type": "display_data"
    }
   ],
   "source": [
    "%fs head /FileStore/tables/part_00000-1"
   ]
  },
  {
   "cell_type": "code",
   "execution_count": 0,
   "metadata": {
    "application/vnd.databricks.v1+cell": {
     "cellMetadata": {
      "byteLimit": 2048000,
      "rowLimit": 10000
     },
     "inputWidgets": {},
     "nuid": "ae297fad-9af5-4eeb-8958-b79e57980cc7",
     "showTitle": false,
     "title": ""
    }
   },
   "outputs": [],
   "source": [
    "order_schema = \"order_id int, order_date date, order_customer_id int, order_status string\""
   ]
  },
  {
   "cell_type": "code",
   "execution_count": 0,
   "metadata": {
    "application/vnd.databricks.v1+cell": {
     "cellMetadata": {
      "byteLimit": 2048000,
      "rowLimit": 10000
     },
     "inputWidgets": {},
     "nuid": "8371668c-74fb-45a7-87c1-c083c291a3fc",
     "showTitle": false,
     "title": ""
    }
   },
   "outputs": [
    {
     "output_type": "stream",
     "name": "stdout",
     "output_type": "stream",
     "text": [
      "+--------+----------+-----------------+---------------+\n|order_id|order_date|order_customer_id|   order_status|\n+--------+----------+-----------------+---------------+\n|       1|2013-07-25|            11599|         CLOSED|\n|       2|2013-07-25|              256|PENDING_PAYMENT|\n|       3|2013-07-25|            12111|       COMPLETE|\n|       4|2013-07-25|             8827|         CLOSED|\n|       5|2013-07-25|            11318|       COMPLETE|\n|       6|2013-07-25|             7130|       COMPLETE|\n|       7|2013-07-25|             4530|       COMPLETE|\n|       8|2013-07-25|             2911|     PROCESSING|\n|       9|2013-07-25|             5657|PENDING_PAYMENT|\n|      10|2013-07-25|             5648|PENDING_PAYMENT|\n|      11|2013-07-25|              918| PAYMENT_REVIEW|\n|      12|2013-07-25|             1837|         CLOSED|\n|      13|2013-07-25|             9149|PENDING_PAYMENT|\n|      14|2013-07-25|             9842|     PROCESSING|\n|      15|2013-07-25|             2568|       COMPLETE|\n|      16|2013-07-25|             7276|PENDING_PAYMENT|\n|      17|2013-07-25|             2667|       COMPLETE|\n|      18|2013-07-25|             1205|         CLOSED|\n|      19|2013-07-25|             9488|PENDING_PAYMENT|\n|      20|2013-07-25|             9198|     PROCESSING|\n+--------+----------+-----------------+---------------+\nonly showing top 20 rows\n\n"
     ]
    }
   ],
   "source": [
    "orders_df = (spark.read\n",
    "             .format(\"csv\")\n",
    "             .schema(order_schema)\n",
    "             .load(\"/FileStore/tables/part_00000-1\")\n",
    "             \n",
    "             .toDF(\"order_id\",\"order_date\",\"order_customer_id\",\"order_status\"))\n",
    "\n",
    "orders_df.show()"
   ]
  },
  {
   "cell_type": "code",
   "execution_count": 0,
   "metadata": {
    "application/vnd.databricks.v1+cell": {
     "cellMetadata": {
      "byteLimit": 2048000,
      "rowLimit": 10000
     },
     "inputWidgets": {},
     "nuid": "9a6cee13-dcf8-4334-aa76-acf2bd36b6b1",
     "showTitle": false,
     "title": ""
    }
   },
   "outputs": [
    {
     "output_type": "stream",
     "name": "stdout",
     "output_type": "stream",
     "text": [
      "root\n |-- order_id: integer (nullable = true)\n |-- order_date: date (nullable = true)\n |-- order_customer_id: integer (nullable = true)\n |-- order_status: string (nullable = true)\n\n"
     ]
    }
   ],
   "source": [
    "orders_df.printSchema()"
   ]
  },
  {
   "cell_type": "code",
   "execution_count": 0,
   "metadata": {
    "application/vnd.databricks.v1+cell": {
     "cellMetadata": {},
     "inputWidgets": {},
     "nuid": "2f2df890-7bd9-45df-8f32-f4bcb0c1403b",
     "showTitle": false,
     "title": ""
    }
   },
   "outputs": [],
   "source": []
  }
 ],
 "metadata": {
  "application/vnd.databricks.v1+notebook": {
   "dashboards": [],
   "language": "python",
   "notebookMetadata": {
    "mostRecentlyExecutedCommandWithImplicitDF": {
     "commandId": 1609009967730201,
     "dataframes": [
      "_sqldf"
     ]
    },
    "pythonIndentUnit": 4
   },
   "notebookName": "Spark DF Operations 2",
   "widgets": {}
  }
 },
 "nbformat": 4,
 "nbformat_minor": 0
}
