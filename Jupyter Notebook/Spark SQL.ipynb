{
 "cells": [
  {
   "cell_type": "code",
   "execution_count": 1,
   "id": "55de1ced",
   "metadata": {},
   "outputs": [],
   "source": [
    "import findspark\n",
    "findspark.init()\n",
    "from pyspark.sql import SparkSession\n",
    "spark = SparkSession.builder.getOrCreate()"
   ]
  },
  {
   "cell_type": "code",
   "execution_count": 2,
   "id": "1b9a1a6d",
   "metadata": {},
   "outputs": [
    {
     "data": {
      "text/plain": [
       "pyspark.sql.session.SparkSession"
      ]
     },
     "execution_count": 2,
     "metadata": {},
     "output_type": "execute_result"
    }
   ],
   "source": [
    "type(spark)"
   ]
  },
  {
   "cell_type": "code",
   "execution_count": 15,
   "id": "ae07cba2",
   "metadata": {},
   "outputs": [],
   "source": [
    " orders_df = (spark\n",
    "          .read\n",
    "          .format(\"json\")\n",
    "           .option(\"header\",\"true\")\n",
    "          .load(\"OneDrive\\\\Documents\\\\DATA\\\\retail_db_json\\\\orders\"))"
   ]
  },
  {
   "cell_type": "code",
   "execution_count": 16,
   "id": "60249fe8",
   "metadata": {},
   "outputs": [
    {
     "name": "stdout",
     "output_type": "stream",
     "text": [
      "+-----------------+--------------------+--------+---------------+\n",
      "|order_customer_id|          order_date|order_id|   order_status|\n",
      "+-----------------+--------------------+--------+---------------+\n",
      "|            11599|2013-07-25 00:00:...|       1|         CLOSED|\n",
      "|              256|2013-07-25 00:00:...|       2|PENDING_PAYMENT|\n",
      "|            12111|2013-07-25 00:00:...|       3|       COMPLETE|\n",
      "|             8827|2013-07-25 00:00:...|       4|         CLOSED|\n",
      "|            11318|2013-07-25 00:00:...|       5|       COMPLETE|\n",
      "|             7130|2013-07-25 00:00:...|       6|       COMPLETE|\n",
      "|             4530|2013-07-25 00:00:...|       7|       COMPLETE|\n",
      "|             2911|2013-07-25 00:00:...|       8|     PROCESSING|\n",
      "|             5657|2013-07-25 00:00:...|       9|PENDING_PAYMENT|\n",
      "|             5648|2013-07-25 00:00:...|      10|PENDING_PAYMENT|\n",
      "|              918|2013-07-25 00:00:...|      11| PAYMENT_REVIEW|\n",
      "|             1837|2013-07-25 00:00:...|      12|         CLOSED|\n",
      "|             9149|2013-07-25 00:00:...|      13|PENDING_PAYMENT|\n",
      "|             9842|2013-07-25 00:00:...|      14|     PROCESSING|\n",
      "|             2568|2013-07-25 00:00:...|      15|       COMPLETE|\n",
      "|             7276|2013-07-25 00:00:...|      16|PENDING_PAYMENT|\n",
      "|             2667|2013-07-25 00:00:...|      17|       COMPLETE|\n",
      "|             1205|2013-07-25 00:00:...|      18|         CLOSED|\n",
      "|             9488|2013-07-25 00:00:...|      19|PENDING_PAYMENT|\n",
      "|             9198|2013-07-25 00:00:...|      20|     PROCESSING|\n",
      "+-----------------+--------------------+--------+---------------+\n",
      "only showing top 20 rows\n",
      "\n"
     ]
    }
   ],
   "source": [
    "orders_df.show()"
   ]
  },
  {
   "cell_type": "code",
   "execution_count": 17,
   "id": "13874527",
   "metadata": {},
   "outputs": [
    {
     "data": {
      "text/plain": [
       "['order_customer_id', 'order_date', 'order_id', 'order_status']"
      ]
     },
     "execution_count": 17,
     "metadata": {},
     "output_type": "execute_result"
    }
   ],
   "source": [
    "orders_df.columns"
   ]
  },
  {
   "cell_type": "code",
   "execution_count": 18,
   "id": "e7436357",
   "metadata": {},
   "outputs": [
    {
     "name": "stdout",
     "output_type": "stream",
     "text": [
      "root\n",
      " |-- order_customer_id: long (nullable = true)\n",
      " |-- order_date: string (nullable = true)\n",
      " |-- order_id: long (nullable = true)\n",
      " |-- order_status: string (nullable = true)\n",
      "\n"
     ]
    }
   ],
   "source": [
    "orders_df.printSchema()"
   ]
  },
  {
   "cell_type": "code",
   "execution_count": 19,
   "id": "076f40e5",
   "metadata": {},
   "outputs": [],
   "source": [
    "customers_df = (spark\n",
    "          .read\n",
    "          .format(\"json\")\n",
    "           .option(\"header\",\"true\")\n",
    "          .load(\"OneDrive\\\\Documents\\\\DATA\\\\retail_db_json\\\\customers\"))"
   ]
  },
  {
   "cell_type": "code",
   "execution_count": 20,
   "id": "9228d421",
   "metadata": {},
   "outputs": [
    {
     "data": {
      "text/plain": [
       "['customer_city',\n",
       " 'customer_email',\n",
       " 'customer_fname',\n",
       " 'customer_id',\n",
       " 'customer_lname',\n",
       " 'customer_password',\n",
       " 'customer_state',\n",
       " 'customer_street',\n",
       " 'customer_zipcode']"
      ]
     },
     "execution_count": 20,
     "metadata": {},
     "output_type": "execute_result"
    }
   ],
   "source": [
    "customers_df.columns"
   ]
  },
  {
   "cell_type": "code",
   "execution_count": 21,
   "id": "466f1f05",
   "metadata": {},
   "outputs": [
    {
     "name": "stdout",
     "output_type": "stream",
     "text": [
      "root\n",
      " |-- customer_city: string (nullable = true)\n",
      " |-- customer_email: string (nullable = true)\n",
      " |-- customer_fname: string (nullable = true)\n",
      " |-- customer_id: long (nullable = true)\n",
      " |-- customer_lname: string (nullable = true)\n",
      " |-- customer_password: string (nullable = true)\n",
      " |-- customer_state: string (nullable = true)\n",
      " |-- customer_street: string (nullable = true)\n",
      " |-- customer_zipcode: string (nullable = true)\n",
      "\n"
     ]
    }
   ],
   "source": [
    "customers_df.printSchema()"
   ]
  },
  {
   "cell_type": "code",
   "execution_count": 22,
   "id": "17bc3981",
   "metadata": {},
   "outputs": [
    {
     "name": "stdout",
     "output_type": "stream",
     "text": [
      "+-------------+--------------+--------------+-----------+--------------+-----------------+--------------+--------------------+----------------+\n",
      "|customer_city|customer_email|customer_fname|customer_id|customer_lname|customer_password|customer_state|     customer_street|customer_zipcode|\n",
      "+-------------+--------------+--------------+-----------+--------------+-----------------+--------------+--------------------+----------------+\n",
      "|  Brownsville|     XXXXXXXXX|       Richard|          1|     Hernandez|        XXXXXXXXX|            TX|  6303 Heather Plaza|           78521|\n",
      "|    Littleton|     XXXXXXXXX|          Mary|          2|       Barrett|        XXXXXXXXX|            CO|9526 Noble Embers...|           80126|\n",
      "|       Caguas|     XXXXXXXXX|           Ann|          3|         Smith|        XXXXXXXXX|            PR|3422 Blue Pioneer...|           00725|\n",
      "|   San Marcos|     XXXXXXXXX|          Mary|          4|         Jones|        XXXXXXXXX|            CA|  8324 Little Common|           92069|\n",
      "|       Caguas|     XXXXXXXXX|        Robert|          5|        Hudson|        XXXXXXXXX|            PR|\"10 Crystal River...|           00725|\n",
      "|      Passaic|     XXXXXXXXX|          Mary|          6|         Smith|        XXXXXXXXX|            NJ|3151 Sleepy Quail...|           07055|\n",
      "|       Caguas|     XXXXXXXXX|       Melissa|          7|        Wilcox|        XXXXXXXXX|            PR|9453 High Concession|           00725|\n",
      "|     Lawrence|     XXXXXXXXX|         Megan|          8|         Smith|        XXXXXXXXX|            MA|3047 Foggy Forest...|           01841|\n",
      "|       Caguas|     XXXXXXXXX|          Mary|          9|         Perez|        XXXXXXXXX|            PR| 3616 Quaking Street|           00725|\n",
      "|     Stafford|     XXXXXXXXX|       Melissa|         10|         Smith|        XXXXXXXXX|            VA|8598 Harvest Beac...|           22554|\n",
      "|       Caguas|     XXXXXXXXX|          Mary|         11|       Huffman|        XXXXXXXXX|            PR|    3169 Stony Woods|           00725|\n",
      "|  San Antonio|     XXXXXXXXX|   Christopher|         12|         Smith|        XXXXXXXXX|            TX|5594 Jagged Ember...|           78227|\n",
      "|       Caguas|     XXXXXXXXX|          Mary|         13|       Baldwin|        XXXXXXXXX|            PR|7922 Iron Oak Gar...|           00725|\n",
      "|  Pico Rivera|     XXXXXXXXX|     Katherine|         14|         Smith|        XXXXXXXXX|            CA|5666 Hazy Pony Sq...|           90660|\n",
      "|      Fontana|     XXXXXXXXX|          Jane|         15|          Luna|        XXXXXXXXX|            CA|    673 Burning Glen|           92336|\n",
      "|       Caguas|     XXXXXXXXX|       Tiffany|         16|         Smith|        XXXXXXXXX|            PR|      6651 Iron Port|           00725|\n",
      "|       Taylor|     XXXXXXXXX|          Mary|         17|      Robinson|        XXXXXXXXX|            MI|     1325 Noble Pike|           48180|\n",
      "|     Martinez|     XXXXXXXXX|        Robert|         18|         Smith|        XXXXXXXXX|            CA|2734 Hazy Butterf...|           94553|\n",
      "|       Caguas|     XXXXXXXXX|     Stephanie|         19|      Mitchell|        XXXXXXXXX|            PR|3543 Red Treasure...|           00725|\n",
      "|West New York|     XXXXXXXXX|          Mary|         20|         Ellis|        XXXXXXXXX|            NJ|      4703 Old Route|           07093|\n",
      "+-------------+--------------+--------------+-----------+--------------+-----------------+--------------+--------------------+----------------+\n",
      "only showing top 20 rows\n",
      "\n"
     ]
    }
   ],
   "source": [
    "customers_df.show()"
   ]
  },
  {
   "cell_type": "code",
   "execution_count": 23,
   "id": "17043a04",
   "metadata": {},
   "outputs": [],
   "source": [
    "def createDF(file_format, path, header_bool):\n",
    "    return (spark\n",
    "    .read\n",
    "    .format(\"file_format\")\n",
    "    .option(\"header\",\"header_bool\")\n",
    "    .load(\"path\"))\n",
    "    "
   ]
  },
  {
   "cell_type": "markdown",
   "id": "b9b57bb2",
   "metadata": {},
   "source": [
    "# DF Registration"
   ]
  },
  {
   "cell_type": "code",
   "execution_count": 26,
   "id": "1340e56a",
   "metadata": {},
   "outputs": [],
   "source": [
    "orders_df.createOrReplaceTempView(\"orders\")"
   ]
  },
  {
   "cell_type": "code",
   "execution_count": 28,
   "id": "74a6b89d",
   "metadata": {},
   "outputs": [],
   "source": [
    "customers_df.createOrReplaceTempView(\"customers\")"
   ]
  },
  {
   "cell_type": "markdown",
   "id": "c9fe82e6",
   "metadata": {},
   "source": [
    "# Projecting the data in Spark SQL"
   ]
  },
  {
   "cell_type": "code",
   "execution_count": 29,
   "id": "0d35be1b",
   "metadata": {},
   "outputs": [
    {
     "data": {
      "text/plain": [
       "pyspark.sql.dataframe.DataFrame"
      ]
     },
     "execution_count": 29,
     "metadata": {},
     "output_type": "execute_result"
    }
   ],
   "source": [
    "type(spark.sql(\"SELECT * FROM orders\"))"
   ]
  },
  {
   "cell_type": "code",
   "execution_count": 32,
   "id": "98b45cd9",
   "metadata": {},
   "outputs": [
    {
     "name": "stdout",
     "output_type": "stream",
     "text": [
      "+-----------------+--------------------+--------+---------------+\n",
      "|order_customer_id|          order_date|order_id|   order_status|\n",
      "+-----------------+--------------------+--------+---------------+\n",
      "|            11599|2013-07-25 00:00:...|       1|         CLOSED|\n",
      "|              256|2013-07-25 00:00:...|       2|PENDING_PAYMENT|\n",
      "|            12111|2013-07-25 00:00:...|       3|       COMPLETE|\n",
      "|             8827|2013-07-25 00:00:...|       4|         CLOSED|\n",
      "|            11318|2013-07-25 00:00:...|       5|       COMPLETE|\n",
      "|             7130|2013-07-25 00:00:...|       6|       COMPLETE|\n",
      "|             4530|2013-07-25 00:00:...|       7|       COMPLETE|\n",
      "|             2911|2013-07-25 00:00:...|       8|     PROCESSING|\n",
      "|             5657|2013-07-25 00:00:...|       9|PENDING_PAYMENT|\n",
      "|             5648|2013-07-25 00:00:...|      10|PENDING_PAYMENT|\n",
      "|              918|2013-07-25 00:00:...|      11| PAYMENT_REVIEW|\n",
      "|             1837|2013-07-25 00:00:...|      12|         CLOSED|\n",
      "|             9149|2013-07-25 00:00:...|      13|PENDING_PAYMENT|\n",
      "|             9842|2013-07-25 00:00:...|      14|     PROCESSING|\n",
      "|             2568|2013-07-25 00:00:...|      15|       COMPLETE|\n",
      "|             7276|2013-07-25 00:00:...|      16|PENDING_PAYMENT|\n",
      "|             2667|2013-07-25 00:00:...|      17|       COMPLETE|\n",
      "|             1205|2013-07-25 00:00:...|      18|         CLOSED|\n",
      "|             9488|2013-07-25 00:00:...|      19|PENDING_PAYMENT|\n",
      "|             9198|2013-07-25 00:00:...|      20|     PROCESSING|\n",
      "+-----------------+--------------------+--------+---------------+\n",
      "only showing top 20 rows\n",
      "\n"
     ]
    }
   ],
   "source": [
    "spark.sql(\"SELECT * FROM orders\").show()"
   ]
  },
  {
   "cell_type": "code",
   "execution_count": 34,
   "id": "07d66ab5",
   "metadata": {},
   "outputs": [
    {
     "name": "stdout",
     "output_type": "stream",
     "text": [
      "+-----------+--------------+\n",
      "|customer_id|customer_lname|\n",
      "+-----------+--------------+\n",
      "|          1|     Hernandez|\n",
      "|          2|       Barrett|\n",
      "|          3|         Smith|\n",
      "|          4|         Jones|\n",
      "|          5|        Hudson|\n",
      "|          6|         Smith|\n",
      "|          7|        Wilcox|\n",
      "|          8|         Smith|\n",
      "|          9|         Perez|\n",
      "|         10|         Smith|\n",
      "|         11|       Huffman|\n",
      "|         12|         Smith|\n",
      "|         13|       Baldwin|\n",
      "|         14|         Smith|\n",
      "|         15|          Luna|\n",
      "|         16|         Smith|\n",
      "|         17|      Robinson|\n",
      "|         18|         Smith|\n",
      "|         19|      Mitchell|\n",
      "|         20|         Ellis|\n",
      "+-----------+--------------+\n",
      "only showing top 20 rows\n",
      "\n"
     ]
    }
   ],
   "source": [
    "spark.sql(\"SELECT customer_id, customer_lname from customers\").show()"
   ]
  },
  {
   "cell_type": "code",
   "execution_count": 35,
   "id": "33f456ac",
   "metadata": {},
   "outputs": [
    {
     "name": "stdout",
     "output_type": "stream",
     "text": [
      "+-----------------+--------------------+--------+------------+\n",
      "|order_customer_id|          order_date|order_id|order_status|\n",
      "+-----------------+--------------------+--------+------------+\n",
      "|            11599|2013-07-25 00:00:...|       1|      CLOSED|\n",
      "|            12111|2013-07-25 00:00:...|       3|    COMPLETE|\n",
      "|             8827|2013-07-25 00:00:...|       4|      CLOSED|\n",
      "|            11318|2013-07-25 00:00:...|       5|    COMPLETE|\n",
      "|             7130|2013-07-25 00:00:...|       6|    COMPLETE|\n",
      "|             4530|2013-07-25 00:00:...|       7|    COMPLETE|\n",
      "|             1837|2013-07-25 00:00:...|      12|      CLOSED|\n",
      "|             2568|2013-07-25 00:00:...|      15|    COMPLETE|\n",
      "|             2667|2013-07-25 00:00:...|      17|    COMPLETE|\n",
      "|             1205|2013-07-25 00:00:...|      18|      CLOSED|\n",
      "|              333|2013-07-25 00:00:...|      22|    COMPLETE|\n",
      "|            11441|2013-07-25 00:00:...|      24|      CLOSED|\n",
      "|             9503|2013-07-25 00:00:...|      25|      CLOSED|\n",
      "|             7562|2013-07-25 00:00:...|      26|    COMPLETE|\n",
      "|              656|2013-07-25 00:00:...|      28|    COMPLETE|\n",
      "|             3960|2013-07-25 00:00:...|      32|    COMPLETE|\n",
      "|             4840|2013-07-25 00:00:...|      35|    COMPLETE|\n",
      "|             5863|2013-07-25 00:00:...|      37|      CLOSED|\n",
      "|             2636|2013-07-25 00:00:...|      45|    COMPLETE|\n",
      "|            12271|2013-07-25 00:00:...|      51|      CLOSED|\n",
      "+-----------------+--------------------+--------+------------+\n",
      "only showing top 20 rows\n",
      "\n"
     ]
    }
   ],
   "source": [
    "spark.sql(\"SELECT * FROM orders WHERE order_status = 'CLOSED' OR order_status = 'COMPLETE'\").show()"
   ]
  },
  {
   "cell_type": "code",
   "execution_count": 36,
   "id": "1e13ee00",
   "metadata": {},
   "outputs": [
    {
     "name": "stdout",
     "output_type": "stream",
     "text": [
      "+-----------------+--------------------+--------+------------+\n",
      "|order_customer_id|          order_date|order_id|order_status|\n",
      "+-----------------+--------------------+--------+------------+\n",
      "|            11599|2013-07-25 00:00:...|       1|      CLOSED|\n",
      "|            12111|2013-07-25 00:00:...|       3|    COMPLETE|\n",
      "|             8827|2013-07-25 00:00:...|       4|      CLOSED|\n",
      "|            11318|2013-07-25 00:00:...|       5|    COMPLETE|\n",
      "|             7130|2013-07-25 00:00:...|       6|    COMPLETE|\n",
      "|             4530|2013-07-25 00:00:...|       7|    COMPLETE|\n",
      "|             1837|2013-07-25 00:00:...|      12|      CLOSED|\n",
      "|             2568|2013-07-25 00:00:...|      15|    COMPLETE|\n",
      "|             2667|2013-07-25 00:00:...|      17|    COMPLETE|\n",
      "|             1205|2013-07-25 00:00:...|      18|      CLOSED|\n",
      "|              333|2013-07-25 00:00:...|      22|    COMPLETE|\n",
      "|            11441|2013-07-25 00:00:...|      24|      CLOSED|\n",
      "|             9503|2013-07-25 00:00:...|      25|      CLOSED|\n",
      "|             7562|2013-07-25 00:00:...|      26|    COMPLETE|\n",
      "|              656|2013-07-25 00:00:...|      28|    COMPLETE|\n",
      "|             3960|2013-07-25 00:00:...|      32|    COMPLETE|\n",
      "|             4840|2013-07-25 00:00:...|      35|    COMPLETE|\n",
      "|             5863|2013-07-25 00:00:...|      37|      CLOSED|\n",
      "|             2636|2013-07-25 00:00:...|      45|    COMPLETE|\n",
      "|            12271|2013-07-25 00:00:...|      51|      CLOSED|\n",
      "+-----------------+--------------------+--------+------------+\n",
      "only showing top 20 rows\n",
      "\n"
     ]
    }
   ],
   "source": [
    "spark.sql(\"SELECT * FROM orders where order_status IN ('CLOSED', 'COMPLETE')\").show()"
   ]
  },
  {
   "cell_type": "code",
   "execution_count": 39,
   "id": "9285ad5c",
   "metadata": {},
   "outputs": [
    {
     "name": "stdout",
     "output_type": "stream",
     "text": [
      "+-----------------+--------------------+--------+---------------+\n",
      "|order_customer_id|          order_date|order_id|   order_status|\n",
      "+-----------------+--------------------+--------+---------------+\n",
      "|            11607|2013-08-01 00:00:...|    1297|       COMPLETE|\n",
      "|             5105|2013-08-01 00:00:...|    1298|         CLOSED|\n",
      "|             7802|2013-08-01 00:00:...|    1299|       COMPLETE|\n",
      "|              553|2013-08-01 00:00:...|    1300|PENDING_PAYMENT|\n",
      "|             1604|2013-08-01 00:00:...|    1301|PENDING_PAYMENT|\n",
      "|             1695|2013-08-01 00:00:...|    1302|       COMPLETE|\n",
      "|             7018|2013-08-01 00:00:...|    1303|     PROCESSING|\n",
      "|             2059|2013-08-01 00:00:...|    1304|       COMPLETE|\n",
      "|             3844|2013-08-01 00:00:...|    1305|       COMPLETE|\n",
      "|            11672|2013-08-01 00:00:...|    1306|PENDING_PAYMENT|\n",
      "|             4474|2013-08-01 00:00:...|    1307|       COMPLETE|\n",
      "|            11645|2013-08-01 00:00:...|    1308|        PENDING|\n",
      "|             2367|2013-08-01 00:00:...|    1309|         CLOSED|\n",
      "|             5602|2013-08-01 00:00:...|    1310|        PENDING|\n",
      "|             5396|2013-08-01 00:00:...|    1311|PENDING_PAYMENT|\n",
      "|            12291|2013-08-01 00:00:...|    1312|       COMPLETE|\n",
      "|             3471|2013-08-01 00:00:...|    1313|       CANCELED|\n",
      "|            10993|2013-08-01 00:00:...|    1314|       COMPLETE|\n",
      "|             5660|2013-08-01 00:00:...|    1315|       COMPLETE|\n",
      "|             6376|2013-08-01 00:00:...|    1316|PENDING_PAYMENT|\n",
      "+-----------------+--------------------+--------+---------------+\n",
      "only showing top 20 rows\n",
      "\n"
     ]
    }
   ],
   "source": [
    "spark.sql(\"SELECT * FROM orders where order_date LIKE '________01%' \").show()"
   ]
  },
  {
   "cell_type": "markdown",
   "id": "323523a8",
   "metadata": {},
   "source": [
    "# JOIN Operation in Spark SQL"
   ]
  },
  {
   "cell_type": "code",
   "execution_count": 41,
   "id": "02c6db4f",
   "metadata": {},
   "outputs": [
    {
     "name": "stdout",
     "output_type": "stream",
     "text": [
      "+-----------------+--------------------+--------+---------------+-------------+--------------+--------------+-----------+--------------+-----------------+--------------+--------------------+----------------+\n",
      "|order_customer_id|          order_date|order_id|   order_status|customer_city|customer_email|customer_fname|customer_id|customer_lname|customer_password|customer_state|     customer_street|customer_zipcode|\n",
      "+-----------------+--------------------+--------+---------------+-------------+--------------+--------------+-----------+--------------+-----------------+--------------+--------------------+----------------+\n",
      "|            11599|2013-07-25 00:00:...|       1|         CLOSED|      Hickory|     XXXXXXXXX|          Mary|      11599|        Malone|        XXXXXXXXX|            NC|8708 Indian Horse...|           28601|\n",
      "|              256|2013-07-25 00:00:...|       2|PENDING_PAYMENT|      Chicago|     XXXXXXXXX|         David|        256|     Rodriguez|        XXXXXXXXX|            IL|7605 Tawny Horse ...|           60625|\n",
      "|            12111|2013-07-25 00:00:...|       3|       COMPLETE|   Santa Cruz|     XXXXXXXXX|         Amber|      12111|        Franco|        XXXXXXXXX|            CA|8766 Clear Prairi...|           95060|\n",
      "|             8827|2013-07-25 00:00:...|       4|         CLOSED|  San Antonio|     XXXXXXXXX|         Brian|       8827|        Wilson|        XXXXXXXXX|            TX|   8396 High Corners|           78240|\n",
      "|            11318|2013-07-25 00:00:...|       5|       COMPLETE|       Caguas|     XXXXXXXXX|          Mary|      11318|         Henry|        XXXXXXXXX|            PR|3047 Silent Ember...|           00725|\n",
      "|             7130|2013-07-25 00:00:...|       6|       COMPLETE|     Brooklyn|     XXXXXXXXX|         Alice|       7130|         Smith|        XXXXXXXXX|            NY|      8852 Iron Port|           11237|\n",
      "|             4530|2013-07-25 00:00:...|       7|       COMPLETE|        Miami|     XXXXXXXXX|          Mary|       4530|         Smith|        XXXXXXXXX|            FL|1073 Green Leaf G...|           33161|\n",
      "|             2911|2013-07-25 00:00:...|       8|     PROCESSING|       Caguas|     XXXXXXXXX|          Mary|       2911|         Smith|        XXXXXXXXX|            PR|9166 Golden Necta...|           00725|\n",
      "|             5657|2013-07-25 00:00:...|       9|PENDING_PAYMENT|     Lakewood|     XXXXXXXXX|          Mary|       5657|         James|        XXXXXXXXX|            OH|  1389 Dusty Circuit|           44107|\n",
      "|             5648|2013-07-25 00:00:...|      10|PENDING_PAYMENT|      Memphis|     XXXXXXXXX|        Joshua|       5648|         Smith|        XXXXXXXXX|            TN|864 Iron Spring S...|           38111|\n",
      "|              918|2013-07-25 00:00:...|      11| PAYMENT_REVIEW|       Caguas|     XXXXXXXXX|        Nathan|        918|         Smith|        XXXXXXXXX|            PR|    9627 Honey Trail|           00725|\n",
      "|             1837|2013-07-25 00:00:...|      12|         CLOSED|       Caguas|     XXXXXXXXX|          Mary|       1837|          Vega|        XXXXXXXXX|            PR|  4312 Bright Corner|           00725|\n",
      "|             9149|2013-07-25 00:00:...|      13|PENDING_PAYMENT|    Santa Ana|     XXXXXXXXX|        Ronald|       9149|     Whitehead|        XXXXXXXXX|            CA|6789 Round Robin ...|           92705|\n",
      "|             9842|2013-07-25 00:00:...|      14|     PROCESSING|       Caguas|     XXXXXXXXX|          Mary|       9842|         Smith|        XXXXXXXXX|            PR|454 Lazy Branch F...|           00725|\n",
      "|             2568|2013-07-25 00:00:...|      15|       COMPLETE|      Memphis|     XXXXXXXXX|         Maria|       2568|         Smith|        XXXXXXXXX|            TN|   3544 Fallen Mount|           38127|\n",
      "|             7276|2013-07-25 00:00:...|      16|PENDING_PAYMENT|       Caguas|     XXXXXXXXX|        Pamela|       7276|         Smith|        XXXXXXXXX|            PR|    9243 Old Gardens|           00725|\n",
      "|             2667|2013-07-25 00:00:...|      17|       COMPLETE|   Sun Valley|     XXXXXXXXX|         Tammy|       2667|         Smith|        XXXXXXXXX|            CA| \"8906 Rustic Mall \"|           91352|\n",
      "|             1205|2013-07-25 00:00:...|      18|         CLOSED|        Miami|     XXXXXXXXX|          Mary|       1205|        Powell|        XXXXXXXXX|            FL|9299 Quiet Pionee...|           33126|\n",
      "|             9488|2013-07-25 00:00:...|      19|PENDING_PAYMENT|      Hialeah|     XXXXXXXXX|          Mary|       9488|         Smith|        XXXXXXXXX|            FL|    9758 Foggy Range|           33012|\n",
      "|             9198|2013-07-25 00:00:...|      20|     PROCESSING|Bowling Green|     XXXXXXXXX|         David|       9198|          Kerr|        XXXXXXXXX|            KY|7312 Crystal Will...|           42101|\n",
      "+-----------------+--------------------+--------+---------------+-------------+--------------+--------------+-----------+--------------+-----------------+--------------+--------------------+----------------+\n",
      "only showing top 20 rows\n",
      "\n"
     ]
    }
   ],
   "source": [
    "spark.sql(\"\"\" SELECT * FROM orders o\n",
    "JOIN customers c\n",
    "ON o.order_customer_id = c.customer_id\"\"\").show()"
   ]
  },
  {
   "cell_type": "code",
   "execution_count": 42,
   "id": "6bdf7886",
   "metadata": {},
   "outputs": [
    {
     "name": "stdout",
     "output_type": "stream",
     "text": [
      "+-------------+-------------------+---------------------+------------------------+-------------------+-------------------+\n",
      "|order_item_id|order_item_order_id|order_item_product_id|order_item_product_price|order_item_quantity|order_item_subtotal|\n",
      "+-------------+-------------------+---------------------+------------------------+-------------------+-------------------+\n",
      "|            1|                  1|                  957|                  299.98|                  1|             299.98|\n",
      "|            2|                  2|                 1073|                  199.99|                  1|             199.99|\n",
      "|            3|                  2|                  502|                    50.0|                  5|              250.0|\n",
      "|            4|                  2|                  403|                  129.99|                  1|             129.99|\n",
      "|            5|                  4|                  897|                   24.99|                  2|              49.98|\n",
      "|            6|                  4|                  365|                   59.99|                  5|             299.95|\n",
      "|            7|                  4|                  502|                    50.0|                  3|              150.0|\n",
      "|            8|                  4|                 1014|                   49.98|                  4|             199.92|\n",
      "|            9|                  5|                  957|                  299.98|                  1|             299.98|\n",
      "|           10|                  5|                  365|                   59.99|                  5|             299.95|\n",
      "|           11|                  5|                 1014|                   49.98|                  2|              99.96|\n",
      "|           12|                  5|                  957|                  299.98|                  1|             299.98|\n",
      "|           13|                  5|                  403|                  129.99|                  1|             129.99|\n",
      "|           14|                  7|                 1073|                  199.99|                  1|             199.99|\n",
      "|           15|                  7|                  957|                  299.98|                  1|             299.98|\n",
      "|           16|                  7|                  926|                   15.99|                  5|              79.95|\n",
      "|           17|                  8|                  365|                   59.99|                  3|             179.97|\n",
      "|           18|                  8|                  365|                   59.99|                  5|             299.95|\n",
      "|           19|                  8|                 1014|                   49.98|                  4|             199.92|\n",
      "|           20|                  8|                  502|                    50.0|                  1|               50.0|\n",
      "+-------------+-------------------+---------------------+------------------------+-------------------+-------------------+\n",
      "only showing top 20 rows\n",
      "\n"
     ]
    }
   ],
   "source": [
    "order_item_df = (spark\n",
    "          .read\n",
    "          .format(\"json\")\n",
    "           .option(\"header\",\"true\")\n",
    "          .load(\"OneDrive\\\\Documents\\\\DATA\\\\retail_db_json\\\\order_items\"))\n",
    "order_item_df.show()"
   ]
  },
  {
   "cell_type": "code",
   "execution_count": 44,
   "id": "bcbf8c61",
   "metadata": {},
   "outputs": [
    {
     "data": {
      "text/plain": [
       "['order_item_id',\n",
       " 'order_item_order_id',\n",
       " 'order_item_product_id',\n",
       " 'order_item_product_price',\n",
       " 'order_item_quantity',\n",
       " 'order_item_subtotal']"
      ]
     },
     "execution_count": 44,
     "metadata": {},
     "output_type": "execute_result"
    }
   ],
   "source": [
    "order_item_df.columns"
   ]
  },
  {
   "cell_type": "code",
   "execution_count": 45,
   "id": "e77189b4",
   "metadata": {},
   "outputs": [
    {
     "name": "stdout",
     "output_type": "stream",
     "text": [
      "root\n",
      " |-- order_item_id: long (nullable = true)\n",
      " |-- order_item_order_id: long (nullable = true)\n",
      " |-- order_item_product_id: long (nullable = true)\n",
      " |-- order_item_product_price: double (nullable = true)\n",
      " |-- order_item_quantity: long (nullable = true)\n",
      " |-- order_item_subtotal: double (nullable = true)\n",
      "\n"
     ]
    }
   ],
   "source": [
    "order_item_df.printSchema()"
   ]
  },
  {
   "cell_type": "code",
   "execution_count": 46,
   "id": "273b67df",
   "metadata": {},
   "outputs": [],
   "source": [
    "order_item_df.createOrReplaceTempView(\"order_items\")"
   ]
  },
  {
   "cell_type": "code",
   "execution_count": 50,
   "id": "62a86894",
   "metadata": {},
   "outputs": [
    {
     "name": "stdout",
     "output_type": "stream",
     "text": [
      "+-------------+-------------------+---------------------+------------------------+-------------------+-------------------+-----------------+----------+--------+------------+\n",
      "|order_item_id|order_item_order_id|order_item_product_id|order_item_product_price|order_item_quantity|order_item_subtotal|order_customer_id|order_date|order_id|order_status|\n",
      "+-------------+-------------------+---------------------+------------------------+-------------------+-------------------+-----------------+----------+--------+------------+\n",
      "+-------------+-------------------+---------------------+------------------------+-------------------+-------------------+-----------------+----------+--------+------------+\n",
      "\n"
     ]
    }
   ],
   "source": [
    "spark.sql(\"\"\" SELECT * FROM order_items ot \n",
    "LEFT JOIN orders o ON\n",
    "ot.order_item_order_id = o.order_id\n",
    "where ot.order_item_id IS NULL\"\"\").show()"
   ]
  },
  {
   "cell_type": "markdown",
   "id": "4200c6a3",
   "metadata": {},
   "source": [
    "# Grouping & Aggregations in Spark SQL"
   ]
  },
  {
   "cell_type": "code",
   "execution_count": 51,
   "id": "902ac5ca",
   "metadata": {},
   "outputs": [
    {
     "name": "stdout",
     "output_type": "stream",
     "text": [
      "+---------------+-----------+\n",
      "|   order_status|order_count|\n",
      "+---------------+-----------+\n",
      "|PENDING_PAYMENT|      15030|\n",
      "|       COMPLETE|      22899|\n",
      "|        ON_HOLD|       3798|\n",
      "| PAYMENT_REVIEW|        729|\n",
      "|     PROCESSING|       8275|\n",
      "|         CLOSED|       7556|\n",
      "|SUSPECTED_FRAUD|       1558|\n",
      "|        PENDING|       7610|\n",
      "|       CANCELED|       1428|\n",
      "+---------------+-----------+\n",
      "\n"
     ]
    }
   ],
   "source": [
    "spark.sql(\"\"\"SELECT order_status, COUNT(*) AS order_count\n",
    "            FROM orders\n",
    "            GROUP BY order_status\"\"\").show()"
   ]
  },
  {
   "cell_type": "code",
   "execution_count": 52,
   "id": "f0d5570e",
   "metadata": {},
   "outputs": [
    {
     "name": "stdout",
     "output_type": "stream",
     "text": [
      "+---------------+\n",
      "|   order_status|\n",
      "+---------------+\n",
      "|PENDING_PAYMENT|\n",
      "|       COMPLETE|\n",
      "|        ON_HOLD|\n",
      "| PAYMENT_REVIEW|\n",
      "|     PROCESSING|\n",
      "|         CLOSED|\n",
      "|SUSPECTED_FRAUD|\n",
      "|        PENDING|\n",
      "|       CANCELED|\n",
      "+---------------+\n",
      "\n"
     ]
    }
   ],
   "source": [
    "spark.sql(\"SELECT DISTINCT order_status from orders\").show()"
   ]
  },
  {
   "cell_type": "code",
   "execution_count": 56,
   "id": "4124fa67",
   "metadata": {},
   "outputs": [
    {
     "name": "stdout",
     "output_type": "stream",
     "text": [
      "+-----------+------------+\n",
      "|customer_id|orders_count|\n",
      "+-----------+------------+\n",
      "|      11938|           6|\n",
      "|       1950|           9|\n",
      "|       2529|           6|\n",
      "|       3506|           7|\n",
      "|       7279|           5|\n",
      "|       2250|           7|\n",
      "|       9715|           6|\n",
      "|       8075|           3|\n",
      "|       9233|           9|\n",
      "|       5409|           6|\n",
      "|       4590|           7|\n",
      "|       3764|           7|\n",
      "|       9458|           7|\n",
      "|       8440|           5|\n",
      "|       1806|           8|\n",
      "|       5556|           4|\n",
      "|       8484|           6|\n",
      "|      11945|           6|\n",
      "|       7225|           5|\n",
      "|       2214|           5|\n",
      "+-----------+------------+\n",
      "only showing top 20 rows\n",
      "\n"
     ]
    }
   ],
   "source": [
    "spark.sql(\"\"\" SELECT c.customer_id, COUNT(order_id) as orders_count from customers c\n",
    "JOIN orders o ON o.order_customer_id = c.customer_id  \n",
    "GROUP BY c.customer_id\n",
    "\"\"\").show()"
   ]
  },
  {
   "cell_type": "markdown",
   "id": "1d941cb3",
   "metadata": {},
   "source": [
    "# Sorting in Spark SQL"
   ]
  },
  {
   "cell_type": "code",
   "execution_count": 59,
   "id": "8b456beb",
   "metadata": {},
   "outputs": [
    {
     "name": "stdout",
     "output_type": "stream",
     "text": [
      "+-----------------+--------------------+--------+------------+\n",
      "|order_customer_id|          order_date|order_id|order_status|\n",
      "+-----------------+--------------------+--------+------------+\n",
      "|             1464|2014-03-22 00:00:...|   38914|    CANCELED|\n",
      "|             5426|2013-07-28 00:00:...|     527|    CANCELED|\n",
      "|              505|2014-03-27 00:00:...|   39749|    CANCELED|\n",
      "|             1879|2013-08-01 00:00:...|    1435|    CANCELED|\n",
      "|            11366|2014-03-22 00:00:...|   38915|    CANCELED|\n",
      "|             1445|2013-07-28 00:00:...|     552|    CANCELED|\n",
      "|             5485|2014-03-20 00:00:...|   38689|    CANCELED|\n",
      "|             5375|2013-07-26 00:00:...|     112|    CANCELED|\n",
      "|             3424|2014-03-22 00:00:...|   38950|    CANCELED|\n",
      "|             2216|2013-07-28 00:00:...|     564|    CANCELED|\n",
      "|            10473|2014-03-21 00:00:...|   38748|    CANCELED|\n",
      "|             8117|2013-07-30 00:00:...|     955|    CANCELED|\n",
      "|             8280|2014-03-22 00:00:...|   38954|    CANCELED|\n",
      "|             1753|2013-08-01 00:00:...|    1383|    CANCELED|\n",
      "|             6273|2014-03-21 00:00:...|   38843|    CANCELED|\n",
      "|             9492|2013-07-30 00:00:...|     962|    CANCELED|\n",
      "|            12099|2014-03-22 00:00:...|   38965|    CANCELED|\n",
      "|             6376|2013-07-28 00:00:...|     607|    CANCELED|\n",
      "|             4124|2014-03-23 00:00:...|   39157|    CANCELED|\n",
      "|             1903|2013-07-30 00:00:...|    1013|    CANCELED|\n",
      "+-----------------+--------------------+--------+------------+\n",
      "only showing top 20 rows\n",
      "\n"
     ]
    }
   ],
   "source": [
    "spark.sql(\"SELECT * FROM orders ORDER BY order_status \").show()"
   ]
  },
  {
   "cell_type": "code",
   "execution_count": 60,
   "id": "f226406b",
   "metadata": {},
   "outputs": [
    {
     "name": "stdout",
     "output_type": "stream",
     "text": [
      "+-----------------+--------------------+--------+---------------+\n",
      "|order_customer_id|          order_date|order_id|   order_status|\n",
      "+-----------------+--------------------+--------+---------------+\n",
      "|             8185|2014-03-22 00:00:...|   38948|SUSPECTED_FRAUD|\n",
      "|             9616|2013-07-26 00:00:...|     246|SUSPECTED_FRAUD|\n",
      "|             7768|2014-03-28 00:00:...|   39803|SUSPECTED_FRAUD|\n",
      "|             3900|2013-07-30 00:00:...|    1074|SUSPECTED_FRAUD|\n",
      "|             9414|2014-03-22 00:00:...|   39018|SUSPECTED_FRAUD|\n",
      "|            10698|2013-07-26 00:00:...|     320|SUSPECTED_FRAUD|\n",
      "|             8332|2014-03-21 00:00:...|   38727|SUSPECTED_FRAUD|\n",
      "|               58|2013-07-26 00:00:...|     117|SUSPECTED_FRAUD|\n",
      "|             9069|2014-03-22 00:00:...|   39023|SUSPECTED_FRAUD|\n",
      "|             1944|2013-07-26 00:00:...|     329|SUSPECTED_FRAUD|\n",
      "|             4148|2014-03-21 00:00:...|   38799|SUSPECTED_FRAUD|\n",
      "|             8670|2013-07-30 00:00:...|     909|SUSPECTED_FRAUD|\n",
      "|             7007|2014-03-22 00:00:...|   39036|SUSPECTED_FRAUD|\n",
      "|             4683|2013-07-30 00:00:...|    1069|SUSPECTED_FRAUD|\n",
      "|             9294|2014-03-22 00:00:...|   38884|SUSPECTED_FRAUD|\n",
      "|             7231|2013-07-30 00:00:...|     932|SUSPECTED_FRAUD|\n",
      "|            12396|2014-03-23 00:00:...|   39069|SUSPECTED_FRAUD|\n",
      "|            11164|2013-07-27 00:00:...|     411|SUSPECTED_FRAUD|\n",
      "|              488|2014-03-23 00:00:...|   39207|SUSPECTED_FRAUD|\n",
      "|             5098|2013-07-30 00:00:...|     940|SUSPECTED_FRAUD|\n",
      "+-----------------+--------------------+--------+---------------+\n",
      "only showing top 20 rows\n",
      "\n"
     ]
    }
   ],
   "source": [
    "spark.sql(\"SELECT * FROM orders ORDER BY order_status desc\").show()"
   ]
  },
  {
   "cell_type": "code",
   "execution_count": 61,
   "id": "f15f47f5",
   "metadata": {},
   "outputs": [
    {
     "name": "stdout",
     "output_type": "stream",
     "text": [
      "+-----------------+--------------------+--------+---------------+\n",
      "|order_customer_id|          order_date|order_id|   order_status|\n",
      "+-----------------+--------------------+--------+---------------+\n",
      "|                1|2013-12-13 00:00:...|   22945|       COMPLETE|\n",
      "|                2|2013-11-30 00:00:...|   67863|       COMPLETE|\n",
      "|                2|2014-02-18 00:00:...|   33865|       COMPLETE|\n",
      "|                2|2013-08-02 00:00:...|   57963|        ON_HOLD|\n",
      "|                2|2013-10-29 00:00:...|   15192|PENDING_PAYMENT|\n",
      "|                3|2014-07-24 00:00:...|   57617|       COMPLETE|\n",
      "|                3|2014-02-26 00:00:...|   35158|       COMPLETE|\n",
      "|                3|2013-12-14 00:00:...|   61453|       COMPLETE|\n",
      "|                3|2013-12-11 00:00:...|   22646|       COMPLETE|\n",
      "|                3|2013-12-19 00:00:...|   23662|       COMPLETE|\n",
      "|                3|2014-07-15 00:00:...|   56178|        PENDING|\n",
      "|                3|2014-05-09 00:00:...|   46399|     PROCESSING|\n",
      "|                4|2014-06-10 00:00:...|   51157|         CLOSED|\n",
      "|                4|2013-09-19 00:00:...|    9023|       COMPLETE|\n",
      "|                4|2014-05-28 00:00:...|   49339|       COMPLETE|\n",
      "|                4|2013-09-24 00:00:...|    9704|       COMPLETE|\n",
      "|                4|2014-03-15 00:00:...|   37878|       COMPLETE|\n",
      "|                4|2013-11-09 00:00:...|   17253|PENDING_PAYMENT|\n",
      "|                5|2014-04-05 00:00:...|   41333|       COMPLETE|\n",
      "|                5|2013-10-18 00:00:...|   13705|       COMPLETE|\n",
      "+-----------------+--------------------+--------+---------------+\n",
      "only showing top 20 rows\n",
      "\n"
     ]
    }
   ],
   "source": [
    "spark.sql(\"SELECT * FROM orders ORDER BY order_customer_id, order_status\").show()"
   ]
  },
  {
   "cell_type": "code",
   "execution_count": 62,
   "id": "803eb9fb",
   "metadata": {},
   "outputs": [
    {
     "name": "stdout",
     "output_type": "stream",
     "text": [
      "+-----------------+--------------------+--------+---------------+\n",
      "|order_customer_id|          order_date|order_id|   order_status|\n",
      "+-----------------+--------------------+--------+---------------+\n",
      "|                1|2013-12-13 00:00:...|   22945|       COMPLETE|\n",
      "|                2|2013-10-29 00:00:...|   15192|PENDING_PAYMENT|\n",
      "|                2|2013-08-02 00:00:...|   57963|        ON_HOLD|\n",
      "|                2|2014-02-18 00:00:...|   33865|       COMPLETE|\n",
      "|                2|2013-11-30 00:00:...|   67863|       COMPLETE|\n",
      "|                3|2014-05-09 00:00:...|   46399|     PROCESSING|\n",
      "|                3|2014-07-15 00:00:...|   56178|        PENDING|\n",
      "|                3|2014-02-26 00:00:...|   35158|       COMPLETE|\n",
      "|                3|2014-07-24 00:00:...|   57617|       COMPLETE|\n",
      "|                3|2013-12-11 00:00:...|   22646|       COMPLETE|\n",
      "|                3|2013-12-14 00:00:...|   61453|       COMPLETE|\n",
      "|                3|2013-12-19 00:00:...|   23662|       COMPLETE|\n",
      "|                4|2013-11-09 00:00:...|   17253|PENDING_PAYMENT|\n",
      "|                4|2014-05-28 00:00:...|   49339|       COMPLETE|\n",
      "|                4|2013-09-19 00:00:...|    9023|       COMPLETE|\n",
      "|                4|2013-09-24 00:00:...|    9704|       COMPLETE|\n",
      "|                4|2014-03-15 00:00:...|   37878|       COMPLETE|\n",
      "|                4|2014-06-10 00:00:...|   51157|         CLOSED|\n",
      "|                5|2014-03-06 00:00:...|   36472|     PROCESSING|\n",
      "|                5|2014-05-05 00:00:...|   45832|PENDING_PAYMENT|\n",
      "+-----------------+--------------------+--------+---------------+\n",
      "only showing top 20 rows\n",
      "\n"
     ]
    }
   ],
   "source": [
    "spark.sql(\"SELECT * FROM orders ORDER BY order_customer_id, order_status desc\").show()"
   ]
  },
  {
   "cell_type": "code",
   "execution_count": 63,
   "id": "c511b538",
   "metadata": {},
   "outputs": [
    {
     "name": "stdout",
     "output_type": "stream",
     "text": [
      "+-----------------+--------------------+--------+---------------+\n",
      "|order_customer_id|          order_date|order_id|   order_status|\n",
      "+-----------------+--------------------+--------+---------------+\n",
      "|            12435|2014-04-08 00:00:...|   41643|        PENDING|\n",
      "|            12435|2013-12-21 00:00:...|   61629|       CANCELED|\n",
      "|            12434|2013-08-23 00:00:...|    4799|PENDING_PAYMENT|\n",
      "|            12434|2013-08-26 00:00:...|    5303|        PENDING|\n",
      "|            12434|2013-10-16 00:00:...|   13544|        PENDING|\n",
      "|            12434|2014-06-14 00:00:...|   51800|        ON_HOLD|\n",
      "|            12434|2013-09-02 00:00:...|    6160|       COMPLETE|\n",
      "|            12434|2014-04-16 00:00:...|   42915|       COMPLETE|\n",
      "|            12434|2013-12-26 00:00:...|   61777|       COMPLETE|\n",
      "|            12434|2013-08-03 00:00:...|    1868|         CLOSED|\n",
      "|            12433|2014-04-15 00:00:...|   42724|        PENDING|\n",
      "|            12433|2013-09-07 00:00:...|   58917| PAYMENT_REVIEW|\n",
      "|            12433|2014-05-01 00:00:...|   65117|        ON_HOLD|\n",
      "|            12433|2013-11-02 00:00:...|   15703|       COMPLETE|\n",
      "|            12432|2013-11-13 00:00:...|   17889|PENDING_PAYMENT|\n",
      "|            12432|2014-01-25 00:00:...|   29787|PENDING_PAYMENT|\n",
      "|            12432|2013-11-13 00:00:...|   17973|        PENDING|\n",
      "|            12432|2013-08-27 00:00:...|   58652|        ON_HOLD|\n",
      "|            12432|2014-03-15 00:00:...|   37846|       COMPLETE|\n",
      "|            12432|2014-04-24 00:00:...|   44064|       COMPLETE|\n",
      "+-----------------+--------------------+--------+---------------+\n",
      "only showing top 20 rows\n",
      "\n"
     ]
    }
   ],
   "source": [
    "spark.sql(\"SELECT * FROM orders ORDER BY order_customer_id desc, order_status desc\").show()"
   ]
  },
  {
   "cell_type": "code",
   "execution_count": 64,
   "id": "f85d556c",
   "metadata": {},
   "outputs": [
    {
     "name": "stdout",
     "output_type": "stream",
     "text": [
      "+-------------+-------------------+---------------------+------------------------+-------------------+-------------------+\n",
      "|order_item_id|order_item_order_id|order_item_product_id|order_item_product_price|order_item_quantity|order_item_subtotal|\n",
      "+-------------+-------------------+---------------------+------------------------+-------------------+-------------------+\n",
      "|            1|                  1|                  957|                  299.98|                  1|             299.98|\n",
      "|            3|                  2|                  502|                    50.0|                  5|              250.0|\n",
      "|            2|                  2|                 1073|                  199.99|                  1|             199.99|\n",
      "|            4|                  2|                  403|                  129.99|                  1|             129.99|\n",
      "|            6|                  4|                  365|                   59.99|                  5|             299.95|\n",
      "|            8|                  4|                 1014|                   49.98|                  4|             199.92|\n",
      "|            7|                  4|                  502|                    50.0|                  3|              150.0|\n",
      "|            5|                  4|                  897|                   24.99|                  2|              49.98|\n",
      "|            9|                  5|                  957|                  299.98|                  1|             299.98|\n",
      "|           12|                  5|                  957|                  299.98|                  1|             299.98|\n",
      "|           10|                  5|                  365|                   59.99|                  5|             299.95|\n",
      "|           13|                  5|                  403|                  129.99|                  1|             129.99|\n",
      "|           11|                  5|                 1014|                   49.98|                  2|              99.96|\n",
      "|           15|                  7|                  957|                  299.98|                  1|             299.98|\n",
      "|           14|                  7|                 1073|                  199.99|                  1|             199.99|\n",
      "|           16|                  7|                  926|                   15.99|                  5|              79.95|\n",
      "|           18|                  8|                  365|                   59.99|                  5|             299.95|\n",
      "|           19|                  8|                 1014|                   49.98|                  4|             199.92|\n",
      "|           17|                  8|                  365|                   59.99|                  3|             179.97|\n",
      "|           20|                  8|                  502|                    50.0|                  1|               50.0|\n",
      "+-------------+-------------------+---------------------+------------------------+-------------------+-------------------+\n",
      "only showing top 20 rows\n",
      "\n"
     ]
    }
   ],
   "source": [
    "spark.sql(\"SELECT * FROM order_items ORDER BY order_item_order_id, order_item_subtotal desc\").show() "
   ]
  },
  {
   "cell_type": "code",
   "execution_count": null,
   "id": "9ed1a955",
   "metadata": {},
   "outputs": [],
   "source": []
  }
 ],
 "metadata": {
  "kernelspec": {
   "display_name": "Python 3 (ipykernel)",
   "language": "python",
   "name": "python3"
  },
  "language_info": {
   "codemirror_mode": {
    "name": "ipython",
    "version": 3
   },
   "file_extension": ".py",
   "mimetype": "text/x-python",
   "name": "python",
   "nbconvert_exporter": "python",
   "pygments_lexer": "ipython3",
   "version": "3.9.13"
  }
 },
 "nbformat": 4,
 "nbformat_minor": 5
}
